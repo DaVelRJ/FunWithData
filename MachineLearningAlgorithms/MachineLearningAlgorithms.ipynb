{
 "cells": [
  {
   "cell_type": "markdown",
   "id": "4c683485",
   "metadata": {},
   "source": [
    "# Machine Learning Algorithms\n",
    "A simple script that analyses a data frame using fundamental statisical learning algorithms and a feed forward neural network. <br>\n",
    "Written by: Da'Vel Reed Johnson"
   ]
  },
  {
   "cell_type": "code",
   "execution_count": 1,
   "id": "489c7e18",
   "metadata": {},
   "outputs": [],
   "source": [
    "#Load Required Modules\n",
    "import os\n",
    "import pandas as pd \n",
    "import numpy as np\n",
    "import matplotlib.pyplot as plt\n",
    "import seaborn as sns\n",
    "%matplotlib inline\n",
    "\n",
    "\n",
    "#Ignore Unnecessary Warnings\n",
    "import warnings\n",
    "warnings.simplefilter(action='ignore', category=FutureWarning)\n",
    "\n",
    "#Set path\n",
    "main_path = os.path.dirname(os.path.abspath(\"__file__\"))"
   ]
  },
  {
   "cell_type": "code",
   "execution_count": 2,
   "id": "8f60bba0",
   "metadata": {},
   "outputs": [],
   "source": [
    "#Opening the data file\n",
    "filename = main_path + '/data/Employee.csv'\n",
    "\n",
    "df = pd.read_csv(filename)"
   ]
  },
  {
   "cell_type": "markdown",
   "id": "512f7a14",
   "metadata": {},
   "source": [
    "## Gathering information about the dataframe"
   ]
  },
  {
   "cell_type": "code",
   "execution_count": 3,
   "id": "169e8880",
   "metadata": {},
   "outputs": [
    {
     "name": "stdout",
     "output_type": "stream",
     "text": [
      "<class 'pandas.core.frame.DataFrame'>\n",
      "RangeIndex: 4653 entries, 0 to 4652\n",
      "Data columns (total 9 columns):\n",
      " #   Column                     Non-Null Count  Dtype \n",
      "---  ------                     --------------  ----- \n",
      " 0   Education                  4653 non-null   object\n",
      " 1   JoiningYear                4653 non-null   int64 \n",
      " 2   City                       4653 non-null   object\n",
      " 3   PaymentTier                4653 non-null   int64 \n",
      " 4   Age                        4653 non-null   int64 \n",
      " 5   Gender                     4653 non-null   object\n",
      " 6   EverBenched                4653 non-null   object\n",
      " 7   ExperienceInCurrentDomain  4653 non-null   int64 \n",
      " 8   LeaveOrNot                 4653 non-null   int64 \n",
      "dtypes: int64(5), object(4)\n",
      "memory usage: 327.3+ KB\n"
     ]
    }
   ],
   "source": [
    "df.info()"
   ]
  },
  {
   "cell_type": "code",
   "execution_count": 4,
   "id": "ee2fab03",
   "metadata": {},
   "outputs": [
    {
     "data": {
      "text/html": [
       "<div>\n",
       "<style scoped>\n",
       "    .dataframe tbody tr th:only-of-type {\n",
       "        vertical-align: middle;\n",
       "    }\n",
       "\n",
       "    .dataframe tbody tr th {\n",
       "        vertical-align: top;\n",
       "    }\n",
       "\n",
       "    .dataframe thead th {\n",
       "        text-align: right;\n",
       "    }\n",
       "</style>\n",
       "<table border=\"1\" class=\"dataframe\">\n",
       "  <thead>\n",
       "    <tr style=\"text-align: right;\">\n",
       "      <th></th>\n",
       "      <th>JoiningYear</th>\n",
       "      <th>PaymentTier</th>\n",
       "      <th>Age</th>\n",
       "      <th>ExperienceInCurrentDomain</th>\n",
       "      <th>LeaveOrNot</th>\n",
       "    </tr>\n",
       "  </thead>\n",
       "  <tbody>\n",
       "    <tr>\n",
       "      <th>count</th>\n",
       "      <td>4653.000000</td>\n",
       "      <td>4653.000000</td>\n",
       "      <td>4653.000000</td>\n",
       "      <td>4653.000000</td>\n",
       "      <td>4653.000000</td>\n",
       "    </tr>\n",
       "    <tr>\n",
       "      <th>mean</th>\n",
       "      <td>2015.062970</td>\n",
       "      <td>2.698259</td>\n",
       "      <td>29.393295</td>\n",
       "      <td>2.905652</td>\n",
       "      <td>0.343864</td>\n",
       "    </tr>\n",
       "    <tr>\n",
       "      <th>std</th>\n",
       "      <td>1.863377</td>\n",
       "      <td>0.561435</td>\n",
       "      <td>4.826087</td>\n",
       "      <td>1.558240</td>\n",
       "      <td>0.475047</td>\n",
       "    </tr>\n",
       "    <tr>\n",
       "      <th>min</th>\n",
       "      <td>2012.000000</td>\n",
       "      <td>1.000000</td>\n",
       "      <td>22.000000</td>\n",
       "      <td>0.000000</td>\n",
       "      <td>0.000000</td>\n",
       "    </tr>\n",
       "    <tr>\n",
       "      <th>25%</th>\n",
       "      <td>2013.000000</td>\n",
       "      <td>3.000000</td>\n",
       "      <td>26.000000</td>\n",
       "      <td>2.000000</td>\n",
       "      <td>0.000000</td>\n",
       "    </tr>\n",
       "    <tr>\n",
       "      <th>50%</th>\n",
       "      <td>2015.000000</td>\n",
       "      <td>3.000000</td>\n",
       "      <td>28.000000</td>\n",
       "      <td>3.000000</td>\n",
       "      <td>0.000000</td>\n",
       "    </tr>\n",
       "    <tr>\n",
       "      <th>75%</th>\n",
       "      <td>2017.000000</td>\n",
       "      <td>3.000000</td>\n",
       "      <td>32.000000</td>\n",
       "      <td>4.000000</td>\n",
       "      <td>1.000000</td>\n",
       "    </tr>\n",
       "    <tr>\n",
       "      <th>max</th>\n",
       "      <td>2018.000000</td>\n",
       "      <td>3.000000</td>\n",
       "      <td>41.000000</td>\n",
       "      <td>7.000000</td>\n",
       "      <td>1.000000</td>\n",
       "    </tr>\n",
       "  </tbody>\n",
       "</table>\n",
       "</div>"
      ],
      "text/plain": [
       "       JoiningYear  PaymentTier          Age  ExperienceInCurrentDomain  \\\n",
       "count  4653.000000  4653.000000  4653.000000                4653.000000   \n",
       "mean   2015.062970     2.698259    29.393295                   2.905652   \n",
       "std       1.863377     0.561435     4.826087                   1.558240   \n",
       "min    2012.000000     1.000000    22.000000                   0.000000   \n",
       "25%    2013.000000     3.000000    26.000000                   2.000000   \n",
       "50%    2015.000000     3.000000    28.000000                   3.000000   \n",
       "75%    2017.000000     3.000000    32.000000                   4.000000   \n",
       "max    2018.000000     3.000000    41.000000                   7.000000   \n",
       "\n",
       "        LeaveOrNot  \n",
       "count  4653.000000  \n",
       "mean      0.343864  \n",
       "std       0.475047  \n",
       "min       0.000000  \n",
       "25%       0.000000  \n",
       "50%       0.000000  \n",
       "75%       1.000000  \n",
       "max       1.000000  "
      ]
     },
     "execution_count": 4,
     "metadata": {},
     "output_type": "execute_result"
    }
   ],
   "source": [
    "df.describe()"
   ]
  },
  {
   "cell_type": "code",
   "execution_count": 5,
   "id": "e33ac53e",
   "metadata": {},
   "outputs": [
    {
     "data": {
      "text/html": [
       "<div>\n",
       "<style scoped>\n",
       "    .dataframe tbody tr th:only-of-type {\n",
       "        vertical-align: middle;\n",
       "    }\n",
       "\n",
       "    .dataframe tbody tr th {\n",
       "        vertical-align: top;\n",
       "    }\n",
       "\n",
       "    .dataframe thead th {\n",
       "        text-align: right;\n",
       "    }\n",
       "</style>\n",
       "<table border=\"1\" class=\"dataframe\">\n",
       "  <thead>\n",
       "    <tr style=\"text-align: right;\">\n",
       "      <th></th>\n",
       "      <th>Education</th>\n",
       "      <th>JoiningYear</th>\n",
       "      <th>City</th>\n",
       "      <th>PaymentTier</th>\n",
       "      <th>Age</th>\n",
       "      <th>Gender</th>\n",
       "      <th>EverBenched</th>\n",
       "      <th>ExperienceInCurrentDomain</th>\n",
       "      <th>LeaveOrNot</th>\n",
       "    </tr>\n",
       "  </thead>\n",
       "  <tbody>\n",
       "    <tr>\n",
       "      <th>0</th>\n",
       "      <td>Bachelors</td>\n",
       "      <td>2017</td>\n",
       "      <td>Bangalore</td>\n",
       "      <td>3</td>\n",
       "      <td>34</td>\n",
       "      <td>Male</td>\n",
       "      <td>No</td>\n",
       "      <td>0</td>\n",
       "      <td>0</td>\n",
       "    </tr>\n",
       "    <tr>\n",
       "      <th>1</th>\n",
       "      <td>Bachelors</td>\n",
       "      <td>2013</td>\n",
       "      <td>Pune</td>\n",
       "      <td>1</td>\n",
       "      <td>28</td>\n",
       "      <td>Female</td>\n",
       "      <td>No</td>\n",
       "      <td>3</td>\n",
       "      <td>1</td>\n",
       "    </tr>\n",
       "    <tr>\n",
       "      <th>2</th>\n",
       "      <td>Bachelors</td>\n",
       "      <td>2014</td>\n",
       "      <td>New Delhi</td>\n",
       "      <td>3</td>\n",
       "      <td>38</td>\n",
       "      <td>Female</td>\n",
       "      <td>No</td>\n",
       "      <td>2</td>\n",
       "      <td>0</td>\n",
       "    </tr>\n",
       "    <tr>\n",
       "      <th>3</th>\n",
       "      <td>Masters</td>\n",
       "      <td>2016</td>\n",
       "      <td>Bangalore</td>\n",
       "      <td>3</td>\n",
       "      <td>27</td>\n",
       "      <td>Male</td>\n",
       "      <td>No</td>\n",
       "      <td>5</td>\n",
       "      <td>1</td>\n",
       "    </tr>\n",
       "    <tr>\n",
       "      <th>4</th>\n",
       "      <td>Masters</td>\n",
       "      <td>2017</td>\n",
       "      <td>Pune</td>\n",
       "      <td>3</td>\n",
       "      <td>24</td>\n",
       "      <td>Male</td>\n",
       "      <td>Yes</td>\n",
       "      <td>2</td>\n",
       "      <td>1</td>\n",
       "    </tr>\n",
       "  </tbody>\n",
       "</table>\n",
       "</div>"
      ],
      "text/plain": [
       "   Education  JoiningYear       City  PaymentTier  Age  Gender EverBenched  \\\n",
       "0  Bachelors         2017  Bangalore            3   34    Male          No   \n",
       "1  Bachelors         2013       Pune            1   28  Female          No   \n",
       "2  Bachelors         2014  New Delhi            3   38  Female          No   \n",
       "3    Masters         2016  Bangalore            3   27    Male          No   \n",
       "4    Masters         2017       Pune            3   24    Male         Yes   \n",
       "\n",
       "   ExperienceInCurrentDomain  LeaveOrNot  \n",
       "0                          0           0  \n",
       "1                          3           1  \n",
       "2                          2           0  \n",
       "3                          5           1  \n",
       "4                          2           1  "
      ]
     },
     "execution_count": 5,
     "metadata": {},
     "output_type": "execute_result"
    }
   ],
   "source": [
    "df.head()"
   ]
  },
  {
   "cell_type": "markdown",
   "id": "ec671621",
   "metadata": {},
   "source": [
    "## Base plots and graphics"
   ]
  },
  {
   "cell_type": "code",
   "execution_count": 6,
   "id": "05198842",
   "metadata": {},
   "outputs": [
    {
     "data": {
      "image/png": "[encoded data removed]",
      "text/plain": [
       "<Figure size 640x480 with 1 Axes>"
      ]
     },
     "metadata": {},
     "output_type": "display_data"
    }
   ],
   "source": [
    "p = sns.countplot(data=df, x = 'City')"
   ]
  },
  {
   "cell_type": "code",
   "execution_count": 7,
   "id": "b7956f20",
   "metadata": {},
   "outputs": [
    {
     "data": {
      "text/plain": [
       "array([[<AxesSubplot:title={'center':'Age'}>]], dtype=object)"
      ]
     },
     "execution_count": 7,
     "metadata": {},
     "output_type": "execute_result"
    },
    {
     "data": {
      "image/png": "[encoded data removed]",
      "text/plain": [
       "<Figure size 640x480 with 1 Axes>"
      ]
     },
     "metadata": {},
     "output_type": "display_data"
    }
   ],
   "source": [
    "df.hist(column='Age')"
   ]
  },
  {
   "cell_type": "code",
   "execution_count": 8,
   "id": "8466dc05",
   "metadata": {},
   "outputs": [
    {
     "data": {
      "image/png": "[encoded data removed]",
      "text/plain": [
       "<Figure size 800x400 with 1 Axes>"
      ]
     },
     "metadata": {},
     "output_type": "display_data"
    }
   ],
   "source": [
    "from scipy.stats import gaussian_kde\n",
    "\n",
    "# Create histogram data\n",
    "hist_counts, bin_edges = np.histogram(df['Age'], bins=10, density=True)\n",
    "bin_centers = 0.5 * (bin_edges[1:] + bin_edges[:-1])\n",
    "\n",
    "# Adjust the bandwidth\n",
    "bandwidth_factor = 0.1  # Adjust this factor as needed (less than 1 for smaller bandwidth)\n",
    "\n",
    "# Estimate KDE\n",
    "kde = gaussian_kde(df['Age'], bw_method=bandwidth_factor)\n",
    "kde_values = kde(bin_centers)\n",
    "\n",
    "# Plot histogram and KDE\n",
    "plt.figure(figsize=(8, 4))\n",
    "plt.hist(df['Age'], bins=10, density=True, alpha=0.5, label='Histogram')\n",
    "plt.plot(bin_centers, kde_values, label='KDE')\n",
    "plt.legend()\n",
    "plt.show()"
   ]
  },
  {
   "cell_type": "code",
   "execution_count": 9,
   "id": "8b756395",
   "metadata": {},
   "outputs": [
    {
     "data": {
      "text/plain": [
       "<AxesSubplot:ylabel='Education'>"
      ]
     },
     "execution_count": 9,
     "metadata": {},
     "output_type": "execute_result"
    },
    {
     "data": {
      "image/png": "[encoded data removed]",
      "text/plain": [
       "<Figure size 800x700 with 1 Axes>"
      ]
     },
     "metadata": {},
     "output_type": "display_data"
    }
   ],
   "source": [
    "df['Education'].value_counts().plot(kind='pie',figsize=(8, 7), autopct='%1.1f%%',pctdistance=1.1,labeldistance=1.2)"
   ]
  },
  {
   "cell_type": "code",
   "execution_count": 10,
   "id": "481cd4da",
   "metadata": {},
   "outputs": [
    {
     "data": {
      "text/plain": [
       "Education                    0\n",
       "JoiningYear                  0\n",
       "City                         0\n",
       "PaymentTier                  0\n",
       "Age                          0\n",
       "Gender                       0\n",
       "EverBenched                  0\n",
       "ExperienceInCurrentDomain    0\n",
       "LeaveOrNot                   0\n",
       "dtype: int64"
      ]
     },
     "execution_count": 10,
     "metadata": {},
     "output_type": "execute_result"
    }
   ],
   "source": [
    "#Check to see if there are any empty entries\n",
    "df.isnull().sum()"
   ]
  },
  {
   "cell_type": "markdown",
   "id": "ad4f9d4f",
   "metadata": {},
   "source": [
    "# Preparing Data for model training"
   ]
  },
  {
   "cell_type": "code",
   "execution_count": 11,
   "id": "fdb55f68",
   "metadata": {},
   "outputs": [],
   "source": [
    "#Assigning features and classes to training variables\n",
    "X = df[['Education','JoiningYear','PaymentTier','Gender','EverBenched','Age','ExperienceInCurrentDomain']]\n",
    "y = df['LeaveOrNot']"
   ]
  },
  {
   "cell_type": "code",
   "execution_count": 12,
   "id": "c9fe9f2a",
   "metadata": {},
   "outputs": [],
   "source": [
    "#Creating dummy variables from categorical variables for numerical analysis\n",
    "df_dummies = pd.get_dummies(X)"
   ]
  },
  {
   "cell_type": "code",
   "execution_count": 13,
   "id": "37a02650",
   "metadata": {},
   "outputs": [
    {
     "data": {
      "text/html": [
       "<div>\n",
       "<style scoped>\n",
       "    .dataframe tbody tr th:only-of-type {\n",
       "        vertical-align: middle;\n",
       "    }\n",
       "\n",
       "    .dataframe tbody tr th {\n",
       "        vertical-align: top;\n",
       "    }\n",
       "\n",
       "    .dataframe thead th {\n",
       "        text-align: right;\n",
       "    }\n",
       "</style>\n",
       "<table border=\"1\" class=\"dataframe\">\n",
       "  <thead>\n",
       "    <tr style=\"text-align: right;\">\n",
       "      <th></th>\n",
       "      <th>JoiningYear</th>\n",
       "      <th>PaymentTier</th>\n",
       "      <th>Age</th>\n",
       "      <th>ExperienceInCurrentDomain</th>\n",
       "      <th>Education_Bachelors</th>\n",
       "      <th>Education_Masters</th>\n",
       "      <th>Education_PHD</th>\n",
       "      <th>Gender_Female</th>\n",
       "      <th>Gender_Male</th>\n",
       "      <th>EverBenched_No</th>\n",
       "      <th>EverBenched_Yes</th>\n",
       "    </tr>\n",
       "  </thead>\n",
       "  <tbody>\n",
       "    <tr>\n",
       "      <th>0</th>\n",
       "      <td>2017</td>\n",
       "      <td>3</td>\n",
       "      <td>34</td>\n",
       "      <td>0</td>\n",
       "      <td>1</td>\n",
       "      <td>0</td>\n",
       "      <td>0</td>\n",
       "      <td>0</td>\n",
       "      <td>1</td>\n",
       "      <td>1</td>\n",
       "      <td>0</td>\n",
       "    </tr>\n",
       "    <tr>\n",
       "      <th>1</th>\n",
       "      <td>2013</td>\n",
       "      <td>1</td>\n",
       "      <td>28</td>\n",
       "      <td>3</td>\n",
       "      <td>1</td>\n",
       "      <td>0</td>\n",
       "      <td>0</td>\n",
       "      <td>1</td>\n",
       "      <td>0</td>\n",
       "      <td>1</td>\n",
       "      <td>0</td>\n",
       "    </tr>\n",
       "    <tr>\n",
       "      <th>2</th>\n",
       "      <td>2014</td>\n",
       "      <td>3</td>\n",
       "      <td>38</td>\n",
       "      <td>2</td>\n",
       "      <td>1</td>\n",
       "      <td>0</td>\n",
       "      <td>0</td>\n",
       "      <td>1</td>\n",
       "      <td>0</td>\n",
       "      <td>1</td>\n",
       "      <td>0</td>\n",
       "    </tr>\n",
       "    <tr>\n",
       "      <th>3</th>\n",
       "      <td>2016</td>\n",
       "      <td>3</td>\n",
       "      <td>27</td>\n",
       "      <td>5</td>\n",
       "      <td>0</td>\n",
       "      <td>1</td>\n",
       "      <td>0</td>\n",
       "      <td>0</td>\n",
       "      <td>1</td>\n",
       "      <td>1</td>\n",
       "      <td>0</td>\n",
       "    </tr>\n",
       "    <tr>\n",
       "      <th>4</th>\n",
       "      <td>2017</td>\n",
       "      <td>3</td>\n",
       "      <td>24</td>\n",
       "      <td>2</td>\n",
       "      <td>0</td>\n",
       "      <td>1</td>\n",
       "      <td>0</td>\n",
       "      <td>0</td>\n",
       "      <td>1</td>\n",
       "      <td>0</td>\n",
       "      <td>1</td>\n",
       "    </tr>\n",
       "  </tbody>\n",
       "</table>\n",
       "</div>"
      ],
      "text/plain": [
       "   JoiningYear  PaymentTier  Age  ExperienceInCurrentDomain  \\\n",
       "0         2017            3   34                          0   \n",
       "1         2013            1   28                          3   \n",
       "2         2014            3   38                          2   \n",
       "3         2016            3   27                          5   \n",
       "4         2017            3   24                          2   \n",
       "\n",
       "   Education_Bachelors  Education_Masters  Education_PHD  Gender_Female  \\\n",
       "0                    1                  0              0              0   \n",
       "1                    1                  0              0              1   \n",
       "2                    1                  0              0              1   \n",
       "3                    0                  1              0              0   \n",
       "4                    0                  1              0              0   \n",
       "\n",
       "   Gender_Male  EverBenched_No  EverBenched_Yes  \n",
       "0            1               1                0  \n",
       "1            0               1                0  \n",
       "2            0               1                0  \n",
       "3            1               1                0  \n",
       "4            1               0                1  "
      ]
     },
     "execution_count": 13,
     "metadata": {},
     "output_type": "execute_result"
    }
   ],
   "source": [
    "df_dummies.head()"
   ]
  },
  {
   "cell_type": "code",
   "execution_count": 14,
   "id": "d880b153",
   "metadata": {},
   "outputs": [
    {
     "name": "stdout",
     "output_type": "stream",
     "text": [
      "Number of columns before deleting: 11\n",
      "Number of columns after deleting: 9\n"
     ]
    }
   ],
   "source": [
    "# Removing Gender and EverBenched for duplication\n",
    "print(f\"Number of columns before deleting: {df_dummies.shape[1]}\")\n",
    "\n",
    "del_cols = ['Gender_Male','EverBenched_No']\n",
    "df_dummies.drop(labels = del_cols,axis = 1,inplace = True)\n",
    "print(f\"Number of columns after deleting: {df_dummies.shape[1]}\")"
   ]
  },
  {
   "cell_type": "code",
   "execution_count": 15,
   "id": "dcf89ec4",
   "metadata": {},
   "outputs": [],
   "source": [
    "#Normalizing data for processing\n",
    "from sklearn.preprocessing import StandardScaler\n",
    "scaler = StandardScaler()\n",
    "df_normalized = pd.DataFrame(scaler.fit_transform(df_dummies), columns=df_dummies.columns)"
   ]
  },
  {
   "cell_type": "code",
   "execution_count": 16,
   "id": "914eaac1",
   "metadata": {},
   "outputs": [
    {
     "data": {
      "text/html": [
       "<div>\n",
       "<style scoped>\n",
       "    .dataframe tbody tr th:only-of-type {\n",
       "        vertical-align: middle;\n",
       "    }\n",
       "\n",
       "    .dataframe tbody tr th {\n",
       "        vertical-align: top;\n",
       "    }\n",
       "\n",
       "    .dataframe thead th {\n",
       "        text-align: right;\n",
       "    }\n",
       "</style>\n",
       "<table border=\"1\" class=\"dataframe\">\n",
       "  <thead>\n",
       "    <tr style=\"text-align: right;\">\n",
       "      <th></th>\n",
       "      <th>JoiningYear</th>\n",
       "      <th>PaymentTier</th>\n",
       "      <th>Age</th>\n",
       "      <th>ExperienceInCurrentDomain</th>\n",
       "      <th>Education_Bachelors</th>\n",
       "      <th>Education_Masters</th>\n",
       "      <th>Education_PHD</th>\n",
       "      <th>Gender_Female</th>\n",
       "      <th>EverBenched_Yes</th>\n",
       "    </tr>\n",
       "  </thead>\n",
       "  <tbody>\n",
       "    <tr>\n",
       "      <th>0</th>\n",
       "      <td>1.039638</td>\n",
       "      <td>0.537503</td>\n",
       "      <td>0.954645</td>\n",
       "      <td>-1.864901</td>\n",
       "      <td>0.540501</td>\n",
       "      <td>-0.480575</td>\n",
       "      <td>-0.200022</td>\n",
       "      <td>-0.821551</td>\n",
       "      <td>-0.338365</td>\n",
       "    </tr>\n",
       "    <tr>\n",
       "      <th>1</th>\n",
       "      <td>-1.107233</td>\n",
       "      <td>-3.025177</td>\n",
       "      <td>-0.288732</td>\n",
       "      <td>0.060554</td>\n",
       "      <td>0.540501</td>\n",
       "      <td>-0.480575</td>\n",
       "      <td>-0.200022</td>\n",
       "      <td>1.217210</td>\n",
       "      <td>-0.338365</td>\n",
       "    </tr>\n",
       "    <tr>\n",
       "      <th>2</th>\n",
       "      <td>-0.570515</td>\n",
       "      <td>0.537503</td>\n",
       "      <td>1.783563</td>\n",
       "      <td>-0.581264</td>\n",
       "      <td>0.540501</td>\n",
       "      <td>-0.480575</td>\n",
       "      <td>-0.200022</td>\n",
       "      <td>1.217210</td>\n",
       "      <td>-0.338365</td>\n",
       "    </tr>\n",
       "    <tr>\n",
       "      <th>3</th>\n",
       "      <td>0.502921</td>\n",
       "      <td>0.537503</td>\n",
       "      <td>-0.495961</td>\n",
       "      <td>1.344191</td>\n",
       "      <td>-1.850136</td>\n",
       "      <td>2.080840</td>\n",
       "      <td>-0.200022</td>\n",
       "      <td>-0.821551</td>\n",
       "      <td>-0.338365</td>\n",
       "    </tr>\n",
       "    <tr>\n",
       "      <th>4</th>\n",
       "      <td>1.039638</td>\n",
       "      <td>0.537503</td>\n",
       "      <td>-1.117650</td>\n",
       "      <td>-0.581264</td>\n",
       "      <td>-1.850136</td>\n",
       "      <td>2.080840</td>\n",
       "      <td>-0.200022</td>\n",
       "      <td>-0.821551</td>\n",
       "      <td>2.955387</td>\n",
       "    </tr>\n",
       "  </tbody>\n",
       "</table>\n",
       "</div>"
      ],
      "text/plain": [
       "   JoiningYear  PaymentTier       Age  ExperienceInCurrentDomain  \\\n",
       "0     1.039638     0.537503  0.954645                  -1.864901   \n",
       "1    -1.107233    -3.025177 -0.288732                   0.060554   \n",
       "2    -0.570515     0.537503  1.783563                  -0.581264   \n",
       "3     0.502921     0.537503 -0.495961                   1.344191   \n",
       "4     1.039638     0.537503 -1.117650                  -0.581264   \n",
       "\n",
       "   Education_Bachelors  Education_Masters  Education_PHD  Gender_Female  \\\n",
       "0             0.540501          -0.480575      -0.200022      -0.821551   \n",
       "1             0.540501          -0.480575      -0.200022       1.217210   \n",
       "2             0.540501          -0.480575      -0.200022       1.217210   \n",
       "3            -1.850136           2.080840      -0.200022      -0.821551   \n",
       "4            -1.850136           2.080840      -0.200022      -0.821551   \n",
       "\n",
       "   EverBenched_Yes  \n",
       "0        -0.338365  \n",
       "1        -0.338365  \n",
       "2        -0.338365  \n",
       "3        -0.338365  \n",
       "4         2.955387  "
      ]
     },
     "execution_count": 16,
     "metadata": {},
     "output_type": "execute_result"
    }
   ],
   "source": [
    "df_normalized.head()"
   ]
  },
  {
   "cell_type": "code",
   "execution_count": 17,
   "id": "6e442f50",
   "metadata": {},
   "outputs": [],
   "source": [
    "#Converting the dependent variable to binary \n",
    "dy = pd.get_dummies(y)"
   ]
  },
  {
   "cell_type": "code",
   "execution_count": 18,
   "id": "9bd978b8",
   "metadata": {},
   "outputs": [
    {
     "data": {
      "text/html": [
       "<div>\n",
       "<style scoped>\n",
       "    .dataframe tbody tr th:only-of-type {\n",
       "        vertical-align: middle;\n",
       "    }\n",
       "\n",
       "    .dataframe tbody tr th {\n",
       "        vertical-align: top;\n",
       "    }\n",
       "\n",
       "    .dataframe thead th {\n",
       "        text-align: right;\n",
       "    }\n",
       "</style>\n",
       "<table border=\"1\" class=\"dataframe\">\n",
       "  <thead>\n",
       "    <tr style=\"text-align: right;\">\n",
       "      <th></th>\n",
       "      <th>0</th>\n",
       "      <th>1</th>\n",
       "    </tr>\n",
       "  </thead>\n",
       "  <tbody>\n",
       "    <tr>\n",
       "      <th>0</th>\n",
       "      <td>1</td>\n",
       "      <td>0</td>\n",
       "    </tr>\n",
       "    <tr>\n",
       "      <th>1</th>\n",
       "      <td>0</td>\n",
       "      <td>1</td>\n",
       "    </tr>\n",
       "    <tr>\n",
       "      <th>2</th>\n",
       "      <td>1</td>\n",
       "      <td>0</td>\n",
       "    </tr>\n",
       "    <tr>\n",
       "      <th>3</th>\n",
       "      <td>0</td>\n",
       "      <td>1</td>\n",
       "    </tr>\n",
       "    <tr>\n",
       "      <th>4</th>\n",
       "      <td>0</td>\n",
       "      <td>1</td>\n",
       "    </tr>\n",
       "  </tbody>\n",
       "</table>\n",
       "</div>"
      ],
      "text/plain": [
       "   0  1\n",
       "0  1  0\n",
       "1  0  1\n",
       "2  1  0\n",
       "3  0  1\n",
       "4  0  1"
      ]
     },
     "execution_count": 18,
     "metadata": {},
     "output_type": "execute_result"
    }
   ],
   "source": [
    "dy.head()"
   ]
  },
  {
   "cell_type": "code",
   "execution_count": 19,
   "id": "47f733d9",
   "metadata": {},
   "outputs": [
    {
     "data": {
      "text/plain": [
       "Int64Index([0, 1], dtype='int64')"
      ]
     },
     "execution_count": 19,
     "metadata": {},
     "output_type": "execute_result"
    }
   ],
   "source": [
    "dy.columns"
   ]
  },
  {
   "cell_type": "code",
   "execution_count": 20,
   "id": "6a745582",
   "metadata": {},
   "outputs": [],
   "source": [
    "dummyy = dy[1]"
   ]
  },
  {
   "cell_type": "code",
   "execution_count": 21,
   "id": "f19d4bbf",
   "metadata": {},
   "outputs": [
    {
     "data": {
      "text/plain": [
       "0    0\n",
       "1    1\n",
       "2    0\n",
       "3    1\n",
       "4    1\n",
       "Name: 1, dtype: uint8"
      ]
     },
     "execution_count": 21,
     "metadata": {},
     "output_type": "execute_result"
    }
   ],
   "source": [
    "dummyy.head()"
   ]
  },
  {
   "cell_type": "markdown",
   "id": "f4e38432",
   "metadata": {},
   "source": [
    "## Training and Running Fundamental Models"
   ]
  },
  {
   "cell_type": "code",
   "execution_count": 22,
   "id": "c402269e",
   "metadata": {},
   "outputs": [],
   "source": [
    "from sklearn.model_selection import train_test_split"
   ]
  },
  {
   "cell_type": "code",
   "execution_count": 23,
   "id": "6c3f9f13",
   "metadata": {},
   "outputs": [],
   "source": [
    "X_train, X_test, y_train, y_test = train_test_split(df_normalized, dummyy, test_size=0.3, stratify=y)"
   ]
  },
  {
   "cell_type": "markdown",
   "id": "3d527e16",
   "metadata": {},
   "source": [
    "### Gaussian Naive Bayes"
   ]
  },
  {
   "cell_type": "code",
   "execution_count": 24,
   "id": "a686825d",
   "metadata": {},
   "outputs": [],
   "source": [
    "from sklearn.model_selection import train_test_split\n",
    "from sklearn.naive_bayes import GaussianNB\n",
    "from sklearn.metrics import classification_report"
   ]
  },
  {
   "cell_type": "code",
   "execution_count": 25,
   "id": "17420d4b",
   "metadata": {},
   "outputs": [
    {
     "data": {
      "text/plain": [
       "GaussianNB()"
      ]
     },
     "execution_count": 25,
     "metadata": {},
     "output_type": "execute_result"
    }
   ],
   "source": [
    "# Fit train set for Gaussian Naive Bayes\n",
    "GNB = GaussianNB()\n",
    "GNB.fit(X_train,y_train)"
   ]
  },
  {
   "cell_type": "code",
   "execution_count": 26,
   "id": "bd248377",
   "metadata": {},
   "outputs": [
    {
     "name": "stdout",
     "output_type": "stream",
     "text": [
      "              precision    recall  f1-score   support\n",
      "\n",
      "           0       0.70      0.73      0.72       916\n",
      "           1       0.44      0.40      0.42       480\n",
      "\n",
      "    accuracy                           0.62      1396\n",
      "   macro avg       0.57      0.57      0.57      1396\n",
      "weighted avg       0.61      0.62      0.61      1396\n",
      "\n"
     ]
    }
   ],
   "source": [
    "# Predict for test set\n",
    "GNBy_pred = GNB.predict(X_test)\n",
    "print(classification_report(y_test,GNBy_pred))"
   ]
  },
  {
   "cell_type": "markdown",
   "id": "22fef079",
   "metadata": {},
   "source": [
    "### Random Forest Classifier"
   ]
  },
  {
   "cell_type": "code",
   "execution_count": 27,
   "id": "ccbb45e2",
   "metadata": {},
   "outputs": [],
   "source": [
    "from sklearn.ensemble import RandomForestClassifier"
   ]
  },
  {
   "cell_type": "code",
   "execution_count": 28,
   "id": "f5661692",
   "metadata": {},
   "outputs": [
    {
     "data": {
      "text/plain": [
       "RandomForestClassifier(max_features='sqrt', n_estimators=600, n_jobs=-1,\n",
       "                       oob_score=True)"
      ]
     },
     "execution_count": 28,
     "metadata": {},
     "output_type": "execute_result"
    }
   ],
   "source": [
    "rfc = RandomForestClassifier(n_estimators=600, max_features='sqrt' , oob_score=True, random_state=None, n_jobs=-1)\n",
    "rfc.fit(X_train,y_train)"
   ]
  },
  {
   "cell_type": "code",
   "execution_count": 29,
   "id": "034b2320",
   "metadata": {},
   "outputs": [],
   "source": [
    "predictions = rfc.predict(X_test)"
   ]
  },
  {
   "cell_type": "code",
   "execution_count": 30,
   "id": "7ca14e3e",
   "metadata": {},
   "outputs": [
    {
     "name": "stdout",
     "output_type": "stream",
     "text": [
      "              precision    recall  f1-score   support\n",
      "\n",
      "           0       0.81      0.89      0.85       916\n",
      "           1       0.75      0.61      0.67       480\n",
      "\n",
      "    accuracy                           0.80      1396\n",
      "   macro avg       0.78      0.75      0.76      1396\n",
      "weighted avg       0.79      0.80      0.79      1396\n",
      "\n"
     ]
    }
   ],
   "source": [
    "from sklearn.metrics import classification_report,confusion_matrix\n",
    "print(classification_report(y_test,predictions))"
   ]
  },
  {
   "cell_type": "code",
   "execution_count": 31,
   "id": "ba487c8d",
   "metadata": {},
   "outputs": [
    {
     "name": "stdout",
     "output_type": "stream",
     "text": [
      "[[817  99]\n",
      " [186 294]]\n"
     ]
    }
   ],
   "source": [
    "print(confusion_matrix(y_test,predictions))"
   ]
  },
  {
   "cell_type": "markdown",
   "id": "ba8b7f39",
   "metadata": {},
   "source": [
    "#### Plotting feature importance"
   ]
  },
  {
   "cell_type": "code",
   "execution_count": 32,
   "id": "1bf6b0a6",
   "metadata": {},
   "outputs": [
    {
     "data": {
      "text/plain": [
       "array([0.36993883, 0.15279381, 0.20232763, 0.10050123, 0.03074463,\n",
       "       0.03901756, 0.0093493 , 0.07130973, 0.02401728])"
      ]
     },
     "execution_count": 32,
     "metadata": {},
     "output_type": "execute_result"
    }
   ],
   "source": [
    "rfc.feature_importances_"
   ]
  },
  {
   "cell_type": "code",
   "execution_count": 33,
   "id": "b2a8a38b",
   "metadata": {},
   "outputs": [],
   "source": [
    "def plot_feature_importance(importance,names,model_type):\n",
    "\n",
    "#Create arrays from feature importance and feature names\n",
    "    feature_importance = np.array(importance)\n",
    "    feature_names = np.array(names)\n",
    "\n",
    "#Create a DataFrame using a Dictionary\n",
    "    data={'feature_names':feature_names,'feature_importance':feature_importance}\n",
    "    fi_df = pd.DataFrame(data)\n",
    "\n",
    "#Sort the DataFrame in order decreasing feature importance\n",
    "    fi_df.sort_values(by=['feature_importance'], ascending=False,inplace=True)\n",
    "\n",
    "#Define size of bar plot\n",
    "    plt.figure(figsize=(100,80))\n",
    "#Plot Searborn bar chart\n",
    "    sns.barplot(x=fi_df['feature_importance'], y=fi_df['feature_names'])\n",
    "#Add chart labels\n",
    "    plt.title(model_type + 'FEATURE IMPORTANCE')\n",
    "    plt.xlabel('FEATURE IMPORTANCE')\n",
    "    plt.ylabel('FEATURE NAMES')"
   ]
  },
  {
   "cell_type": "code",
   "execution_count": 34,
   "id": "35fbc78d",
   "metadata": {},
   "outputs": [
    {
     "data": {
      "image/png": "[encoded data removed]",
      "text/plain": [
       "<Figure size 500x400 with 1 Axes>"
      ]
     },
     "metadata": {},
     "output_type": "display_data"
    }
   ],
   "source": [
    "plot_feature_importance(rfc.feature_importances_, X_train.columns, 'RANDOM FOREST')\n",
    "plt.title('Random Forest Feature Importance', fontsize=15) \n",
    "plt.xlabel('Feature Importance', fontsize=12)\n",
    "plt.ylabel('Feature Names', fontsize=12)\n",
    "fig = plt.gcf()\n",
    "fig.set_size_inches(5, 4)\n",
    "plt.show()"
   ]
  },
  {
   "cell_type": "markdown",
   "id": "46439f5e",
   "metadata": {},
   "source": [
    "### Gradient Boosting Classifier"
   ]
  },
  {
   "cell_type": "code",
   "execution_count": 35,
   "id": "2486f7a1",
   "metadata": {},
   "outputs": [],
   "source": [
    "from sklearn.metrics import mean_squared_error as MSE\n",
    "from sklearn.ensemble import GradientBoostingClassifier\n",
    "from sklearn.ensemble import GradientBoostingRegressor\n",
    "\n",
    "gb = GradientBoostingClassifier(n_estimators=300,\n",
    "                               max_depth=2,\n",
    "                               learning_rate=0.8)\n",
    "\n",
    "gb.fit(X_train, y_train)\n",
    "gby_pred = gb.predict(X_test)"
   ]
  },
  {
   "cell_type": "markdown",
   "id": "377e9e0a",
   "metadata": {},
   "source": [
    "#### Finding optimal hyperparameters"
   ]
  },
  {
   "cell_type": "code",
   "execution_count": 36,
   "id": "99bf05a3",
   "metadata": {},
   "outputs": [
    {
     "name": "stdout",
     "output_type": "stream",
     "text": [
      "Optimal hyperparameter combination: {'n_estimators': 300, 'max_depth': 2, 'learning_rate': 0.5}\n"
     ]
    }
   ],
   "source": [
    "hyperparameter_space = {'n_estimators':[300, 350, 400, 450, 500], \n",
    "                        'learning_rate':[0.1, 0.2, 0.3, 0.4, 0.5, 0.6, 0.7, 0.8, 0.9, 1.0],\n",
    "                        'max_depth':[1, 2]}\n",
    "\n",
    "from sklearn.model_selection import RandomizedSearchCV\n",
    "\n",
    "rs = RandomizedSearchCV(GradientBoostingClassifier(), \n",
    "                        param_distributions=hyperparameter_space,\n",
    "                        n_iter=10, scoring=\"neg_root_mean_squared_error\", \n",
    "                        random_state=None, n_jobs=-1, cv=5)\n",
    "\n",
    "\n",
    "rs.fit(X_train, y_train)\n",
    "print(\"Optimal hyperparameter combination:\", rs.best_params_)"
   ]
  },
  {
   "cell_type": "code",
   "execution_count": 37,
   "id": "6244f643",
   "metadata": {},
   "outputs": [
    {
     "name": "stdout",
     "output_type": "stream",
     "text": [
      "              precision    recall  f1-score   support\n",
      "\n",
      "           0       0.81      0.92      0.86       916\n",
      "           1       0.79      0.57      0.67       480\n",
      "\n",
      "    accuracy                           0.80      1396\n",
      "   macro avg       0.80      0.75      0.76      1396\n",
      "weighted avg       0.80      0.80      0.79      1396\n",
      "\n"
     ]
    }
   ],
   "source": [
    "print(classification_report(y_test,gby_pred))"
   ]
  },
  {
   "cell_type": "code",
   "execution_count": 38,
   "id": "d9d90e29",
   "metadata": {},
   "outputs": [
    {
     "name": "stdout",
     "output_type": "stream",
     "text": [
      "[[843  73]\n",
      " [204 276]]\n"
     ]
    }
   ],
   "source": [
    "print(confusion_matrix(y_test,gby_pred))"
   ]
  },
  {
   "cell_type": "markdown",
   "id": "06ac55a3",
   "metadata": {},
   "source": [
    "### Extreme Gradient Boosting Classifier"
   ]
  },
  {
   "cell_type": "code",
   "execution_count": 39,
   "id": "b9142678",
   "metadata": {},
   "outputs": [],
   "source": [
    "from xgboost import XGBClassifier\n",
    "from sklearn.metrics import accuracy_score"
   ]
  },
  {
   "cell_type": "code",
   "execution_count": 40,
   "id": "0cb97bd9",
   "metadata": {},
   "outputs": [],
   "source": [
    "xgb = XGBClassifier()\n",
    "#XGB\n",
    "xgb.fit(X_train,y_train)\n",
    "y_pred_xgb = xgb.predict(X_test)"
   ]
  },
  {
   "cell_type": "code",
   "execution_count": 41,
   "id": "92aea4a6",
   "metadata": {},
   "outputs": [
    {
     "name": "stdout",
     "output_type": "stream",
     "text": [
      "              precision    recall  f1-score   support\n",
      "\n",
      "           0       0.82      0.91      0.86       916\n",
      "           1       0.79      0.61      0.69       480\n",
      "\n",
      "    accuracy                           0.81      1396\n",
      "   macro avg       0.80      0.76      0.77      1396\n",
      "weighted avg       0.81      0.81      0.80      1396\n",
      "\n",
      "[[838  78]\n",
      " [189 291]]\n"
     ]
    }
   ],
   "source": [
    "print(classification_report(y_test,y_pred_xgb))\n",
    "print(confusion_matrix(y_test,y_pred_xgb))"
   ]
  },
  {
   "cell_type": "code",
   "execution_count": 42,
   "id": "8ea2ca00",
   "metadata": {},
   "outputs": [
    {
     "name": "stdout",
     "output_type": "stream",
     "text": [
      "Fitting 3 folds for each of 25 candidates, totalling 75 fits\n",
      "Fitting 3 folds for each of 25 candidates, totalling 75 fits\n",
      "Optimal hyperparameter combination: {'reg_lambda': 2, 'n_estimators': 200, 'max_depth': 4, 'gamma': 0.3}\n"
     ]
    }
   ],
   "source": [
    "param_dist = {\n",
    "    'n_estimators': [50, 100, 200],\n",
    "    'max_depth': [3, 4, 5, 6, 7, 8],\n",
    "    'gamma': [0, 0.1, 0.2, 0.3, 0.4],\n",
    "    'reg_lambda': [1, 1.5, 2, 2.5, 3]\n",
    "}\n",
    "\n",
    "xgb = XGBClassifier()\n",
    "rs = RandomizedSearchCV(xgb, param_dist, n_iter=25, scoring='accuracy', cv=3, verbose=1, random_state=42)\n",
    "rs.fit(X_train, y_train)\n",
    "\n",
    "\n",
    "rs.fit(X_train, y_train)\n",
    "print(\"Optimal hyperparameter combination:\", rs.best_params_)"
   ]
  },
  {
   "cell_type": "code",
   "execution_count": 66,
   "id": "7a646005",
   "metadata": {},
   "outputs": [],
   "source": [
    "xgb = XGBClassifier(\n",
    "    n_estimators=200,\n",
    "    reg_lambda=2,\n",
    "    gamma=0.3,\n",
    "    max_depth=4\n",
    ")"
   ]
  },
  {
   "cell_type": "code",
   "execution_count": 67,
   "id": "3eec1d8b",
   "metadata": {},
   "outputs": [],
   "source": [
    "xgb.fit(X_train,y_train)\n",
    "y_pred_xgb = xgb.predict(X_test)"
   ]
  },
  {
   "cell_type": "code",
   "execution_count": 68,
   "id": "53aa3ce7",
   "metadata": {},
   "outputs": [
    {
     "name": "stdout",
     "output_type": "stream",
     "text": [
      "              precision    recall  f1-score   support\n",
      "\n",
      "           0       0.84      0.95      0.89       775\n",
      "           1       0.86      0.64      0.73       389\n",
      "\n",
      "    accuracy                           0.84      1164\n",
      "   macro avg       0.85      0.79      0.81      1164\n",
      "weighted avg       0.85      0.84      0.84      1164\n",
      "\n",
      "[[734  41]\n",
      " [140 249]]\n",
      "Accuracy: 0.8445017182130584\n"
     ]
    }
   ],
   "source": [
    "print(classification_report(y_test,y_pred_xgb))\n",
    "print(confusion_matrix(y_test,y_pred_xgb))\n",
    "# Calculate the accuracy\n",
    "accuracy = accuracy_score(y_test, y_pred_xgb)\n",
    "\n",
    "# Print the accuracy\n",
    "print(\"Accuracy:\", accuracy)"
   ]
  },
  {
   "cell_type": "markdown",
   "id": "4149523d",
   "metadata": {},
   "source": [
    "### Feed Forward Neural Network"
   ]
  },
  {
   "cell_type": "code",
   "execution_count": 46,
   "id": "1ff02c62",
   "metadata": {},
   "outputs": [],
   "source": [
    "import torch\n",
    "import torch.nn as nn\n",
    "import torch.nn.functional as F\n",
    "import torch.optim as optim\n",
    "from torch.utils.data import DataLoader, TensorDataset"
   ]
  },
  {
   "cell_type": "code",
   "execution_count": 47,
   "id": "2606c7ec",
   "metadata": {},
   "outputs": [],
   "source": [
    "class BasicNeuralNetwork(nn.Module):\n",
    "    def __init__(self, input_size, hidden_size1, hidden_size2, output_size):\n",
    "        super(BasicNeuralNetwork, self).__init__()\n",
    "        # Define the first hidden layer\n",
    "        self.hidden1 = nn.Linear(input_size, hidden_size1)\n",
    "        \n",
    "        # Define the second hidden layer\n",
    "        self.hidden2 = nn.Linear(hidden_size1, hidden_size2)\n",
    "        \n",
    "        # Define the output layer\n",
    "        self.output = nn.Linear(hidden_size2, output_size)\n",
    "\n",
    "    def forward(self, x):\n",
    "        # Apply a non-linear activation function / ReLU after each hidden layer\n",
    "        x = F.relu(self.hidden1(x))\n",
    "        x = F.relu(self.hidden2(x))\n",
    "        \n",
    "        # The output layer\n",
    "        x = self.output(x)\n",
    "        return x #Use F.softmax(x, dim=1) to apply a softmax for multi-class problems"
   ]
  },
  {
   "cell_type": "markdown",
   "id": "690aeb68",
   "metadata": {},
   "source": [
    "#### Designing a Neural Network through rules of thumb"
   ]
  },
  {
   "cell_type": "code",
   "execution_count": 48,
   "id": "9b9a6c02",
   "metadata": {},
   "outputs": [
    {
     "name": "stdout",
     "output_type": "stream",
     "text": [
      "Number of features: 9\n",
      "Output Size: 1\n",
      "Number of neurons: 3\n"
     ]
    }
   ],
   "source": [
    "num_features = df_normalized.shape[1]\n",
    "num_output = 1\n",
    "hidden_size = int((num_features * num_output)**0.5)\n",
    "print(f'Number of features: {num_features}')\n",
    "print(f'Output Size: {num_output}')\n",
    "print(f'Number of neurons: {hidden_size}')"
   ]
  },
  {
   "cell_type": "code",
   "execution_count": 49,
   "id": "3cb98b6e",
   "metadata": {},
   "outputs": [],
   "source": [
    "# Example usage\n",
    "input_size = num_features  # Size of input (number of input features)\n",
    "hidden_size1 = hidden_size #Size of first hidden layer\n",
    "hidden_size2 = hidden_size #Size of second hidden layer\n",
    "output_size = num_output  # Size of output (number of classes for classification)\n",
    "\n",
    "model = BasicNeuralNetwork(input_size, hidden_size1, hidden_size2, output_size)"
   ]
  },
  {
   "cell_type": "code",
   "execution_count": 50,
   "id": "20bf49dc",
   "metadata": {},
   "outputs": [],
   "source": [
    "X_train, X_test, y_train, y_test = train_test_split(df_normalized, dummyy, test_size=0.3, stratify=y)"
   ]
  },
  {
   "cell_type": "code",
   "execution_count": 51,
   "id": "7c283fce",
   "metadata": {},
   "outputs": [
    {
     "name": "stdout",
     "output_type": "stream",
     "text": [
      "Epoch [1/100], Loss: 0.6408\n",
      "Epoch [2/100], Loss: 0.6753\n",
      "Epoch [3/100], Loss: 0.6444\n",
      "Epoch [4/100], Loss: 0.6716\n",
      "Epoch [5/100], Loss: 0.6216\n",
      "Epoch [6/100], Loss: 0.6463\n",
      "Epoch [7/100], Loss: 0.6104\n",
      "Epoch [8/100], Loss: 0.5612\n",
      "Epoch [9/100], Loss: 0.5875\n",
      "Epoch [10/100], Loss: 0.5974\n",
      "Epoch [11/100], Loss: 0.5579\n",
      "Epoch [12/100], Loss: 0.5028\n",
      "Epoch [13/100], Loss: 0.5169\n",
      "Epoch [14/100], Loss: 0.5584\n",
      "Epoch [15/100], Loss: 0.5550\n",
      "Epoch [16/100], Loss: 0.5076\n",
      "Epoch [17/100], Loss: 0.4721\n",
      "Epoch [18/100], Loss: 0.4061\n",
      "Epoch [19/100], Loss: 0.5048\n",
      "Epoch [20/100], Loss: 0.4553\n",
      "Epoch [21/100], Loss: 0.5402\n",
      "Epoch [22/100], Loss: 0.5596\n",
      "Epoch [23/100], Loss: 0.4579\n",
      "Epoch [24/100], Loss: 0.5606\n",
      "Epoch [25/100], Loss: 0.6977\n",
      "Epoch [26/100], Loss: 0.5118\n",
      "Epoch [27/100], Loss: 0.5208\n",
      "Epoch [28/100], Loss: 0.4138\n",
      "Epoch [29/100], Loss: 0.4053\n",
      "Epoch [30/100], Loss: 0.4146\n",
      "Epoch [31/100], Loss: 0.3788\n",
      "Epoch [32/100], Loss: 0.4323\n",
      "Epoch [33/100], Loss: 0.5953\n",
      "Epoch [34/100], Loss: 0.5217\n",
      "Epoch [35/100], Loss: 0.6734\n",
      "Epoch [36/100], Loss: 0.5815\n",
      "Epoch [37/100], Loss: 0.4254\n",
      "Epoch [38/100], Loss: 0.4794\n",
      "Epoch [39/100], Loss: 0.4488\n",
      "Epoch [40/100], Loss: 0.4614\n",
      "Epoch [41/100], Loss: 0.5821\n",
      "Epoch [42/100], Loss: 0.4233\n",
      "Epoch [43/100], Loss: 0.3997\n",
      "Epoch [44/100], Loss: 0.5593\n",
      "Epoch [45/100], Loss: 0.4366\n",
      "Epoch [46/100], Loss: 0.5871\n",
      "Epoch [47/100], Loss: 0.3914\n",
      "Epoch [48/100], Loss: 0.5892\n",
      "Epoch [49/100], Loss: 0.3787\n",
      "Epoch [50/100], Loss: 0.4966\n",
      "Epoch [51/100], Loss: 0.4607\n",
      "Epoch [52/100], Loss: 0.4651\n",
      "Epoch [53/100], Loss: 0.5661\n",
      "Epoch [54/100], Loss: 0.5847\n",
      "Epoch [55/100], Loss: 0.4356\n",
      "Epoch [56/100], Loss: 0.4971\n",
      "Epoch [57/100], Loss: 0.4570\n",
      "Epoch [58/100], Loss: 0.4588\n",
      "Epoch [59/100], Loss: 0.5141\n",
      "Epoch [60/100], Loss: 0.4894\n",
      "Epoch [61/100], Loss: 0.4791\n",
      "Epoch [62/100], Loss: 0.4031\n",
      "Epoch [63/100], Loss: 0.5376\n",
      "Epoch [64/100], Loss: 0.5266\n",
      "Epoch [65/100], Loss: 0.4918\n",
      "Epoch [66/100], Loss: 0.4116\n",
      "Epoch [67/100], Loss: 0.4695\n",
      "Epoch [68/100], Loss: 0.4250\n",
      "Epoch [69/100], Loss: 0.5427\n",
      "Epoch [70/100], Loss: 0.4866\n",
      "Epoch [71/100], Loss: 0.4136\n",
      "Epoch [72/100], Loss: 0.5398\n",
      "Epoch [73/100], Loss: 0.4488\n",
      "Epoch [74/100], Loss: 0.4151\n",
      "Epoch [75/100], Loss: 0.4050\n",
      "Epoch [76/100], Loss: 0.3645\n",
      "Epoch [77/100], Loss: 0.3564\n",
      "Epoch [78/100], Loss: 0.4910\n",
      "Epoch [79/100], Loss: 0.5699\n",
      "Epoch [80/100], Loss: 0.4007\n",
      "Epoch [81/100], Loss: 0.5913\n",
      "Epoch [82/100], Loss: 0.3883\n",
      "Epoch [83/100], Loss: 0.5286\n",
      "Epoch [84/100], Loss: 0.4217\n",
      "Epoch [85/100], Loss: 0.5328\n",
      "Epoch [86/100], Loss: 0.3411\n",
      "Epoch [87/100], Loss: 0.4843\n",
      "Epoch [88/100], Loss: 0.5115\n",
      "Epoch [89/100], Loss: 0.3740\n",
      "Epoch [90/100], Loss: 0.5109\n",
      "Epoch [91/100], Loss: 0.3816\n",
      "Epoch [92/100], Loss: 0.3789\n",
      "Epoch [93/100], Loss: 0.6279\n",
      "Epoch [94/100], Loss: 0.4731\n",
      "Epoch [95/100], Loss: 0.4963\n",
      "Epoch [96/100], Loss: 0.4390\n",
      "Epoch [97/100], Loss: 0.4893\n",
      "Epoch [98/100], Loss: 0.4545\n",
      "Epoch [99/100], Loss: 0.5112\n",
      "Epoch [100/100], Loss: 0.3438\n",
      "Accuracy of the model on the test set: 78.15%\n"
     ]
    }
   ],
   "source": [
    "# Convert data to PyTorch tensors\n",
    "X_train_tensor = torch.tensor(X_train.values, dtype=torch.float32)\n",
    "y_train_tensor = torch.tensor(y_train.values, dtype=torch.float32)\n",
    "X_test_tensor = torch.tensor(X_test.values, dtype=torch.float32)\n",
    "y_test_tensor = torch.tensor(y_test.values, dtype=torch.float32)\n",
    "\n",
    "# Create datasets\n",
    "train_dataset = TensorDataset(X_train_tensor, y_train_tensor)\n",
    "test_dataset = TensorDataset(X_test_tensor, y_test_tensor)\n",
    "\n",
    "# Data Loaders\n",
    "batch_size = 64  # Define your batch size\n",
    "train_loader = DataLoader(dataset=train_dataset, batch_size=batch_size, shuffle=True)\n",
    "test_loader = DataLoader(dataset=test_dataset, batch_size=batch_size, shuffle=False)\n",
    "\n",
    "# Initialize the model, loss function, and optimizer\n",
    "model = BasicNeuralNetwork(input_size, hidden_size1, hidden_size2, output_size)\n",
    "criterion = nn.BCEWithLogitsLoss()\n",
    "#For binary classification, use nn.BCEWithLogitsLoss and for multi-class, use nn.CrossEntropyLoss. \n",
    "\n",
    "optimizer = optim.Adam(model.parameters(), lr=0.001)\n",
    "\n",
    "# Training Loop\n",
    "num_iterations = 100  # Define the number of epochs\n",
    "for epoch in range(num_iterations):\n",
    "    model.train()\n",
    "    for inputs, targets in train_loader:\n",
    "        # Zero the parameter gradients\n",
    "        optimizer.zero_grad()\n",
    "        \n",
    "        # Forward pass\n",
    "        outputs = model(inputs)\n",
    "        outputs = outputs.squeeze() \n",
    "        \n",
    "        # Compute the loss\n",
    "        loss = criterion(outputs, targets)\n",
    "        \n",
    "        # Backward pass and optimize\n",
    "        loss.backward()\n",
    "        optimizer.step()\n",
    "\n",
    "    print(f'Epoch [{epoch+1}/{num_iterations}], Loss: {loss.item():.4f}')\n",
    "\n",
    "# Testing Loop Adjustment for Binary Classification\n",
    "model.eval()\n",
    "with torch.no_grad():\n",
    "    correct = 0\n",
    "    total = 0\n",
    "    for inputs, targets in test_loader:\n",
    "        outputs = model(inputs)\n",
    "        outputs = outputs.squeeze() \n",
    "        # Threshold the outputs to get binary predictions\n",
    "        predicted = outputs > 0  # or use a different threshold like 0.5\n",
    "        total += targets.size(0)\n",
    "        correct += (predicted == targets).sum().item()\n",
    "\n",
    "    print(f'Accuracy of the model on the test set: {100 * correct / total:.2f}%')    "
   ]
  },
  {
   "cell_type": "markdown",
   "id": "f0258154",
   "metadata": {},
   "source": [
    "#### Designing a Neural Network through trial and error"
   ]
  },
  {
   "cell_type": "code",
   "execution_count": 52,
   "id": "a8ad5006",
   "metadata": {},
   "outputs": [],
   "source": [
    "class TE_NeuralNetwork(nn.Module):\n",
    "    def __init__(self, input_size, hidden_size1, hidden_size2, hidden_size3, output_size):\n",
    "        super(TE_NeuralNetwork, self).__init__()\n",
    "        \n",
    "        self.hidden1 = nn.Linear(input_size, hidden_size1)\n",
    "        self.hidden2 = nn.Linear(hidden_size1, hidden_size2)\n",
    "        self.hidden3 = nn.Linear(hidden_size2, hidden_size3)\n",
    "        \n",
    "        # Define the output layer\n",
    "        self.output = nn.Linear(hidden_size3, output_size)\n",
    "\n",
    "    def forward(self, x):\n",
    "        # Apply a non-linear activation function / ReLU after each hidden layer\n",
    "        x = F.relu(self.hidden1(x))\n",
    "        x = F.relu(self.hidden2(x))\n",
    "        x = F.relu(self.hidden3(x))\n",
    "        \n",
    "        # The output layer\n",
    "        x = self.output(x)\n",
    "        return x "
   ]
  },
  {
   "cell_type": "code",
   "execution_count": 53,
   "id": "13125047",
   "metadata": {},
   "outputs": [
    {
     "name": "stdout",
     "output_type": "stream",
     "text": [
      "Number of features: 9\n",
      "Output Size: 1\n",
      "Number of neurons: 45\n",
      "Number of neurons layer 3: 9\n"
     ]
    }
   ],
   "source": [
    "num_features = df_normalized.shape[1]\n",
    "hidden_size = 45\n",
    "hidden_step = 9\n",
    "num_output = 1\n",
    "print(f'Number of features: {num_features}')\n",
    "print(f'Output Size: {num_output}')\n",
    "print(f'Number of neurons: {hidden_size}')\n",
    "print(f'Number of neurons layer 3: {hidden_step}')"
   ]
  },
  {
   "cell_type": "code",
   "execution_count": 54,
   "id": "83b24bcd",
   "metadata": {},
   "outputs": [],
   "source": [
    "# Example usage\n",
    "input_size = num_features  # Size of input (number of input features)\n",
    "hidden_size1 = hidden_size #Size of first hidden layer\n",
    "hidden_size2 = hidden_size #Size of second hidden layer\n",
    "hidden_size3 = hidden_step #Size of third hidden layer\n",
    "output_size = num_output  # Size of output (number of classes for classification)\n",
    "\n",
    "model = TE_NeuralNetwork(input_size, hidden_size1, hidden_size2, hidden_size3, output_size)"
   ]
  },
  {
   "cell_type": "code",
   "execution_count": 55,
   "id": "fa2e6f8b",
   "metadata": {},
   "outputs": [
    {
     "name": "stdout",
     "output_type": "stream",
     "text": [
      "Accuracy of the model on the test set: 81.23%\n"
     ]
    }
   ],
   "source": [
    "# Data Loaders\n",
    "batch_size = 64  # Define your batch size\n",
    "train_loader = DataLoader(dataset=train_dataset, batch_size=batch_size, shuffle=True)\n",
    "test_loader = DataLoader(dataset=test_dataset, batch_size=batch_size, shuffle=False)\n",
    "\n",
    "# Initialize the model, loss function, and optimizer\n",
    "model = BasicNeuralNetwork(input_size, hidden_size1, hidden_size2, output_size)\n",
    "criterion = nn.BCEWithLogitsLoss()\n",
    "#For binary classification, use nn.BCEWithLogitsLoss and for multi-class, use nn.CrossEntropyLoss. \n",
    "\n",
    "optimizer = optim.Adam(model.parameters(), lr=0.001)\n",
    "\n",
    "# Training Loop\n",
    "num_iterations = 128  # Define the number of epochs\n",
    "for epoch in range(num_iterations):\n",
    "    model.train()\n",
    "    for inputs, targets in train_loader:\n",
    "        # Zero the parameter gradients\n",
    "        optimizer.zero_grad()\n",
    "        \n",
    "        # Forward pass\n",
    "        outputs = model(inputs)\n",
    "        outputs = outputs.squeeze() \n",
    "        \n",
    "        # Compute the loss\n",
    "        loss = criterion(outputs, targets)\n",
    "        \n",
    "        # Backward pass and optimize\n",
    "        loss.backward()\n",
    "        optimizer.step()\n",
    "\n",
    "# Testing Loop Adjustment for Binary Classification\n",
    "model.eval()\n",
    "with torch.no_grad():\n",
    "    correct = 0\n",
    "    total = 0\n",
    "    for inputs, targets in test_loader:\n",
    "        outputs = model(inputs)\n",
    "        outputs = outputs.squeeze() \n",
    "        # Threshold the outputs to get binary predictions\n",
    "        predicted = outputs > 0  # or use a different threshold like 0.5\n",
    "        total += targets.size(0)\n",
    "        correct += (predicted == targets).sum().item()\n",
    "\n",
    "    print(f'Accuracy of the model on the test set: {100 * correct / total:.2f}%')    "
   ]
  },
  {
   "cell_type": "markdown",
   "id": "29936c2f",
   "metadata": {},
   "source": [
    "### Training and Testing Additional Machine Learning Algorithms\n",
    "Adapted from <a href='https://github.com/pooja2512/Adult-Census-Income/blob/master/Adult%20Census%20Income.ipynb' target=\"_blank\">Pooja Joshi</a>"
   ]
  },
  {
   "cell_type": "code",
   "execution_count": 56,
   "id": "6ae8547a",
   "metadata": {},
   "outputs": [],
   "source": [
    "from sklearn.model_selection import train_test_split,cross_val_score,GridSearchCV\n",
    "from sklearn.linear_model import LogisticRegression\n",
    "from sklearn.tree import DecisionTreeClassifier\n",
    "from sklearn.svm import SVC\n",
    "from sklearn.neighbors import KNeighborsClassifier\n",
    "from sklearn.ensemble import RandomForestClassifier,AdaBoostClassifier,BaggingClassifier,ExtraTreesClassifier\n",
    "from sklearn.naive_bayes import GaussianNB\n",
    "from sklearn.metrics import accuracy_score,confusion_matrix,classification_report,roc_curve, auc\n",
    "from datetime import datetime\n",
    "from sklearn.feature_selection import RFE"
   ]
  },
  {
   "cell_type": "code",
   "execution_count": 57,
   "id": "60f28aff",
   "metadata": {},
   "outputs": [],
   "source": [
    "X_train,X_test,y_train,y_test = train_test_split(df_normalized, dummyy,test_size =0.25,random_state = 42)"
   ]
  },
  {
   "cell_type": "code",
   "execution_count": 58,
   "id": "7e4f2bdb",
   "metadata": {},
   "outputs": [],
   "source": [
    "#Instantiate the classifiers\n",
    "clf_logreg = LogisticRegression()\n",
    "clf_tree = DecisionTreeClassifier()\n",
    "clf_knn =  KNeighborsClassifier()\n",
    "clf_svc = SVC()\n",
    "clf_forest = RandomForestClassifier()\n",
    "clf_ada = AdaBoostClassifier()\n",
    "clf_bagging = BaggingClassifier()\n",
    "clf_extratrees = ExtraTreesClassifier()\n",
    "clf_gnb = GaussianNB()"
   ]
  },
  {
   "cell_type": "code",
   "execution_count": 59,
   "id": "bc4e28aa",
   "metadata": {},
   "outputs": [],
   "source": [
    "classifiers = ['LogisticRegression', 'DecisionTree', 'KNN', 'SVC', 'RandomForest', 'Adaboost', 'Bagging', 'Extratrees', 'Naive']"
   ]
  },
  {
   "cell_type": "code",
   "execution_count": 60,
   "id": "b45bc693",
   "metadata": {},
   "outputs": [],
   "source": [
    "models = {clf_logreg:'LogisticRegression',\n",
    "          clf_tree:'DecisionTree',\n",
    "          clf_knn: 'KNN',\n",
    "          clf_svc: 'SVC',\n",
    "          clf_forest: 'RandomForest',\n",
    "          clf_ada: 'Adaboost',\n",
    "          clf_bagging: 'Bagging',\n",
    "          clf_extratrees:'Extratrees' ,\n",
    "          clf_gnb: 'Naive'}"
   ]
  },
  {
   "cell_type": "code",
   "execution_count": 61,
   "id": "e74baa99",
   "metadata": {},
   "outputs": [
    {
     "name": "stdout",
     "output_type": "stream",
     "text": [
      "--------------------------------------------LogisticRegression---------------------------------------------------\n",
      "Accuracy Score for LogisticRegression: 70.6186%\n",
      "Null Accuracy: 66.5808%\n",
      "Confusion Matrix\n",
      "[[694  81]\n",
      " [261 128]]\n",
      "+++++++++++++++++++++++++++++++++++++++++++++++++++++++++++++++++++++++++++\n",
      "Accuracy Score: 70.6186%\n",
      "Recall Score: 32.9049%\n",
      "Specificity Score: 89.5484%\n",
      "False Positive Rate: 10.4516%\n",
      "Precision Score: 61.2440%\n",
      "+++++++++++++++++++++++++++++++++++++++++++++++++++++++++++++++++++++++++++\n",
      "Classification Report\n",
      "              precision    recall  f1-score   support\n",
      "\n",
      "           0       0.73      0.90      0.80       775\n",
      "           1       0.61      0.33      0.43       389\n",
      "\n",
      "    accuracy                           0.71      1164\n",
      "   macro avg       0.67      0.61      0.62      1164\n",
      "weighted avg       0.69      0.71      0.68      1164\n",
      "\n",
      "--------------------------------------------DecisionTree---------------------------------------------------\n",
      "Accuracy Score for DecisionTree: 80.7560%\n",
      "Null Accuracy: 66.5808%\n",
      "Confusion Matrix\n",
      "[[686  89]\n",
      " [135 254]]\n",
      "+++++++++++++++++++++++++++++++++++++++++++++++++++++++++++++++++++++++++++\n",
      "Accuracy Score: 80.7560%\n",
      "Recall Score: 65.2956%\n",
      "Specificity Score: 88.5161%\n",
      "False Positive Rate: 11.4839%\n",
      "Precision Score: 74.0525%\n",
      "+++++++++++++++++++++++++++++++++++++++++++++++++++++++++++++++++++++++++++\n",
      "Classification Report\n",
      "              precision    recall  f1-score   support\n",
      "\n",
      "           0       0.84      0.89      0.86       775\n",
      "           1       0.74      0.65      0.69       389\n",
      "\n",
      "    accuracy                           0.81      1164\n",
      "   macro avg       0.79      0.77      0.78      1164\n",
      "weighted avg       0.80      0.81      0.80      1164\n",
      "\n",
      "--------------------------------------------KNN---------------------------------------------------\n",
      "Accuracy Score for KNN: 80.0687%\n",
      "Null Accuracy: 66.5808%\n",
      "Confusion Matrix\n",
      "[[693  82]\n",
      " [150 239]]\n",
      "+++++++++++++++++++++++++++++++++++++++++++++++++++++++++++++++++++++++++++\n",
      "Accuracy Score: 80.0687%\n",
      "Recall Score: 61.4396%\n",
      "Specificity Score: 89.4194%\n",
      "False Positive Rate: 10.5806%\n",
      "Precision Score: 74.4548%\n",
      "+++++++++++++++++++++++++++++++++++++++++++++++++++++++++++++++++++++++++++\n",
      "Classification Report\n",
      "              precision    recall  f1-score   support\n",
      "\n",
      "           0       0.82      0.89      0.86       775\n",
      "           1       0.74      0.61      0.67       389\n",
      "\n",
      "    accuracy                           0.80      1164\n",
      "   macro avg       0.78      0.75      0.76      1164\n",
      "weighted avg       0.80      0.80      0.80      1164\n",
      "\n",
      "--------------------------------------------SVC---------------------------------------------------\n",
      "Accuracy Score for SVC: 82.0447%\n",
      "Null Accuracy: 66.5808%\n",
      "Confusion Matrix\n",
      "[[728  47]\n",
      " [162 227]]\n",
      "+++++++++++++++++++++++++++++++++++++++++++++++++++++++++++++++++++++++++++\n",
      "Accuracy Score: 82.0447%\n",
      "Recall Score: 58.3548%\n",
      "Specificity Score: 93.9355%\n",
      "False Positive Rate: 6.0645%\n",
      "Precision Score: 82.8467%\n",
      "+++++++++++++++++++++++++++++++++++++++++++++++++++++++++++++++++++++++++++\n",
      "Classification Report\n",
      "              precision    recall  f1-score   support\n",
      "\n",
      "           0       0.82      0.94      0.87       775\n",
      "           1       0.83      0.58      0.68       389\n",
      "\n",
      "    accuracy                           0.82      1164\n",
      "   macro avg       0.82      0.76      0.78      1164\n",
      "weighted avg       0.82      0.82      0.81      1164\n",
      "\n",
      "--------------------------------------------RandomForest---------------------------------------------------\n",
      "Accuracy Score for RandomForest: 82.6460%\n",
      "Null Accuracy: 66.5808%\n",
      "Confusion Matrix\n",
      "[[704  71]\n",
      " [131 258]]\n",
      "+++++++++++++++++++++++++++++++++++++++++++++++++++++++++++++++++++++++++++\n",
      "Accuracy Score: 82.6460%\n",
      "Recall Score: 66.3239%\n",
      "Specificity Score: 90.8387%\n",
      "False Positive Rate: 9.1613%\n",
      "Precision Score: 78.4195%\n",
      "+++++++++++++++++++++++++++++++++++++++++++++++++++++++++++++++++++++++++++\n",
      "Classification Report\n",
      "              precision    recall  f1-score   support\n",
      "\n",
      "           0       0.84      0.91      0.87       775\n",
      "           1       0.78      0.66      0.72       389\n",
      "\n",
      "    accuracy                           0.83      1164\n",
      "   macro avg       0.81      0.79      0.80      1164\n",
      "weighted avg       0.82      0.83      0.82      1164\n",
      "\n",
      "--------------------------------------------Adaboost---------------------------------------------------\n",
      "Accuracy Score for Adaboost: 81.6151%\n",
      "Null Accuracy: 66.5808%\n",
      "Confusion Matrix\n",
      "[[731  44]\n",
      " [170 219]]\n",
      "+++++++++++++++++++++++++++++++++++++++++++++++++++++++++++++++++++++++++++\n",
      "Accuracy Score: 81.6151%\n",
      "Recall Score: 56.2982%\n",
      "Specificity Score: 94.3226%\n",
      "False Positive Rate: 5.6774%\n",
      "Precision Score: 83.2700%\n",
      "+++++++++++++++++++++++++++++++++++++++++++++++++++++++++++++++++++++++++++\n",
      "Classification Report\n",
      "              precision    recall  f1-score   support\n",
      "\n",
      "           0       0.81      0.94      0.87       775\n",
      "           1       0.83      0.56      0.67       389\n",
      "\n",
      "    accuracy                           0.82      1164\n",
      "   macro avg       0.82      0.75      0.77      1164\n",
      "weighted avg       0.82      0.82      0.81      1164\n",
      "\n",
      "--------------------------------------------Bagging---------------------------------------------------\n",
      "Accuracy Score for Bagging: 82.3883%\n",
      "Null Accuracy: 66.5808%\n",
      "Confusion Matrix\n",
      "[[694  81]\n",
      " [124 265]]\n",
      "+++++++++++++++++++++++++++++++++++++++++++++++++++++++++++++++++++++++++++\n",
      "Accuracy Score: 82.3883%\n",
      "Recall Score: 68.1234%\n",
      "Specificity Score: 89.5484%\n",
      "False Positive Rate: 10.4516%\n",
      "Precision Score: 76.5896%\n",
      "+++++++++++++++++++++++++++++++++++++++++++++++++++++++++++++++++++++++++++\n",
      "Classification Report\n",
      "              precision    recall  f1-score   support\n",
      "\n",
      "           0       0.85      0.90      0.87       775\n",
      "           1       0.77      0.68      0.72       389\n",
      "\n",
      "    accuracy                           0.82      1164\n",
      "   macro avg       0.81      0.79      0.80      1164\n",
      "weighted avg       0.82      0.82      0.82      1164\n",
      "\n",
      "--------------------------------------------Extratrees---------------------------------------------------\n",
      "Accuracy Score for Extratrees: 82.1306%\n",
      "Null Accuracy: 66.5808%\n",
      "Confusion Matrix\n",
      "[[698  77]\n",
      " [131 258]]\n",
      "+++++++++++++++++++++++++++++++++++++++++++++++++++++++++++++++++++++++++++\n",
      "Accuracy Score: 82.1306%\n",
      "Recall Score: 66.3239%\n",
      "Specificity Score: 90.0645%\n",
      "False Positive Rate: 9.9355%\n",
      "Precision Score: 77.0149%\n",
      "+++++++++++++++++++++++++++++++++++++++++++++++++++++++++++++++++++++++++++\n",
      "Classification Report\n",
      "              precision    recall  f1-score   support\n",
      "\n",
      "           0       0.84      0.90      0.87       775\n",
      "           1       0.77      0.66      0.71       389\n",
      "\n",
      "    accuracy                           0.82      1164\n",
      "   macro avg       0.81      0.78      0.79      1164\n",
      "weighted avg       0.82      0.82      0.82      1164\n",
      "\n",
      "--------------------------------------------Naive---------------------------------------------------\n",
      "Accuracy Score for Naive: 64.9485%\n",
      "Null Accuracy: 66.5808%\n",
      "Confusion Matrix\n",
      "[[580 195]\n",
      " [213 176]]\n",
      "+++++++++++++++++++++++++++++++++++++++++++++++++++++++++++++++++++++++++++\n",
      "Accuracy Score: 64.9485%\n",
      "Recall Score: 45.2442%\n",
      "Specificity Score: 74.8387%\n",
      "False Positive Rate: 25.1613%\n",
      "Precision Score: 47.4394%\n",
      "+++++++++++++++++++++++++++++++++++++++++++++++++++++++++++++++++++++++++++\n",
      "Classification Report\n",
      "              precision    recall  f1-score   support\n",
      "\n",
      "           0       0.73      0.75      0.74       775\n",
      "           1       0.47      0.45      0.46       389\n",
      "\n",
      "    accuracy                           0.65      1164\n",
      "   macro avg       0.60      0.60      0.60      1164\n",
      "weighted avg       0.65      0.65      0.65      1164\n",
      "\n"
     ]
    }
   ],
   "source": [
    "# train function fits the model and returns accuracy score\n",
    "def train(algo,name,X_train,y_train,X_test,y_test):\n",
    "    algo.fit(X_train,y_train)\n",
    "    y_pred = algo.predict(X_test)\n",
    "    score = accuracy_score(y_test,y_pred)\n",
    "    print(f\"--------------------------------------------{name}---------------------------------------------------\")\n",
    "    print(f\"Accuracy Score for {name}: {score*100:.4f}%\")\n",
    "    return y_test,y_pred,score\n",
    "\n",
    "# acc_res function calculates confusion matrix\n",
    "def acc_res(y_test,y_pred):\n",
    "    null_accuracy = y_test.value_counts()[0]/len(y_test)\n",
    "    print(f\"Null Accuracy: {null_accuracy*100:.4f}%\")\n",
    "    print(\"Confusion Matrix\")\n",
    "    matrix = confusion_matrix(y_test,y_pred)\n",
    "    print(matrix)\n",
    "    print(\"+++++++++++++++++++++++++++++++++++++++++++++++++++++++++++++++++++++++++++\")\n",
    "    TN = matrix[0,0]\n",
    "    FP = matrix[0,1]\n",
    "    FN = matrix[1,0]\n",
    "    TP = matrix[1,1]\n",
    "    accuracy_score=(TN+TP) / float(TP+TN+FP+FN)\n",
    "    recall_score = (TP)/ float(TP+FN)\n",
    "    specificity = TN / float(TN+FP)\n",
    "    FPR = FP / float(FP+TN)\n",
    "    precision_score = TP / float(TP+FP)\n",
    "    print(f\"Accuracy Score: {accuracy_score*100:.4f}%\")\n",
    "    print(f\"Recall Score: {recall_score*100:.4f}%\")\n",
    "    print(f\"Specificity Score: {specificity*100:.4f}%\")\n",
    "    print(f\"False Positive Rate: {FPR*100:.4f}%\")\n",
    "    print(f\"Precision Score: {precision_score*100:.4f}%\")\n",
    "    print(\"+++++++++++++++++++++++++++++++++++++++++++++++++++++++++++++++++++++++++++\")\n",
    "    print(\"Classification Report\")\n",
    "    print(classification_report(y_test,y_pred))\n",
    "    \n",
    "def main(models):\n",
    "    accuracy_scores = []\n",
    "    for algo,name in models.items():\n",
    "        y_test_train,y_pred,acc_score = train(algo,name,X_train,y_train,X_test,y_test)\n",
    "        acc_res(y_test_train,y_pred)\n",
    "        accuracy_scores.append(acc_score)\n",
    "    return accuracy_scores\n",
    "    \n",
    "accuracy_scores = main(models)"
   ]
  },
  {
   "cell_type": "code",
   "execution_count": 62,
   "id": "246590ab",
   "metadata": {},
   "outputs": [
    {
     "data": {
      "text/html": [
       "<div>\n",
       "<style scoped>\n",
       "    .dataframe tbody tr th:only-of-type {\n",
       "        vertical-align: middle;\n",
       "    }\n",
       "\n",
       "    .dataframe tbody tr th {\n",
       "        vertical-align: top;\n",
       "    }\n",
       "\n",
       "    .dataframe thead th {\n",
       "        text-align: right;\n",
       "    }\n",
       "</style>\n",
       "<table border=\"1\" class=\"dataframe\">\n",
       "  <thead>\n",
       "    <tr style=\"text-align: right;\">\n",
       "      <th></th>\n",
       "      <th>Accuracy Scores</th>\n",
       "    </tr>\n",
       "  </thead>\n",
       "  <tbody>\n",
       "    <tr>\n",
       "      <th>RandomForest</th>\n",
       "      <td>0.826460</td>\n",
       "    </tr>\n",
       "    <tr>\n",
       "      <th>Bagging</th>\n",
       "      <td>0.823883</td>\n",
       "    </tr>\n",
       "    <tr>\n",
       "      <th>Extratrees</th>\n",
       "      <td>0.821306</td>\n",
       "    </tr>\n",
       "    <tr>\n",
       "      <th>SVC</th>\n",
       "      <td>0.820447</td>\n",
       "    </tr>\n",
       "    <tr>\n",
       "      <th>Adaboost</th>\n",
       "      <td>0.816151</td>\n",
       "    </tr>\n",
       "    <tr>\n",
       "      <th>DecisionTree</th>\n",
       "      <td>0.807560</td>\n",
       "    </tr>\n",
       "    <tr>\n",
       "      <th>KNN</th>\n",
       "      <td>0.800687</td>\n",
       "    </tr>\n",
       "    <tr>\n",
       "      <th>LogisticRegression</th>\n",
       "      <td>0.706186</td>\n",
       "    </tr>\n",
       "    <tr>\n",
       "      <th>Naive</th>\n",
       "      <td>0.649485</td>\n",
       "    </tr>\n",
       "  </tbody>\n",
       "</table>\n",
       "</div>"
      ],
      "text/plain": [
       "                    Accuracy Scores\n",
       "RandomForest               0.826460\n",
       "Bagging                    0.823883\n",
       "Extratrees                 0.821306\n",
       "SVC                        0.820447\n",
       "Adaboost                   0.816151\n",
       "DecisionTree               0.807560\n",
       "KNN                        0.800687\n",
       "LogisticRegression         0.706186\n",
       "Naive                      0.649485"
      ]
     },
     "execution_count": 62,
     "metadata": {},
     "output_type": "execute_result"
    }
   ],
   "source": [
    "pd.DataFrame(accuracy_scores,columns = ['Accuracy Scores'],index = classifiers).sort_values(by = 'Accuracy Scores',\n",
    "                                                                                            ascending = False)"
   ]
  },
  {
   "cell_type": "markdown",
   "id": "36e8e1d1",
   "metadata": {},
   "source": [
    "A Random Forest appears to perform the best of the common models but still under perform XGBoost."
   ]
  },
  {
   "cell_type": "markdown",
   "id": "fcccfdc4",
   "metadata": {},
   "source": [
    "#### Running the models without normalization or dropping features"
   ]
  },
  {
   "cell_type": "code",
   "execution_count": 63,
   "id": "34299b27",
   "metadata": {},
   "outputs": [],
   "source": [
    "X_train,X_test,y_train,y_test = train_test_split(pd.get_dummies(X), dummyy,test_size =0.25,random_state = 42)"
   ]
  },
  {
   "cell_type": "code",
   "execution_count": 64,
   "id": "09554197",
   "metadata": {},
   "outputs": [
    {
     "name": "stdout",
     "output_type": "stream",
     "text": [
      "--------------------------------------------LogisticRegression---------------------------------------------------\n",
      "Accuracy Score for LogisticRegression: 69.7595%\n",
      "Null Accuracy: 66.5808%\n",
      "Confusion Matrix\n",
      "[[697  78]\n",
      " [274 115]]\n",
      "+++++++++++++++++++++++++++++++++++++++++++++++++++++++++++++++++++++++++++\n",
      "Accuracy Score: 69.7595%\n",
      "Recall Score: 29.5630%\n",
      "Specificity Score: 89.9355%\n",
      "False Positive Rate: 10.0645%\n",
      "Precision Score: 59.5855%\n",
      "+++++++++++++++++++++++++++++++++++++++++++++++++++++++++++++++++++++++++++\n",
      "Classification Report\n",
      "              precision    recall  f1-score   support\n",
      "\n",
      "           0       0.72      0.90      0.80       775\n",
      "           1       0.60      0.30      0.40       389\n",
      "\n",
      "    accuracy                           0.70      1164\n",
      "   macro avg       0.66      0.60      0.60      1164\n",
      "weighted avg       0.68      0.70      0.66      1164\n",
      "\n",
      "--------------------------------------------DecisionTree---------------------------------------------------\n",
      "Accuracy Score for DecisionTree: 80.8419%\n",
      "Null Accuracy: 66.5808%\n",
      "Confusion Matrix\n",
      "[[686  89]\n",
      " [134 255]]\n",
      "+++++++++++++++++++++++++++++++++++++++++++++++++++++++++++++++++++++++++++\n",
      "Accuracy Score: 80.8419%\n",
      "Recall Score: 65.5527%\n",
      "Specificity Score: 88.5161%\n",
      "False Positive Rate: 11.4839%\n",
      "Precision Score: 74.1279%\n",
      "+++++++++++++++++++++++++++++++++++++++++++++++++++++++++++++++++++++++++++\n",
      "Classification Report\n",
      "              precision    recall  f1-score   support\n",
      "\n",
      "           0       0.84      0.89      0.86       775\n",
      "           1       0.74      0.66      0.70       389\n",
      "\n",
      "    accuracy                           0.81      1164\n",
      "   macro avg       0.79      0.77      0.78      1164\n",
      "weighted avg       0.80      0.81      0.81      1164\n",
      "\n",
      "--------------------------------------------KNN---------------------------------------------------\n",
      "Accuracy Score for KNN: 77.5773%\n",
      "Null Accuracy: 66.5808%\n",
      "Confusion Matrix\n",
      "[[687  88]\n",
      " [173 216]]\n",
      "+++++++++++++++++++++++++++++++++++++++++++++++++++++++++++++++++++++++++++\n",
      "Accuracy Score: 77.5773%\n",
      "Recall Score: 55.5270%\n",
      "Specificity Score: 88.6452%\n",
      "False Positive Rate: 11.3548%\n",
      "Precision Score: 71.0526%\n",
      "+++++++++++++++++++++++++++++++++++++++++++++++++++++++++++++++++++++++++++\n",
      "Classification Report\n",
      "              precision    recall  f1-score   support\n",
      "\n",
      "           0       0.80      0.89      0.84       775\n",
      "           1       0.71      0.56      0.62       389\n",
      "\n",
      "    accuracy                           0.78      1164\n",
      "   macro avg       0.75      0.72      0.73      1164\n",
      "weighted avg       0.77      0.78      0.77      1164\n",
      "\n",
      "--------------------------------------------SVC---------------------------------------------------\n",
      "Accuracy Score for SVC: 66.5808%\n",
      "Null Accuracy: 66.5808%\n",
      "Confusion Matrix\n",
      "[[775   0]\n",
      " [389   0]]\n",
      "+++++++++++++++++++++++++++++++++++++++++++++++++++++++++++++++++++++++++++\n",
      "Accuracy Score: 66.5808%\n",
      "Recall Score: 0.0000%\n",
      "Specificity Score: 100.0000%\n",
      "False Positive Rate: 0.0000%\n",
      "Precision Score: nan%\n",
      "+++++++++++++++++++++++++++++++++++++++++++++++++++++++++++++++++++++++++++\n",
      "Classification Report\n",
      "              precision    recall  f1-score   support\n",
      "\n",
      "           0       0.67      1.00      0.80       775\n",
      "           1       0.00      0.00      0.00       389\n",
      "\n",
      "    accuracy                           0.67      1164\n",
      "   macro avg       0.33      0.50      0.40      1164\n",
      "weighted avg       0.44      0.67      0.53      1164\n",
      "\n"
     ]
    },
    {
     "name": "stderr",
     "output_type": "stream",
     "text": [
      "C:\\Users\\u2rac\\anaconda3\\envs\\tensorflow\\lib\\site-packages\\ipykernel_launcher.py:26: RuntimeWarning: invalid value encountered in true_divide\n",
      "C:\\Users\\u2rac\\anaconda3\\envs\\tensorflow\\lib\\site-packages\\sklearn\\metrics\\_classification.py:1318: UndefinedMetricWarning: Precision and F-score are ill-defined and being set to 0.0 in labels with no predicted samples. Use `zero_division` parameter to control this behavior.\n",
      "  _warn_prf(average, modifier, msg_start, len(result))\n",
      "C:\\Users\\u2rac\\anaconda3\\envs\\tensorflow\\lib\\site-packages\\sklearn\\metrics\\_classification.py:1318: UndefinedMetricWarning: Precision and F-score are ill-defined and being set to 0.0 in labels with no predicted samples. Use `zero_division` parameter to control this behavior.\n",
      "  _warn_prf(average, modifier, msg_start, len(result))\n",
      "C:\\Users\\u2rac\\anaconda3\\envs\\tensorflow\\lib\\site-packages\\sklearn\\metrics\\_classification.py:1318: UndefinedMetricWarning: Precision and F-score are ill-defined and being set to 0.0 in labels with no predicted samples. Use `zero_division` parameter to control this behavior.\n",
      "  _warn_prf(average, modifier, msg_start, len(result))\n"
     ]
    },
    {
     "name": "stdout",
     "output_type": "stream",
     "text": [
      "--------------------------------------------RandomForest---------------------------------------------------\n",
      "Accuracy Score for RandomForest: 81.8729%\n",
      "Null Accuracy: 66.5808%\n",
      "Confusion Matrix\n",
      "[[693  82]\n",
      " [129 260]]\n",
      "+++++++++++++++++++++++++++++++++++++++++++++++++++++++++++++++++++++++++++\n",
      "Accuracy Score: 81.8729%\n",
      "Recall Score: 66.8380%\n",
      "Specificity Score: 89.4194%\n",
      "False Positive Rate: 10.5806%\n",
      "Precision Score: 76.0234%\n",
      "+++++++++++++++++++++++++++++++++++++++++++++++++++++++++++++++++++++++++++\n",
      "Classification Report\n",
      "              precision    recall  f1-score   support\n",
      "\n",
      "           0       0.84      0.89      0.87       775\n",
      "           1       0.76      0.67      0.71       389\n",
      "\n",
      "    accuracy                           0.82      1164\n",
      "   macro avg       0.80      0.78      0.79      1164\n",
      "weighted avg       0.82      0.82      0.82      1164\n",
      "\n",
      "--------------------------------------------Adaboost---------------------------------------------------\n",
      "Accuracy Score for Adaboost: 81.6151%\n",
      "Null Accuracy: 66.5808%\n",
      "Confusion Matrix\n",
      "[[731  44]\n",
      " [170 219]]\n",
      "+++++++++++++++++++++++++++++++++++++++++++++++++++++++++++++++++++++++++++\n",
      "Accuracy Score: 81.6151%\n",
      "Recall Score: 56.2982%\n",
      "Specificity Score: 94.3226%\n",
      "False Positive Rate: 5.6774%\n",
      "Precision Score: 83.2700%\n",
      "+++++++++++++++++++++++++++++++++++++++++++++++++++++++++++++++++++++++++++\n",
      "Classification Report\n",
      "              precision    recall  f1-score   support\n",
      "\n",
      "           0       0.81      0.94      0.87       775\n",
      "           1       0.83      0.56      0.67       389\n",
      "\n",
      "    accuracy                           0.82      1164\n",
      "   macro avg       0.82      0.75      0.77      1164\n",
      "weighted avg       0.82      0.82      0.81      1164\n",
      "\n",
      "--------------------------------------------Bagging---------------------------------------------------\n",
      "Accuracy Score for Bagging: 81.6151%\n",
      "Null Accuracy: 66.5808%\n",
      "Confusion Matrix\n",
      "[[694  81]\n",
      " [133 256]]\n",
      "+++++++++++++++++++++++++++++++++++++++++++++++++++++++++++++++++++++++++++\n",
      "Accuracy Score: 81.6151%\n",
      "Recall Score: 65.8098%\n",
      "Specificity Score: 89.5484%\n",
      "False Positive Rate: 10.4516%\n",
      "Precision Score: 75.9644%\n",
      "+++++++++++++++++++++++++++++++++++++++++++++++++++++++++++++++++++++++++++\n",
      "Classification Report\n",
      "              precision    recall  f1-score   support\n",
      "\n",
      "           0       0.84      0.90      0.87       775\n",
      "           1       0.76      0.66      0.71       389\n",
      "\n",
      "    accuracy                           0.82      1164\n",
      "   macro avg       0.80      0.78      0.79      1164\n",
      "weighted avg       0.81      0.82      0.81      1164\n",
      "\n",
      "--------------------------------------------Extratrees---------------------------------------------------\n",
      "Accuracy Score for Extratrees: 82.4742%\n",
      "Null Accuracy: 66.5808%\n",
      "Confusion Matrix\n",
      "[[701  74]\n",
      " [130 259]]\n",
      "+++++++++++++++++++++++++++++++++++++++++++++++++++++++++++++++++++++++++++\n",
      "Accuracy Score: 82.4742%\n",
      "Recall Score: 66.5810%\n",
      "Specificity Score: 90.4516%\n",
      "False Positive Rate: 9.5484%\n",
      "Precision Score: 77.7778%\n",
      "+++++++++++++++++++++++++++++++++++++++++++++++++++++++++++++++++++++++++++\n",
      "Classification Report\n",
      "              precision    recall  f1-score   support\n",
      "\n",
      "           0       0.84      0.90      0.87       775\n",
      "           1       0.78      0.67      0.72       389\n",
      "\n",
      "    accuracy                           0.82      1164\n",
      "   macro avg       0.81      0.79      0.80      1164\n",
      "weighted avg       0.82      0.82      0.82      1164\n",
      "\n",
      "--------------------------------------------Naive---------------------------------------------------\n",
      "Accuracy Score for Naive: 70.2749%\n",
      "Null Accuracy: 66.5808%\n",
      "Confusion Matrix\n",
      "[[605 170]\n",
      " [176 213]]\n",
      "+++++++++++++++++++++++++++++++++++++++++++++++++++++++++++++++++++++++++++\n",
      "Accuracy Score: 70.2749%\n",
      "Recall Score: 54.7558%\n",
      "Specificity Score: 78.0645%\n",
      "False Positive Rate: 21.9355%\n",
      "Precision Score: 55.6136%\n",
      "+++++++++++++++++++++++++++++++++++++++++++++++++++++++++++++++++++++++++++\n",
      "Classification Report\n",
      "              precision    recall  f1-score   support\n",
      "\n",
      "           0       0.77      0.78      0.78       775\n",
      "           1       0.56      0.55      0.55       389\n",
      "\n",
      "    accuracy                           0.70      1164\n",
      "   macro avg       0.67      0.66      0.66      1164\n",
      "weighted avg       0.70      0.70      0.70      1164\n",
      "\n"
     ]
    }
   ],
   "source": [
    "# train function fits the model and returns accuracy score\n",
    "def train(algo,name,X_train,y_train,X_test,y_test):\n",
    "    algo.fit(X_train,y_train)\n",
    "    y_pred = algo.predict(X_test)\n",
    "    score = accuracy_score(y_test,y_pred)\n",
    "    print(f\"--------------------------------------------{name}---------------------------------------------------\")\n",
    "    print(f\"Accuracy Score for {name}: {score*100:.4f}%\")\n",
    "    return y_test,y_pred,score\n",
    "\n",
    "# acc_res function calculates confusion matrix\n",
    "def acc_res(y_test,y_pred):\n",
    "    null_accuracy = y_test.value_counts()[0]/len(y_test)\n",
    "    print(f\"Null Accuracy: {null_accuracy*100:.4f}%\")\n",
    "    print(\"Confusion Matrix\")\n",
    "    matrix = confusion_matrix(y_test,y_pred)\n",
    "    print(matrix)\n",
    "    print(\"+++++++++++++++++++++++++++++++++++++++++++++++++++++++++++++++++++++++++++\")\n",
    "    TN = matrix[0,0]\n",
    "    FP = matrix[0,1]\n",
    "    FN = matrix[1,0]\n",
    "    TP = matrix[1,1]\n",
    "    accuracy_score=(TN+TP) / float(TP+TN+FP+FN)\n",
    "    recall_score = (TP)/ float(TP+FN)\n",
    "    specificity = TN / float(TN+FP)\n",
    "    FPR = FP / float(FP+TN)\n",
    "    precision_score = TP / float(TP+FP)\n",
    "    print(f\"Accuracy Score: {accuracy_score*100:.4f}%\")\n",
    "    print(f\"Recall Score: {recall_score*100:.4f}%\")\n",
    "    print(f\"Specificity Score: {specificity*100:.4f}%\")\n",
    "    print(f\"False Positive Rate: {FPR*100:.4f}%\")\n",
    "    print(f\"Precision Score: {precision_score*100:.4f}%\")\n",
    "    print(\"+++++++++++++++++++++++++++++++++++++++++++++++++++++++++++++++++++++++++++\")\n",
    "    print(\"Classification Report\")\n",
    "    print(classification_report(y_test,y_pred))\n",
    "    \n",
    "def main(models):\n",
    "    accuracy_scores = []\n",
    "    for algo,name in models.items():\n",
    "        y_test_train,y_pred,acc_score = train(algo,name,X_train,y_train,X_test,y_test)\n",
    "        acc_res(y_test_train,y_pred)\n",
    "        accuracy_scores.append(acc_score)\n",
    "    return accuracy_scores\n",
    "    \n",
    "accuracy_scores = main(models)"
   ]
  },
  {
   "cell_type": "code",
   "execution_count": 65,
   "id": "3aec9114",
   "metadata": {},
   "outputs": [
    {
     "data": {
      "text/html": [
       "<div>\n",
       "<style scoped>\n",
       "    .dataframe tbody tr th:only-of-type {\n",
       "        vertical-align: middle;\n",
       "    }\n",
       "\n",
       "    .dataframe tbody tr th {\n",
       "        vertical-align: top;\n",
       "    }\n",
       "\n",
       "    .dataframe thead th {\n",
       "        text-align: right;\n",
       "    }\n",
       "</style>\n",
       "<table border=\"1\" class=\"dataframe\">\n",
       "  <thead>\n",
       "    <tr style=\"text-align: right;\">\n",
       "      <th></th>\n",
       "      <th>Accuracy Scores</th>\n",
       "    </tr>\n",
       "  </thead>\n",
       "  <tbody>\n",
       "    <tr>\n",
       "      <th>Extratrees</th>\n",
       "      <td>0.824742</td>\n",
       "    </tr>\n",
       "    <tr>\n",
       "      <th>RandomForest</th>\n",
       "      <td>0.818729</td>\n",
       "    </tr>\n",
       "    <tr>\n",
       "      <th>Adaboost</th>\n",
       "      <td>0.816151</td>\n",
       "    </tr>\n",
       "    <tr>\n",
       "      <th>Bagging</th>\n",
       "      <td>0.816151</td>\n",
       "    </tr>\n",
       "    <tr>\n",
       "      <th>DecisionTree</th>\n",
       "      <td>0.808419</td>\n",
       "    </tr>\n",
       "    <tr>\n",
       "      <th>KNN</th>\n",
       "      <td>0.775773</td>\n",
       "    </tr>\n",
       "    <tr>\n",
       "      <th>Naive</th>\n",
       "      <td>0.702749</td>\n",
       "    </tr>\n",
       "    <tr>\n",
       "      <th>LogisticRegression</th>\n",
       "      <td>0.697595</td>\n",
       "    </tr>\n",
       "    <tr>\n",
       "      <th>SVC</th>\n",
       "      <td>0.665808</td>\n",
       "    </tr>\n",
       "  </tbody>\n",
       "</table>\n",
       "</div>"
      ],
      "text/plain": [
       "                    Accuracy Scores\n",
       "Extratrees                 0.824742\n",
       "RandomForest               0.818729\n",
       "Adaboost                   0.816151\n",
       "Bagging                    0.816151\n",
       "DecisionTree               0.808419\n",
       "KNN                        0.775773\n",
       "Naive                      0.702749\n",
       "LogisticRegression         0.697595\n",
       "SVC                        0.665808"
      ]
     },
     "execution_count": 65,
     "metadata": {},
     "output_type": "execute_result"
    }
   ],
   "source": [
    "pd.DataFrame(accuracy_scores,columns = ['Accuracy Scores'],index = classifiers).sort_values(by = 'Accuracy Scores',\n",
    "                                                                                            ascending = False)"
   ]
  },
  {
   "cell_type": "markdown",
   "id": "1eca1af0",
   "metadata": {},
   "source": [
    "Improvements can be noted in the Naive Bayes and Bagging models, but there's a big drop in the Support Vector Classifier performance. Overall the models seem have greater accuracy with normalization. "
   ]
  }
 ],
 "metadata": {
  "kernelspec": {
   "display_name": "Python 3 (ipykernel)",
   "language": "python",
   "name": "python3"
  },
  "language_info": {
   "codemirror_mode": {
    "name": "ipython",
    "version": 3
   },
   "file_extension": ".py",
   "mimetype": "text/x-python",
   "name": "python",
   "nbconvert_exporter": "python",
   "pygments_lexer": "ipython3",
   "version": "3.7.12"
  }
 },
 "nbformat": 4,
 "nbformat_minor": 5
}
