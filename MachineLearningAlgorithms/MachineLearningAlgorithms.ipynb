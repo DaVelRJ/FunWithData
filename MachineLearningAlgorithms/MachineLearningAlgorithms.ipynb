{
 "cells": [
  {
   "cell_type": "markdown",
   "id": "4c683485",
   "metadata": {},
   "source": [
    "# Machine Learning Algorithms\n",
    "A simple script that analyses a data frame using fundamental statistical learning algorithms and a feed forward neural network. <br>\n",
    "Written by: Da'Vel Reed Johnson"
   ]
  },
  {
   "cell_type": "code",
   "execution_count": 1,
   "id": "489c7e18",
   "metadata": {},
   "outputs": [],
   "source": [
    "#Load Required Modules\n",
    "import os\n",
    "import pandas as pd \n",
    "import numpy as np\n",
    "import matplotlib.pyplot as plt\n",
    "import seaborn as sns\n",
    "%matplotlib inline\n",
    "\n",
    "\n",
    "#Ignore Unnecessary Warnings\n",
    "import warnings\n",
    "warnings.simplefilter(action='ignore', category=FutureWarning)\n",
    "\n",
    "#Set path\n",
    "main_path = os.path.dirname(os.path.abspath(\"__file__\"))"
   ]
  },
  {
   "cell_type": "code",
   "execution_count": 2,
   "id": "8f60bba0",
   "metadata": {},
   "outputs": [],
   "source": [
    "#Opening the data file\n",
    "filename = main_path + '/data/Employee.csv'\n",
    "\n",
    "df = pd.read_csv(filename)"
   ]
  },
  {
   "cell_type": "markdown",
   "id": "9c177412",
   "metadata": {},
   "source": [
    "## Gathering information about the dataframe"
   ]
  },
  {
   "cell_type": "code",
   "execution_count": 3,
   "id": "169e8880",
   "metadata": {},
   "outputs": [
    {
     "name": "stdout",
     "output_type": "stream",
     "text": [
      "<class 'pandas.core.frame.DataFrame'>\n",
      "RangeIndex: 4653 entries, 0 to 4652\n",
      "Data columns (total 9 columns):\n",
      " #   Column                     Non-Null Count  Dtype \n",
      "---  ------                     --------------  ----- \n",
      " 0   Education                  4653 non-null   object\n",
      " 1   JoiningYear                4653 non-null   int64 \n",
      " 2   City                       4653 non-null   object\n",
      " 3   PaymentTier                4653 non-null   int64 \n",
      " 4   Age                        4653 non-null   int64 \n",
      " 5   Gender                     4653 non-null   object\n",
      " 6   EverBenched                4653 non-null   object\n",
      " 7   ExperienceInCurrentDomain  4653 non-null   int64 \n",
      " 8   LeaveOrNot                 4653 non-null   int64 \n",
      "dtypes: int64(5), object(4)\n",
      "memory usage: 327.3+ KB\n"
     ]
    }
   ],
   "source": [
    "df.info()"
   ]
  },
  {
   "cell_type": "code",
   "execution_count": 4,
   "id": "ee2fab03",
   "metadata": {},
   "outputs": [
    {
     "data": {
      "text/html": [
       "<div>\n",
       "<style scoped>\n",
       "    .dataframe tbody tr th:only-of-type {\n",
       "        vertical-align: middle;\n",
       "    }\n",
       "\n",
       "    .dataframe tbody tr th {\n",
       "        vertical-align: top;\n",
       "    }\n",
       "\n",
       "    .dataframe thead th {\n",
       "        text-align: right;\n",
       "    }\n",
       "</style>\n",
       "<table border=\"1\" class=\"dataframe\">\n",
       "  <thead>\n",
       "    <tr style=\"text-align: right;\">\n",
       "      <th></th>\n",
       "      <th>JoiningYear</th>\n",
       "      <th>PaymentTier</th>\n",
       "      <th>Age</th>\n",
       "      <th>ExperienceInCurrentDomain</th>\n",
       "      <th>LeaveOrNot</th>\n",
       "    </tr>\n",
       "  </thead>\n",
       "  <tbody>\n",
       "    <tr>\n",
       "      <th>count</th>\n",
       "      <td>4653.000000</td>\n",
       "      <td>4653.000000</td>\n",
       "      <td>4653.000000</td>\n",
       "      <td>4653.000000</td>\n",
       "      <td>4653.000000</td>\n",
       "    </tr>\n",
       "    <tr>\n",
       "      <th>mean</th>\n",
       "      <td>2015.062970</td>\n",
       "      <td>2.698259</td>\n",
       "      <td>29.393295</td>\n",
       "      <td>2.905652</td>\n",
       "      <td>0.343864</td>\n",
       "    </tr>\n",
       "    <tr>\n",
       "      <th>std</th>\n",
       "      <td>1.863377</td>\n",
       "      <td>0.561435</td>\n",
       "      <td>4.826087</td>\n",
       "      <td>1.558240</td>\n",
       "      <td>0.475047</td>\n",
       "    </tr>\n",
       "    <tr>\n",
       "      <th>min</th>\n",
       "      <td>2012.000000</td>\n",
       "      <td>1.000000</td>\n",
       "      <td>22.000000</td>\n",
       "      <td>0.000000</td>\n",
       "      <td>0.000000</td>\n",
       "    </tr>\n",
       "    <tr>\n",
       "      <th>25%</th>\n",
       "      <td>2013.000000</td>\n",
       "      <td>3.000000</td>\n",
       "      <td>26.000000</td>\n",
       "      <td>2.000000</td>\n",
       "      <td>0.000000</td>\n",
       "    </tr>\n",
       "    <tr>\n",
       "      <th>50%</th>\n",
       "      <td>2015.000000</td>\n",
       "      <td>3.000000</td>\n",
       "      <td>28.000000</td>\n",
       "      <td>3.000000</td>\n",
       "      <td>0.000000</td>\n",
       "    </tr>\n",
       "    <tr>\n",
       "      <th>75%</th>\n",
       "      <td>2017.000000</td>\n",
       "      <td>3.000000</td>\n",
       "      <td>32.000000</td>\n",
       "      <td>4.000000</td>\n",
       "      <td>1.000000</td>\n",
       "    </tr>\n",
       "    <tr>\n",
       "      <th>max</th>\n",
       "      <td>2018.000000</td>\n",
       "      <td>3.000000</td>\n",
       "      <td>41.000000</td>\n",
       "      <td>7.000000</td>\n",
       "      <td>1.000000</td>\n",
       "    </tr>\n",
       "  </tbody>\n",
       "</table>\n",
       "</div>"
      ],
      "text/plain": [
       "       JoiningYear  PaymentTier          Age  ExperienceInCurrentDomain  \\\n",
       "count  4653.000000  4653.000000  4653.000000                4653.000000   \n",
       "mean   2015.062970     2.698259    29.393295                   2.905652   \n",
       "std       1.863377     0.561435     4.826087                   1.558240   \n",
       "min    2012.000000     1.000000    22.000000                   0.000000   \n",
       "25%    2013.000000     3.000000    26.000000                   2.000000   \n",
       "50%    2015.000000     3.000000    28.000000                   3.000000   \n",
       "75%    2017.000000     3.000000    32.000000                   4.000000   \n",
       "max    2018.000000     3.000000    41.000000                   7.000000   \n",
       "\n",
       "        LeaveOrNot  \n",
       "count  4653.000000  \n",
       "mean      0.343864  \n",
       "std       0.475047  \n",
       "min       0.000000  \n",
       "25%       0.000000  \n",
       "50%       0.000000  \n",
       "75%       1.000000  \n",
       "max       1.000000  "
      ]
     },
     "execution_count": 4,
     "metadata": {},
     "output_type": "execute_result"
    }
   ],
   "source": [
    "df.describe()"
   ]
  },
  {
   "cell_type": "code",
   "execution_count": 5,
   "id": "e33ac53e",
   "metadata": {},
   "outputs": [
    {
     "data": {
      "text/html": [
       "<div>\n",
       "<style scoped>\n",
       "    .dataframe tbody tr th:only-of-type {\n",
       "        vertical-align: middle;\n",
       "    }\n",
       "\n",
       "    .dataframe tbody tr th {\n",
       "        vertical-align: top;\n",
       "    }\n",
       "\n",
       "    .dataframe thead th {\n",
       "        text-align: right;\n",
       "    }\n",
       "</style>\n",
       "<table border=\"1\" class=\"dataframe\">\n",
       "  <thead>\n",
       "    <tr style=\"text-align: right;\">\n",
       "      <th></th>\n",
       "      <th>Education</th>\n",
       "      <th>JoiningYear</th>\n",
       "      <th>City</th>\n",
       "      <th>PaymentTier</th>\n",
       "      <th>Age</th>\n",
       "      <th>Gender</th>\n",
       "      <th>EverBenched</th>\n",
       "      <th>ExperienceInCurrentDomain</th>\n",
       "      <th>LeaveOrNot</th>\n",
       "    </tr>\n",
       "  </thead>\n",
       "  <tbody>\n",
       "    <tr>\n",
       "      <th>0</th>\n",
       "      <td>Bachelors</td>\n",
       "      <td>2017</td>\n",
       "      <td>Bangalore</td>\n",
       "      <td>3</td>\n",
       "      <td>34</td>\n",
       "      <td>Male</td>\n",
       "      <td>No</td>\n",
       "      <td>0</td>\n",
       "      <td>0</td>\n",
       "    </tr>\n",
       "    <tr>\n",
       "      <th>1</th>\n",
       "      <td>Bachelors</td>\n",
       "      <td>2013</td>\n",
       "      <td>Pune</td>\n",
       "      <td>1</td>\n",
       "      <td>28</td>\n",
       "      <td>Female</td>\n",
       "      <td>No</td>\n",
       "      <td>3</td>\n",
       "      <td>1</td>\n",
       "    </tr>\n",
       "    <tr>\n",
       "      <th>2</th>\n",
       "      <td>Bachelors</td>\n",
       "      <td>2014</td>\n",
       "      <td>New Delhi</td>\n",
       "      <td>3</td>\n",
       "      <td>38</td>\n",
       "      <td>Female</td>\n",
       "      <td>No</td>\n",
       "      <td>2</td>\n",
       "      <td>0</td>\n",
       "    </tr>\n",
       "    <tr>\n",
       "      <th>3</th>\n",
       "      <td>Masters</td>\n",
       "      <td>2016</td>\n",
       "      <td>Bangalore</td>\n",
       "      <td>3</td>\n",
       "      <td>27</td>\n",
       "      <td>Male</td>\n",
       "      <td>No</td>\n",
       "      <td>5</td>\n",
       "      <td>1</td>\n",
       "    </tr>\n",
       "    <tr>\n",
       "      <th>4</th>\n",
       "      <td>Masters</td>\n",
       "      <td>2017</td>\n",
       "      <td>Pune</td>\n",
       "      <td>3</td>\n",
       "      <td>24</td>\n",
       "      <td>Male</td>\n",
       "      <td>Yes</td>\n",
       "      <td>2</td>\n",
       "      <td>1</td>\n",
       "    </tr>\n",
       "  </tbody>\n",
       "</table>\n",
       "</div>"
      ],
      "text/plain": [
       "   Education  JoiningYear       City  PaymentTier  Age  Gender EverBenched  \\\n",
       "0  Bachelors         2017  Bangalore            3   34    Male          No   \n",
       "1  Bachelors         2013       Pune            1   28  Female          No   \n",
       "2  Bachelors         2014  New Delhi            3   38  Female          No   \n",
       "3    Masters         2016  Bangalore            3   27    Male          No   \n",
       "4    Masters         2017       Pune            3   24    Male         Yes   \n",
       "\n",
       "   ExperienceInCurrentDomain  LeaveOrNot  \n",
       "0                          0           0  \n",
       "1                          3           1  \n",
       "2                          2           0  \n",
       "3                          5           1  \n",
       "4                          2           1  "
      ]
     },
     "execution_count": 5,
     "metadata": {},
     "output_type": "execute_result"
    }
   ],
   "source": [
    "df.head()"
   ]
  },
  {
   "cell_type": "markdown",
   "id": "41e506a5",
   "metadata": {},
   "source": [
    "## Base plots and graphics"
   ]
  },
  {
   "cell_type": "code",
   "execution_count": 6,
   "id": "05198842",
   "metadata": {},
   "outputs": [
    {
     "data": {
      "image/png": "[encoded data removed]",
      "text/plain": [
       "<Figure size 640x480 with 1 Axes>"
      ]
     },
     "metadata": {},
     "output_type": "display_data"
    }
   ],
   "source": [
    "p = sns.countplot(data=df, x = 'City')"
   ]
  },
  {
   "cell_type": "code",
   "execution_count": 7,
   "id": "b7956f20",
   "metadata": {},
   "outputs": [
    {
     "data": {
      "text/plain": [
       "array([[<AxesSubplot:title={'center':'Age'}>]], dtype=object)"
      ]
     },
     "execution_count": 7,
     "metadata": {},
     "output_type": "execute_result"
    },
    {
     "data": {
      "image/png": "[encoded data removed]",
      "text/plain": [
       "<Figure size 640x480 with 1 Axes>"
      ]
     },
     "metadata": {},
     "output_type": "display_data"
    }
   ],
   "source": [
    "df.hist(column='Age')"
   ]
  },
  {
   "cell_type": "code",
   "execution_count": 8,
   "id": "dc3b9290",
   "metadata": {},
   "outputs": [
    {
     "data": {
      "image/png": "[encoded data removed]",
      "text/plain": [
       "<Figure size 800x400 with 1 Axes>"
      ]
     },
     "metadata": {},
     "output_type": "display_data"
    }
   ],
   "source": [
    "from scipy.stats import gaussian_kde\n",
    "\n",
    "# Create histogram data\n",
    "hist_counts, bin_edges = np.histogram(df['Age'], bins=10, density=True)\n",
    "bin_centers = 0.5 * (bin_edges[1:] + bin_edges[:-1])\n",
    "\n",
    "# Adjust the bandwidth\n",
    "bandwidth_factor = 0.1  # Adjust this factor as needed (less than 1 for smaller bandwidth)\n",
    "\n",
    "# Estimate KDE\n",
    "kde = gaussian_kde(df['Age'], bw_method=bandwidth_factor)\n",
    "kde_values = kde(bin_centers)\n",
    "\n",
    "# Plot histogram and KDE\n",
    "plt.figure(figsize=(8, 4))\n",
    "plt.hist(df['Age'], bins=10, density=True, alpha=0.5, label='Histogram')\n",
    "plt.plot(bin_centers, kde_values, label='KDE')\n",
    "plt.legend()\n",
    "plt.show()"
   ]
  },
  {
   "cell_type": "code",
   "execution_count": 9,
   "id": "8b756395",
   "metadata": {},
   "outputs": [
    {
     "data": {
      "text/plain": [
       "<AxesSubplot:ylabel='Education'>"
      ]
     },
     "execution_count": 9,
     "metadata": {},
     "output_type": "execute_result"
    },
    {
     "data": {
      "image/png": "[encoded data removed]",
      "text/plain": [
       "<Figure size 800x700 with 1 Axes>"
      ]
     },
     "metadata": {},
     "output_type": "display_data"
    }
   ],
   "source": [
    "df['Education'].value_counts().plot(kind='pie',figsize=(8, 7), autopct='%1.1f%%',pctdistance=1.1,labeldistance=1.2)"
   ]
  },
  {
   "cell_type": "code",
   "execution_count": 10,
   "id": "481cd4da",
   "metadata": {},
   "outputs": [
    {
     "data": {
      "text/plain": [
       "Education                    0\n",
       "JoiningYear                  0\n",
       "City                         0\n",
       "PaymentTier                  0\n",
       "Age                          0\n",
       "Gender                       0\n",
       "EverBenched                  0\n",
       "ExperienceInCurrentDomain    0\n",
       "LeaveOrNot                   0\n",
       "dtype: int64"
      ]
     },
     "execution_count": 10,
     "metadata": {},
     "output_type": "execute_result"
    }
   ],
   "source": [
    "#Check to see if there are any empty entries\n",
    "df.isnull().sum()"
   ]
  },
  {
   "cell_type": "markdown",
   "id": "5cb3cae1",
   "metadata": {},
   "source": [
    "# Preparing Data for model training"
   ]
  },
  {
   "cell_type": "code",
   "execution_count": 11,
   "id": "fdb55f68",
   "metadata": {},
   "outputs": [],
   "source": [
    "#Assigning features and classes to training variables\n",
    "X = df[['Education','JoiningYear','PaymentTier','Gender','EverBenched','Age','ExperienceInCurrentDomain']]\n",
    "y = df['LeaveOrNot']"
   ]
  },
  {
   "cell_type": "code",
   "execution_count": 12,
   "id": "c9fe9f2a",
   "metadata": {},
   "outputs": [],
   "source": [
    "#Creating dummy variables from categorical variables for numerical analysis\n",
    "df_dummies = pd.get_dummies(X)"
   ]
  },
  {
   "cell_type": "code",
   "execution_count": 13,
   "id": "37a02650",
   "metadata": {},
   "outputs": [
    {
     "data": {
      "text/html": [
       "<div>\n",
       "<style scoped>\n",
       "    .dataframe tbody tr th:only-of-type {\n",
       "        vertical-align: middle;\n",
       "    }\n",
       "\n",
       "    .dataframe tbody tr th {\n",
       "        vertical-align: top;\n",
       "    }\n",
       "\n",
       "    .dataframe thead th {\n",
       "        text-align: right;\n",
       "    }\n",
       "</style>\n",
       "<table border=\"1\" class=\"dataframe\">\n",
       "  <thead>\n",
       "    <tr style=\"text-align: right;\">\n",
       "      <th></th>\n",
       "      <th>JoiningYear</th>\n",
       "      <th>PaymentTier</th>\n",
       "      <th>Age</th>\n",
       "      <th>ExperienceInCurrentDomain</th>\n",
       "      <th>Education_Bachelors</th>\n",
       "      <th>Education_Masters</th>\n",
       "      <th>Education_PHD</th>\n",
       "      <th>Gender_Female</th>\n",
       "      <th>Gender_Male</th>\n",
       "      <th>EverBenched_No</th>\n",
       "      <th>EverBenched_Yes</th>\n",
       "    </tr>\n",
       "  </thead>\n",
       "  <tbody>\n",
       "    <tr>\n",
       "      <th>0</th>\n",
       "      <td>2017</td>\n",
       "      <td>3</td>\n",
       "      <td>34</td>\n",
       "      <td>0</td>\n",
       "      <td>1</td>\n",
       "      <td>0</td>\n",
       "      <td>0</td>\n",
       "      <td>0</td>\n",
       "      <td>1</td>\n",
       "      <td>1</td>\n",
       "      <td>0</td>\n",
       "    </tr>\n",
       "    <tr>\n",
       "      <th>1</th>\n",
       "      <td>2013</td>\n",
       "      <td>1</td>\n",
       "      <td>28</td>\n",
       "      <td>3</td>\n",
       "      <td>1</td>\n",
       "      <td>0</td>\n",
       "      <td>0</td>\n",
       "      <td>1</td>\n",
       "      <td>0</td>\n",
       "      <td>1</td>\n",
       "      <td>0</td>\n",
       "    </tr>\n",
       "    <tr>\n",
       "      <th>2</th>\n",
       "      <td>2014</td>\n",
       "      <td>3</td>\n",
       "      <td>38</td>\n",
       "      <td>2</td>\n",
       "      <td>1</td>\n",
       "      <td>0</td>\n",
       "      <td>0</td>\n",
       "      <td>1</td>\n",
       "      <td>0</td>\n",
       "      <td>1</td>\n",
       "      <td>0</td>\n",
       "    </tr>\n",
       "    <tr>\n",
       "      <th>3</th>\n",
       "      <td>2016</td>\n",
       "      <td>3</td>\n",
       "      <td>27</td>\n",
       "      <td>5</td>\n",
       "      <td>0</td>\n",
       "      <td>1</td>\n",
       "      <td>0</td>\n",
       "      <td>0</td>\n",
       "      <td>1</td>\n",
       "      <td>1</td>\n",
       "      <td>0</td>\n",
       "    </tr>\n",
       "    <tr>\n",
       "      <th>4</th>\n",
       "      <td>2017</td>\n",
       "      <td>3</td>\n",
       "      <td>24</td>\n",
       "      <td>2</td>\n",
       "      <td>0</td>\n",
       "      <td>1</td>\n",
       "      <td>0</td>\n",
       "      <td>0</td>\n",
       "      <td>1</td>\n",
       "      <td>0</td>\n",
       "      <td>1</td>\n",
       "    </tr>\n",
       "  </tbody>\n",
       "</table>\n",
       "</div>"
      ],
      "text/plain": [
       "   JoiningYear  PaymentTier  Age  ExperienceInCurrentDomain  \\\n",
       "0         2017            3   34                          0   \n",
       "1         2013            1   28                          3   \n",
       "2         2014            3   38                          2   \n",
       "3         2016            3   27                          5   \n",
       "4         2017            3   24                          2   \n",
       "\n",
       "   Education_Bachelors  Education_Masters  Education_PHD  Gender_Female  \\\n",
       "0                    1                  0              0              0   \n",
       "1                    1                  0              0              1   \n",
       "2                    1                  0              0              1   \n",
       "3                    0                  1              0              0   \n",
       "4                    0                  1              0              0   \n",
       "\n",
       "   Gender_Male  EverBenched_No  EverBenched_Yes  \n",
       "0            1               1                0  \n",
       "1            0               1                0  \n",
       "2            0               1                0  \n",
       "3            1               1                0  \n",
       "4            1               0                1  "
      ]
     },
     "execution_count": 13,
     "metadata": {},
     "output_type": "execute_result"
    }
   ],
   "source": [
    "df_dummies.head()"
   ]
  },
  {
   "cell_type": "code",
   "execution_count": 14,
   "id": "d880b153",
   "metadata": {},
   "outputs": [
    {
     "name": "stdout",
     "output_type": "stream",
     "text": [
      "Number of columns before deleting: 11\n",
      "Number of columns after deleting: 9\n"
     ]
    }
   ],
   "source": [
    "# Removing Gender and EverBenched for duplication\n",
    "print(f\"Number of columns before deleting: {df_dummies.shape[1]}\")\n",
    "\n",
    "del_cols = ['Gender_Male','EverBenched_No']\n",
    "df_dummies.drop(labels = del_cols,axis = 1,inplace = True)\n",
    "print(f\"Number of columns after deleting: {df_dummies.shape[1]}\")"
   ]
  },
  {
   "cell_type": "code",
   "execution_count": 15,
   "id": "dcf89ec4",
   "metadata": {},
   "outputs": [],
   "source": [
    "#Normalizing data for processing\n",
    "from sklearn.preprocessing import StandardScaler\n",
    "scaler = StandardScaler()\n",
    "df_normalized = pd.DataFrame(scaler.fit_transform(df_dummies), columns=df_dummies.columns)"
   ]
  },
  {
   "cell_type": "code",
   "execution_count": 16,
   "id": "914eaac1",
   "metadata": {},
   "outputs": [
    {
     "data": {
      "text/html": [
       "<div>\n",
       "<style scoped>\n",
       "    .dataframe tbody tr th:only-of-type {\n",
       "        vertical-align: middle;\n",
       "    }\n",
       "\n",
       "    .dataframe tbody tr th {\n",
       "        vertical-align: top;\n",
       "    }\n",
       "\n",
       "    .dataframe thead th {\n",
       "        text-align: right;\n",
       "    }\n",
       "</style>\n",
       "<table border=\"1\" class=\"dataframe\">\n",
       "  <thead>\n",
       "    <tr style=\"text-align: right;\">\n",
       "      <th></th>\n",
       "      <th>JoiningYear</th>\n",
       "      <th>PaymentTier</th>\n",
       "      <th>Age</th>\n",
       "      <th>ExperienceInCurrentDomain</th>\n",
       "      <th>Education_Bachelors</th>\n",
       "      <th>Education_Masters</th>\n",
       "      <th>Education_PHD</th>\n",
       "      <th>Gender_Female</th>\n",
       "      <th>EverBenched_Yes</th>\n",
       "    </tr>\n",
       "  </thead>\n",
       "  <tbody>\n",
       "    <tr>\n",
       "      <th>0</th>\n",
       "      <td>1.039638</td>\n",
       "      <td>0.537503</td>\n",
       "      <td>0.954645</td>\n",
       "      <td>-1.864901</td>\n",
       "      <td>0.540501</td>\n",
       "      <td>-0.480575</td>\n",
       "      <td>-0.200022</td>\n",
       "      <td>-0.821551</td>\n",
       "      <td>-0.338365</td>\n",
       "    </tr>\n",
       "    <tr>\n",
       "      <th>1</th>\n",
       "      <td>-1.107233</td>\n",
       "      <td>-3.025177</td>\n",
       "      <td>-0.288732</td>\n",
       "      <td>0.060554</td>\n",
       "      <td>0.540501</td>\n",
       "      <td>-0.480575</td>\n",
       "      <td>-0.200022</td>\n",
       "      <td>1.217210</td>\n",
       "      <td>-0.338365</td>\n",
       "    </tr>\n",
       "    <tr>\n",
       "      <th>2</th>\n",
       "      <td>-0.570515</td>\n",
       "      <td>0.537503</td>\n",
       "      <td>1.783563</td>\n",
       "      <td>-0.581264</td>\n",
       "      <td>0.540501</td>\n",
       "      <td>-0.480575</td>\n",
       "      <td>-0.200022</td>\n",
       "      <td>1.217210</td>\n",
       "      <td>-0.338365</td>\n",
       "    </tr>\n",
       "    <tr>\n",
       "      <th>3</th>\n",
       "      <td>0.502921</td>\n",
       "      <td>0.537503</td>\n",
       "      <td>-0.495961</td>\n",
       "      <td>1.344191</td>\n",
       "      <td>-1.850136</td>\n",
       "      <td>2.080840</td>\n",
       "      <td>-0.200022</td>\n",
       "      <td>-0.821551</td>\n",
       "      <td>-0.338365</td>\n",
       "    </tr>\n",
       "    <tr>\n",
       "      <th>4</th>\n",
       "      <td>1.039638</td>\n",
       "      <td>0.537503</td>\n",
       "      <td>-1.117650</td>\n",
       "      <td>-0.581264</td>\n",
       "      <td>-1.850136</td>\n",
       "      <td>2.080840</td>\n",
       "      <td>-0.200022</td>\n",
       "      <td>-0.821551</td>\n",
       "      <td>2.955387</td>\n",
       "    </tr>\n",
       "  </tbody>\n",
       "</table>\n",
       "</div>"
      ],
      "text/plain": [
       "   JoiningYear  PaymentTier       Age  ExperienceInCurrentDomain  \\\n",
       "0     1.039638     0.537503  0.954645                  -1.864901   \n",
       "1    -1.107233    -3.025177 -0.288732                   0.060554   \n",
       "2    -0.570515     0.537503  1.783563                  -0.581264   \n",
       "3     0.502921     0.537503 -0.495961                   1.344191   \n",
       "4     1.039638     0.537503 -1.117650                  -0.581264   \n",
       "\n",
       "   Education_Bachelors  Education_Masters  Education_PHD  Gender_Female  \\\n",
       "0             0.540501          -0.480575      -0.200022      -0.821551   \n",
       "1             0.540501          -0.480575      -0.200022       1.217210   \n",
       "2             0.540501          -0.480575      -0.200022       1.217210   \n",
       "3            -1.850136           2.080840      -0.200022      -0.821551   \n",
       "4            -1.850136           2.080840      -0.200022      -0.821551   \n",
       "\n",
       "   EverBenched_Yes  \n",
       "0        -0.338365  \n",
       "1        -0.338365  \n",
       "2        -0.338365  \n",
       "3        -0.338365  \n",
       "4         2.955387  "
      ]
     },
     "execution_count": 16,
     "metadata": {},
     "output_type": "execute_result"
    }
   ],
   "source": [
    "df_normalized.head()"
   ]
  },
  {
   "cell_type": "code",
   "execution_count": 17,
   "id": "6e442f50",
   "metadata": {},
   "outputs": [],
   "source": [
    "#Converting the dependent variable to binary \n",
    "dy = pd.get_dummies(y)"
   ]
  },
  {
   "cell_type": "code",
   "execution_count": 18,
   "id": "9bd978b8",
   "metadata": {},
   "outputs": [
    {
     "data": {
      "text/html": [
       "<div>\n",
       "<style scoped>\n",
       "    .dataframe tbody tr th:only-of-type {\n",
       "        vertical-align: middle;\n",
       "    }\n",
       "\n",
       "    .dataframe tbody tr th {\n",
       "        vertical-align: top;\n",
       "    }\n",
       "\n",
       "    .dataframe thead th {\n",
       "        text-align: right;\n",
       "    }\n",
       "</style>\n",
       "<table border=\"1\" class=\"dataframe\">\n",
       "  <thead>\n",
       "    <tr style=\"text-align: right;\">\n",
       "      <th></th>\n",
       "      <th>0</th>\n",
       "      <th>1</th>\n",
       "    </tr>\n",
       "  </thead>\n",
       "  <tbody>\n",
       "    <tr>\n",
       "      <th>0</th>\n",
       "      <td>1</td>\n",
       "      <td>0</td>\n",
       "    </tr>\n",
       "    <tr>\n",
       "      <th>1</th>\n",
       "      <td>0</td>\n",
       "      <td>1</td>\n",
       "    </tr>\n",
       "    <tr>\n",
       "      <th>2</th>\n",
       "      <td>1</td>\n",
       "      <td>0</td>\n",
       "    </tr>\n",
       "    <tr>\n",
       "      <th>3</th>\n",
       "      <td>0</td>\n",
       "      <td>1</td>\n",
       "    </tr>\n",
       "    <tr>\n",
       "      <th>4</th>\n",
       "      <td>0</td>\n",
       "      <td>1</td>\n",
       "    </tr>\n",
       "  </tbody>\n",
       "</table>\n",
       "</div>"
      ],
      "text/plain": [
       "   0  1\n",
       "0  1  0\n",
       "1  0  1\n",
       "2  1  0\n",
       "3  0  1\n",
       "4  0  1"
      ]
     },
     "execution_count": 18,
     "metadata": {},
     "output_type": "execute_result"
    }
   ],
   "source": [
    "dy.head()"
   ]
  },
  {
   "cell_type": "code",
   "execution_count": 19,
   "id": "47f733d9",
   "metadata": {},
   "outputs": [
    {
     "data": {
      "text/plain": [
       "Int64Index([0, 1], dtype='int64')"
      ]
     },
     "execution_count": 19,
     "metadata": {},
     "output_type": "execute_result"
    }
   ],
   "source": [
    "dy.columns"
   ]
  },
  {
   "cell_type": "code",
   "execution_count": 20,
   "id": "6a745582",
   "metadata": {},
   "outputs": [],
   "source": [
    "dummyy = dy[1]"
   ]
  },
  {
   "cell_type": "code",
   "execution_count": 21,
   "id": "f19d4bbf",
   "metadata": {},
   "outputs": [
    {
     "data": {
      "text/plain": [
       "0    0\n",
       "1    1\n",
       "2    0\n",
       "3    1\n",
       "4    1\n",
       "Name: 1, dtype: uint8"
      ]
     },
     "execution_count": 21,
     "metadata": {},
     "output_type": "execute_result"
    }
   ],
   "source": [
    "dummyy.head()"
   ]
  },
  {
   "cell_type": "markdown",
   "id": "0b1061f2",
   "metadata": {},
   "source": [
    "## Training and Running Fundamental Models"
   ]
  },
  {
   "cell_type": "code",
   "execution_count": 22,
   "id": "c402269e",
   "metadata": {},
   "outputs": [],
   "source": [
    "from sklearn.model_selection import train_test_split"
   ]
  },
  {
   "cell_type": "code",
   "execution_count": 23,
   "id": "6c3f9f13",
   "metadata": {},
   "outputs": [],
   "source": [
    "X_train, X_test, y_train, y_test = train_test_split(df_normalized, dummyy, test_size=0.3, stratify=y)"
   ]
  },
  {
   "cell_type": "markdown",
   "id": "d55ddf30",
   "metadata": {},
   "source": [
    "### Gaussian Naive Bayes"
   ]
  },
  {
   "cell_type": "code",
   "execution_count": 24,
   "id": "a686825d",
   "metadata": {},
   "outputs": [],
   "source": [
    "from sklearn.model_selection import train_test_split\n",
    "from sklearn.naive_bayes import GaussianNB\n",
    "from sklearn.metrics import classification_report"
   ]
  },
  {
   "cell_type": "code",
   "execution_count": 25,
   "id": "17420d4b",
   "metadata": {},
   "outputs": [
    {
     "data": {
      "text/plain": [
       "GaussianNB()"
      ]
     },
     "execution_count": 25,
     "metadata": {},
     "output_type": "execute_result"
    }
   ],
   "source": [
    "# Fit train set for Gaussian Naive Bayes\n",
    "GNB = GaussianNB()\n",
    "GNB.fit(X_train,y_train)"
   ]
  },
  {
   "cell_type": "code",
   "execution_count": 26,
   "id": "bd248377",
   "metadata": {},
   "outputs": [
    {
     "name": "stdout",
     "output_type": "stream",
     "text": [
      "              precision    recall  f1-score   support\n",
      "\n",
      "           0       0.72      0.76      0.74       916\n",
      "           1       0.49      0.44      0.47       480\n",
      "\n",
      "    accuracy                           0.65      1396\n",
      "   macro avg       0.61      0.60      0.60      1396\n",
      "weighted avg       0.64      0.65      0.65      1396\n",
      "\n"
     ]
    }
   ],
   "source": [
    "# Predict for test set\n",
    "GNBy_pred = GNB.predict(X_test)\n",
    "print(classification_report(y_test,GNBy_pred))"
   ]
  },
  {
   "cell_type": "markdown",
   "id": "4636c13f",
   "metadata": {},
   "source": [
    "### Random Forest Classifier"
   ]
  },
  {
   "cell_type": "code",
   "execution_count": 27,
   "id": "ccbb45e2",
   "metadata": {},
   "outputs": [],
   "source": [
    "from sklearn.ensemble import RandomForestClassifier"
   ]
  },
  {
   "cell_type": "code",
   "execution_count": 28,
   "id": "f5661692",
   "metadata": {},
   "outputs": [
    {
     "data": {
      "text/plain": [
       "RandomForestClassifier(max_features='sqrt', n_estimators=600, n_jobs=-1,\n",
       "                       oob_score=True)"
      ]
     },
     "execution_count": 28,
     "metadata": {},
     "output_type": "execute_result"
    }
   ],
   "source": [
    "rfc = RandomForestClassifier(n_estimators=600, max_features='sqrt' , oob_score=True, random_state=None, n_jobs=-1)\n",
    "rfc.fit(X_train,y_train)"
   ]
  },
  {
   "cell_type": "code",
   "execution_count": 29,
   "id": "034b2320",
   "metadata": {},
   "outputs": [],
   "source": [
    "predictions = rfc.predict(X_test)"
   ]
  },
  {
   "cell_type": "code",
   "execution_count": 30,
   "id": "7ca14e3e",
   "metadata": {},
   "outputs": [
    {
     "name": "stdout",
     "output_type": "stream",
     "text": [
      "              precision    recall  f1-score   support\n",
      "\n",
      "           0       0.81      0.89      0.85       916\n",
      "           1       0.75      0.61      0.67       480\n",
      "\n",
      "    accuracy                           0.80      1396\n",
      "   macro avg       0.78      0.75      0.76      1396\n",
      "weighted avg       0.79      0.80      0.79      1396\n",
      "\n"
     ]
    }
   ],
   "source": [
    "from sklearn.metrics import classification_report,confusion_matrix\n",
    "print(classification_report(y_test,predictions))"
   ]
  },
  {
   "cell_type": "code",
   "execution_count": 31,
   "id": "ba487c8d",
   "metadata": {},
   "outputs": [
    {
     "name": "stdout",
     "output_type": "stream",
     "text": [
      "[[818  98]\n",
      " [187 293]]\n"
     ]
    }
   ],
   "source": [
    "print(confusion_matrix(y_test,predictions))"
   ]
  },
  {
   "cell_type": "markdown",
   "id": "24cc8ccf",
   "metadata": {},
   "source": [
    "#### Plotting feature importance"
   ]
  },
  {
   "cell_type": "code",
   "execution_count": 32,
   "id": "1bf6b0a6",
   "metadata": {},
   "outputs": [
    {
     "data": {
      "text/plain": [
       "array([0.36679592, 0.15083207, 0.20706674, 0.09950798, 0.02861508,\n",
       "       0.0380703 , 0.00916082, 0.07798808, 0.02196301])"
      ]
     },
     "execution_count": 32,
     "metadata": {},
     "output_type": "execute_result"
    }
   ],
   "source": [
    "rfc.feature_importances_"
   ]
  },
  {
   "cell_type": "code",
   "execution_count": 33,
   "id": "b2a8a38b",
   "metadata": {},
   "outputs": [],
   "source": [
    "def plot_feature_importance(importance,names,model_type):\n",
    "\n",
    "#Create arrays from feature importance and feature names\n",
    "    feature_importance = np.array(importance)\n",
    "    feature_names = np.array(names)\n",
    "\n",
    "#Create a DataFrame using a Dictionary\n",
    "    data={'feature_names':feature_names,'feature_importance':feature_importance}\n",
    "    fi_df = pd.DataFrame(data)\n",
    "\n",
    "#Sort the DataFrame in order decreasing feature importance\n",
    "    fi_df.sort_values(by=['feature_importance'], ascending=False,inplace=True)\n",
    "\n",
    "#Define size of bar plot\n",
    "    plt.figure(figsize=(100,80))\n",
    "#Plot Searborn bar chart\n",
    "    sns.barplot(x=fi_df['feature_importance'], y=fi_df['feature_names'])\n",
    "#Add chart labels\n",
    "    plt.title(model_type + 'FEATURE IMPORTANCE')\n",
    "    plt.xlabel('FEATURE IMPORTANCE')\n",
    "    plt.ylabel('FEATURE NAMES')"
   ]
  },
  {
   "cell_type": "code",
   "execution_count": 34,
   "id": "48ff7ad3",
   "metadata": {},
   "outputs": [
    {
     "data": {
      "image/png": "[encoded data removed]",
      "text/plain": [
       "<Figure size 500x400 with 1 Axes>"
      ]
     },
     "metadata": {},
     "output_type": "display_data"
    }
   ],
   "source": [
    "plot_feature_importance(rfc.feature_importances_, X_train.columns, 'RANDOM FOREST')\n",
    "plt.title('Random Forest Feature Importance', fontsize=15) \n",
    "plt.xlabel('Feature Importance', fontsize=12)\n",
    "plt.ylabel('Feature Names', fontsize=12)\n",
    "fig = plt.gcf()\n",
    "fig.set_size_inches(5, 4)\n",
    "plt.show()"
   ]
  },
  {
   "cell_type": "markdown",
   "id": "a27985eb",
   "metadata": {},
   "source": [
    "### Gradient Boosting Classifier"
   ]
  },
  {
   "cell_type": "code",
   "execution_count": 35,
   "id": "2486f7a1",
   "metadata": {},
   "outputs": [],
   "source": [
    "from sklearn.metrics import mean_squared_error as MSE\n",
    "from sklearn.ensemble import GradientBoostingClassifier\n",
    "from sklearn.ensemble import GradientBoostingRegressor\n",
    "\n",
    "gb = GradientBoostingClassifier(n_estimators=300,\n",
    "                               max_depth=2,\n",
    "                               learning_rate=0.8)\n",
    "\n",
    "gb.fit(X_train, y_train)\n",
    "gby_pred = gb.predict(X_test)"
   ]
  },
  {
   "cell_type": "markdown",
   "id": "97a43547",
   "metadata": {},
   "source": [
    "#### Finding optimal hyperparameters"
   ]
  },
  {
   "cell_type": "code",
   "execution_count": 36,
   "id": "99bf05a3",
   "metadata": {},
   "outputs": [
    {
     "name": "stdout",
     "output_type": "stream",
     "text": [
      "Optimal hyperparameter combination: {'n_estimators': 350, 'max_depth': 2, 'learning_rate': 0.3}\n"
     ]
    }
   ],
   "source": [
    "hyperparameter_space = {'n_estimators':[300, 350, 400, 450, 500], \n",
    "                        'learning_rate':[0.1, 0.2, 0.3, 0.4, 0.5, 0.6, 0.7, 0.8, 0.9, 1.0],\n",
    "                        'max_depth':[1, 2]}\n",
    "\n",
    "from sklearn.model_selection import RandomizedSearchCV\n",
    "\n",
    "rs = RandomizedSearchCV(GradientBoostingClassifier(), \n",
    "                        param_distributions=hyperparameter_space,\n",
    "                        n_iter=10, scoring=\"neg_root_mean_squared_error\", \n",
    "                        random_state=None, n_jobs=-1, cv=5)\n",
    "\n",
    "\n",
    "rs.fit(X_train, y_train)\n",
    "print(\"Optimal hyperparameter combination:\", rs.best_params_)"
   ]
  },
  {
   "cell_type": "code",
   "execution_count": 37,
   "id": "6244f643",
   "metadata": {},
   "outputs": [
    {
     "name": "stdout",
     "output_type": "stream",
     "text": [
      "              precision    recall  f1-score   support\n",
      "\n",
      "           0       0.81      0.91      0.86       916\n",
      "           1       0.78      0.58      0.67       480\n",
      "\n",
      "    accuracy                           0.80      1396\n",
      "   macro avg       0.79      0.75      0.76      1396\n",
      "weighted avg       0.80      0.80      0.79      1396\n",
      "\n"
     ]
    }
   ],
   "source": [
    "print(classification_report(y_test,gby_pred))"
   ]
  },
  {
   "cell_type": "code",
   "execution_count": 38,
   "id": "d9d90e29",
   "metadata": {},
   "outputs": [
    {
     "name": "stdout",
     "output_type": "stream",
     "text": [
      "[[837  79]\n",
      " [201 279]]\n"
     ]
    }
   ],
   "source": [
    "print(confusion_matrix(y_test,gby_pred))"
   ]
  },
  {
   "cell_type": "markdown",
   "id": "64e3c873",
   "metadata": {},
   "source": [
    "### Extreme Gradient Boosting Classifier"
   ]
  },
  {
   "cell_type": "code",
   "execution_count": 39,
   "id": "b9142678",
   "metadata": {},
   "outputs": [],
   "source": [
    "from xgboost import XGBClassifier\n",
    "from sklearn.metrics import accuracy_score"
   ]
  },
  {
   "cell_type": "code",
   "execution_count": 40,
   "id": "0cb97bd9",
   "metadata": {},
   "outputs": [],
   "source": [
    "xgb = XGBClassifier()\n",
    "#XGB\n",
    "xgb.fit(X_train,y_train)\n",
    "y_pred_xgb = xgb.predict(X_test)"
   ]
  },
  {
   "cell_type": "code",
   "execution_count": 41,
   "id": "92aea4a6",
   "metadata": {},
   "outputs": [
    {
     "name": "stdout",
     "output_type": "stream",
     "text": [
      "              precision    recall  f1-score   support\n",
      "\n",
      "           0       0.82      0.91      0.86       916\n",
      "           1       0.78      0.61      0.69       480\n",
      "\n",
      "    accuracy                           0.81      1396\n",
      "   macro avg       0.80      0.76      0.77      1396\n",
      "weighted avg       0.81      0.81      0.80      1396\n",
      "\n",
      "[[836  80]\n",
      " [188 292]]\n"
     ]
    }
   ],
   "source": [
    "print(classification_report(y_test,y_pred_xgb))\n",
    "print(confusion_matrix(y_test,y_pred_xgb))"
   ]
  },
  {
   "cell_type": "code",
   "execution_count": 42,
   "id": "8ea2ca00",
   "metadata": {},
   "outputs": [
    {
     "name": "stdout",
     "output_type": "stream",
     "text": [
      "Fitting 3 folds for each of 25 candidates, totalling 75 fits\n",
      "Fitting 3 folds for each of 25 candidates, totalling 75 fits\n",
      "Optimal hyperparameter combination: {'reg_lambda': 2, 'n_estimators': 50, 'max_depth': 6, 'gamma': 0.4}\n"
     ]
    }
   ],
   "source": [
    "param_dist = {\n",
    "    'n_estimators': [50, 100, 200],\n",
    "    'max_depth': [3, 4, 5, 6, 7, 8],\n",
    "    'gamma': [0, 0.1, 0.2, 0.3, 0.4],\n",
    "    'reg_lambda': [1, 1.5, 2, 2.5, 3]\n",
    "}\n",
    "\n",
    "xgb = XGBClassifier()\n",
    "rs = RandomizedSearchCV(xgb, param_dist, n_iter=25, scoring='accuracy', cv=3, verbose=1, random_state=42)\n",
    "rs.fit(X_train, y_train)\n",
    "\n",
    "\n",
    "rs.fit(X_train, y_train)\n",
    "print(\"Optimal hyperparameter combination:\", rs.best_params_)"
   ]
  },
  {
   "cell_type": "code",
   "execution_count": 78,
   "id": "7a646005",
   "metadata": {},
   "outputs": [],
   "source": [
    "xgb = XGBClassifier(\n",
    "    n_estimators=50,\n",
    "    reg_lambda=2,\n",
    "    gamma=0.4,\n",
    "    max_depth=6\n",
    ")"
   ]
  },
  {
   "cell_type": "code",
   "execution_count": 79,
   "id": "3eec1d8b",
   "metadata": {},
   "outputs": [],
   "source": [
    "xgb.fit(X_train,y_train)\n",
    "y_pred_xgb = xgb.predict(X_test)"
   ]
  },
  {
   "cell_type": "code",
   "execution_count": 80,
   "id": "53aa3ce7",
   "metadata": {},
   "outputs": [
    {
     "name": "stdout",
     "output_type": "stream",
     "text": [
      "              precision    recall  f1-score   support\n",
      "\n",
      "           0       0.84      0.94      0.88       775\n",
      "           1       0.84      0.63      0.72       389\n",
      "\n",
      "    accuracy                           0.84      1164\n",
      "   macro avg       0.84      0.79      0.80      1164\n",
      "weighted avg       0.84      0.84      0.83      1164\n",
      "\n",
      "[[727  48]\n",
      " [142 247]]\n",
      "Accuracy: 0.8367697594501718\n"
     ]
    }
   ],
   "source": [
    "print(classification_report(y_test,y_pred_xgb))\n",
    "print(confusion_matrix(y_test,y_pred_xgb))\n",
    "# Calculate the accuracy\n",
    "accuracy = accuracy_score(y_test, y_pred_xgb)\n",
    "\n",
    "# Print the accuracy\n",
    "print(\"Accuracy:\", accuracy)"
   ]
  },
  {
   "cell_type": "markdown",
   "id": "bb7cc005",
   "metadata": {},
   "source": [
    "### Feed Forward Neural Network"
   ]
  },
  {
   "cell_type": "code",
   "execution_count": 46,
   "id": "1ff02c62",
   "metadata": {},
   "outputs": [],
   "source": [
    "import torch\n",
    "import torch.nn as nn\n",
    "import torch.nn.functional as F\n",
    "import torch.optim as optim\n",
    "from torch.utils.data import DataLoader, TensorDataset"
   ]
  },
  {
   "cell_type": "code",
   "execution_count": 47,
   "id": "2606c7ec",
   "metadata": {},
   "outputs": [],
   "source": [
    "class BasicNeuralNetwork(nn.Module):\n",
    "    def __init__(self, input_size, hidden_size1, hidden_size2, output_size):\n",
    "        super(BasicNeuralNetwork, self).__init__()\n",
    "        # Define the first hidden layer\n",
    "        self.hidden1 = nn.Linear(input_size, hidden_size1)\n",
    "        \n",
    "        # Define the second hidden layer\n",
    "        self.hidden2 = nn.Linear(hidden_size1, hidden_size2)\n",
    "        \n",
    "        # Define the output layer\n",
    "        self.output = nn.Linear(hidden_size2, output_size)\n",
    "\n",
    "    def forward(self, x):\n",
    "        # Apply a non-linear activation function / ReLU after each hidden layer\n",
    "        x = F.relu(self.hidden1(x))\n",
    "        x = F.relu(self.hidden2(x))\n",
    "        \n",
    "        # The output layer\n",
    "        x = self.output(x)\n",
    "        return x #Use F.softmax(x, dim=1) to apply a softmax for multi-class problems"
   ]
  },
  {
   "cell_type": "markdown",
   "id": "f88db618",
   "metadata": {},
   "source": [
    "#### Designing a Neural Network through rules of thumb"
   ]
  },
  {
   "cell_type": "code",
   "execution_count": 48,
   "id": "9b9a6c02",
   "metadata": {},
   "outputs": [
    {
     "name": "stdout",
     "output_type": "stream",
     "text": [
      "Number of features: 9\n",
      "Output Size: 1\n",
      "Number of neurons: 3\n"
     ]
    }
   ],
   "source": [
    "num_features = df_normalized.shape[1]\n",
    "num_output = 1\n",
    "hidden_size = int((num_features * num_output)**0.5)\n",
    "print(f'Number of features: {num_features}')\n",
    "print(f'Output Size: {num_output}')\n",
    "print(f'Number of neurons: {hidden_size}')"
   ]
  },
  {
   "cell_type": "code",
   "execution_count": 49,
   "id": "3cb98b6e",
   "metadata": {},
   "outputs": [],
   "source": [
    "# Example usage\n",
    "input_size = num_features  # Size of input (number of input features)\n",
    "hidden_size1 = hidden_size #Size of first hidden layer\n",
    "hidden_size2 = hidden_size #Size of second hidden layer\n",
    "output_size = num_output  # Size of output (number of classes for classification)\n",
    "\n",
    "model = BasicNeuralNetwork(input_size, hidden_size1, hidden_size2, output_size)"
   ]
  },
  {
   "cell_type": "code",
   "execution_count": 50,
   "id": "20bf49dc",
   "metadata": {},
   "outputs": [],
   "source": [
    "X_train, X_test, y_train, y_test = train_test_split(df_normalized, dummyy, test_size=0.3, stratify=y)"
   ]
  },
  {
   "cell_type": "code",
   "execution_count": 51,
   "id": "7c283fce",
   "metadata": {},
   "outputs": [
    {
     "name": "stdout",
     "output_type": "stream",
     "text": [
      "Epoch [1/100], Loss: 0.6486, Val Loss: 0.6482, Val Accuracy: 65.62%\n",
      "Epoch [2/100], Loss: 0.6438, Val Loss: 0.6451, Val Accuracy: 65.62%\n",
      "Epoch [3/100], Loss: 0.6411, Val Loss: 0.6425, Val Accuracy: 65.62%\n",
      "Epoch [4/100], Loss: 0.6380, Val Loss: 0.6387, Val Accuracy: 65.62%\n",
      "Epoch [5/100], Loss: 0.6322, Val Loss: 0.6321, Val Accuracy: 65.62%\n",
      "Epoch [6/100], Loss: 0.6241, Val Loss: 0.6239, Val Accuracy: 65.62%\n",
      "Epoch [7/100], Loss: 0.6140, Val Loss: 0.6131, Val Accuracy: 66.48%\n",
      "Epoch [8/100], Loss: 0.6019, Val Loss: 0.6013, Val Accuracy: 71.42%\n",
      "Epoch [9/100], Loss: 0.5891, Val Loss: 0.5866, Val Accuracy: 71.56%\n",
      "Epoch [10/100], Loss: 0.5749, Val Loss: 0.5729, Val Accuracy: 72.49%\n",
      "Epoch [11/100], Loss: 0.5620, Val Loss: 0.5627, Val Accuracy: 73.07%\n",
      "Epoch [12/100], Loss: 0.5534, Val Loss: 0.5563, Val Accuracy: 73.42%\n",
      "Epoch [13/100], Loss: 0.5481, Val Loss: 0.5525, Val Accuracy: 72.71%\n",
      "Epoch [14/100], Loss: 0.5438, Val Loss: 0.5488, Val Accuracy: 72.56%\n",
      "Epoch [15/100], Loss: 0.5401, Val Loss: 0.5450, Val Accuracy: 72.49%\n",
      "Epoch [16/100], Loss: 0.5365, Val Loss: 0.5417, Val Accuracy: 72.35%\n",
      "Epoch [17/100], Loss: 0.5333, Val Loss: 0.5386, Val Accuracy: 72.49%\n",
      "Epoch [18/100], Loss: 0.5302, Val Loss: 0.5361, Val Accuracy: 72.35%\n",
      "Epoch [19/100], Loss: 0.5279, Val Loss: 0.5349, Val Accuracy: 72.13%\n",
      "Epoch [20/100], Loss: 0.5267, Val Loss: 0.5328, Val Accuracy: 72.13%\n",
      "Epoch [21/100], Loss: 0.5244, Val Loss: 0.5313, Val Accuracy: 72.06%\n",
      "Epoch [22/100], Loss: 0.5227, Val Loss: 0.5299, Val Accuracy: 72.56%\n",
      "Epoch [23/100], Loss: 0.5219, Val Loss: 0.5290, Val Accuracy: 72.28%\n",
      "Epoch [24/100], Loss: 0.5202, Val Loss: 0.5280, Val Accuracy: 72.56%\n",
      "Epoch [25/100], Loss: 0.5191, Val Loss: 0.5275, Val Accuracy: 72.49%\n",
      "Epoch [26/100], Loss: 0.5179, Val Loss: 0.5266, Val Accuracy: 72.21%\n",
      "Epoch [27/100], Loss: 0.5169, Val Loss: 0.5257, Val Accuracy: 72.21%\n",
      "Epoch [28/100], Loss: 0.5157, Val Loss: 0.5248, Val Accuracy: 72.42%\n",
      "Epoch [29/100], Loss: 0.5150, Val Loss: 0.5244, Val Accuracy: 72.21%\n",
      "Epoch [30/100], Loss: 0.5143, Val Loss: 0.5236, Val Accuracy: 72.28%\n",
      "Epoch [31/100], Loss: 0.5138, Val Loss: 0.5235, Val Accuracy: 72.21%\n",
      "Epoch [32/100], Loss: 0.5133, Val Loss: 0.5231, Val Accuracy: 72.06%\n",
      "Epoch [33/100], Loss: 0.5126, Val Loss: 0.5226, Val Accuracy: 71.99%\n",
      "Epoch [34/100], Loss: 0.5120, Val Loss: 0.5223, Val Accuracy: 72.28%\n",
      "Epoch [35/100], Loss: 0.5116, Val Loss: 0.5222, Val Accuracy: 72.13%\n",
      "Epoch [36/100], Loss: 0.5116, Val Loss: 0.5217, Val Accuracy: 71.99%\n",
      "Epoch [37/100], Loss: 0.5105, Val Loss: 0.5214, Val Accuracy: 72.13%\n",
      "Epoch [38/100], Loss: 0.5108, Val Loss: 0.5214, Val Accuracy: 71.99%\n",
      "Epoch [39/100], Loss: 0.5097, Val Loss: 0.5203, Val Accuracy: 72.13%\n",
      "Epoch [40/100], Loss: 0.5092, Val Loss: 0.5202, Val Accuracy: 72.28%\n",
      "Epoch [41/100], Loss: 0.5089, Val Loss: 0.5200, Val Accuracy: 72.42%\n",
      "Epoch [42/100], Loss: 0.5084, Val Loss: 0.5196, Val Accuracy: 72.42%\n",
      "Epoch [43/100], Loss: 0.5079, Val Loss: 0.5195, Val Accuracy: 72.42%\n",
      "Epoch [44/100], Loss: 0.5074, Val Loss: 0.5192, Val Accuracy: 72.64%\n",
      "Epoch [45/100], Loss: 0.5070, Val Loss: 0.5188, Val Accuracy: 72.42%\n",
      "Epoch [46/100], Loss: 0.5069, Val Loss: 0.5189, Val Accuracy: 72.64%\n",
      "Epoch [47/100], Loss: 0.5066, Val Loss: 0.5186, Val Accuracy: 72.78%\n",
      "Epoch [48/100], Loss: 0.5062, Val Loss: 0.5186, Val Accuracy: 72.92%\n",
      "Epoch [49/100], Loss: 0.5061, Val Loss: 0.5180, Val Accuracy: 72.64%\n",
      "Epoch [50/100], Loss: 0.5058, Val Loss: 0.5177, Val Accuracy: 72.99%\n",
      "Epoch [51/100], Loss: 0.5054, Val Loss: 0.5180, Val Accuracy: 73.21%\n",
      "Epoch [52/100], Loss: 0.5054, Val Loss: 0.5178, Val Accuracy: 72.64%\n",
      "Epoch [53/100], Loss: 0.5049, Val Loss: 0.5176, Val Accuracy: 74.07%\n",
      "Epoch [54/100], Loss: 0.5047, Val Loss: 0.5172, Val Accuracy: 73.64%\n",
      "Epoch [55/100], Loss: 0.5043, Val Loss: 0.5175, Val Accuracy: 74.57%\n",
      "Epoch [56/100], Loss: 0.5043, Val Loss: 0.5171, Val Accuracy: 73.78%\n",
      "Epoch [57/100], Loss: 0.5042, Val Loss: 0.5170, Val Accuracy: 73.78%\n",
      "Epoch [58/100], Loss: 0.5039, Val Loss: 0.5172, Val Accuracy: 74.64%\n",
      "Epoch [59/100], Loss: 0.5035, Val Loss: 0.5167, Val Accuracy: 75.14%\n",
      "Epoch [60/100], Loss: 0.5035, Val Loss: 0.5167, Val Accuracy: 74.64%\n",
      "Epoch [61/100], Loss: 0.5029, Val Loss: 0.5165, Val Accuracy: 74.79%\n",
      "Epoch [62/100], Loss: 0.5032, Val Loss: 0.5166, Val Accuracy: 74.64%\n",
      "Epoch [63/100], Loss: 0.5032, Val Loss: 0.5160, Val Accuracy: 75.29%\n",
      "Epoch [64/100], Loss: 0.5028, Val Loss: 0.5163, Val Accuracy: 75.07%\n",
      "Epoch [65/100], Loss: 0.5028, Val Loss: 0.5160, Val Accuracy: 75.00%\n",
      "Epoch [66/100], Loss: 0.5026, Val Loss: 0.5159, Val Accuracy: 75.07%\n",
      "Epoch [67/100], Loss: 0.5022, Val Loss: 0.5159, Val Accuracy: 74.93%\n",
      "Epoch [68/100], Loss: 0.5023, Val Loss: 0.5156, Val Accuracy: 75.21%\n",
      "Epoch [69/100], Loss: 0.5021, Val Loss: 0.5160, Val Accuracy: 74.79%\n",
      "Epoch [70/100], Loss: 0.5018, Val Loss: 0.5156, Val Accuracy: 74.86%\n",
      "Epoch [71/100], Loss: 0.5014, Val Loss: 0.5155, Val Accuracy: 75.07%\n",
      "Epoch [72/100], Loss: 0.5011, Val Loss: 0.5154, Val Accuracy: 74.93%\n",
      "Epoch [73/100], Loss: 0.5012, Val Loss: 0.5152, Val Accuracy: 74.86%\n",
      "Epoch [74/100], Loss: 0.5012, Val Loss: 0.5147, Val Accuracy: 75.14%\n",
      "Epoch [75/100], Loss: 0.5004, Val Loss: 0.5149, Val Accuracy: 74.93%\n",
      "Epoch [76/100], Loss: 0.5006, Val Loss: 0.5143, Val Accuracy: 74.71%\n",
      "Epoch [77/100], Loss: 0.5002, Val Loss: 0.5143, Val Accuracy: 75.14%\n",
      "Epoch [78/100], Loss: 0.5003, Val Loss: 0.5142, Val Accuracy: 74.93%\n",
      "Epoch [79/100], Loss: 0.5000, Val Loss: 0.5139, Val Accuracy: 74.93%\n",
      "Epoch [80/100], Loss: 0.4998, Val Loss: 0.5142, Val Accuracy: 75.07%\n",
      "Epoch [81/100], Loss: 0.4996, Val Loss: 0.5137, Val Accuracy: 74.93%\n",
      "Epoch [82/100], Loss: 0.4993, Val Loss: 0.5137, Val Accuracy: 75.21%\n",
      "Epoch [83/100], Loss: 0.4989, Val Loss: 0.5137, Val Accuracy: 75.14%\n",
      "Epoch [84/100], Loss: 0.4992, Val Loss: 0.5131, Val Accuracy: 75.36%\n",
      "Epoch [85/100], Loss: 0.4990, Val Loss: 0.5131, Val Accuracy: 75.14%\n",
      "Epoch [86/100], Loss: 0.4986, Val Loss: 0.5129, Val Accuracy: 74.93%\n",
      "Epoch [87/100], Loss: 0.4983, Val Loss: 0.5129, Val Accuracy: 75.14%\n",
      "Epoch [88/100], Loss: 0.4987, Val Loss: 0.5124, Val Accuracy: 75.00%\n",
      "Epoch [89/100], Loss: 0.4978, Val Loss: 0.5121, Val Accuracy: 75.00%\n",
      "Epoch [90/100], Loss: 0.4982, Val Loss: 0.5120, Val Accuracy: 75.21%\n",
      "Epoch [91/100], Loss: 0.4976, Val Loss: 0.5121, Val Accuracy: 75.29%\n",
      "Epoch [92/100], Loss: 0.4981, Val Loss: 0.5113, Val Accuracy: 75.50%\n",
      "Epoch [93/100], Loss: 0.4971, Val Loss: 0.5115, Val Accuracy: 75.00%\n",
      "Epoch [94/100], Loss: 0.4971, Val Loss: 0.5115, Val Accuracy: 75.07%\n",
      "Epoch [95/100], Loss: 0.4969, Val Loss: 0.5112, Val Accuracy: 75.36%\n",
      "Epoch [96/100], Loss: 0.4969, Val Loss: 0.5115, Val Accuracy: 74.79%\n",
      "Epoch [97/100], Loss: 0.4972, Val Loss: 0.5114, Val Accuracy: 75.07%\n",
      "Epoch [98/100], Loss: 0.4963, Val Loss: 0.5115, Val Accuracy: 74.71%\n",
      "Epoch [99/100], Loss: 0.4962, Val Loss: 0.5109, Val Accuracy: 75.07%\n",
      "Epoch [100/100], Loss: 0.4960, Val Loss: 0.5106, Val Accuracy: 75.43%\n",
      "Accuracy of the model on the test set: 75.43%\n"
     ]
    }
   ],
   "source": [
    "# Convert data to PyTorch tensors\n",
    "X_train_tensor = torch.tensor(X_train.values, dtype=torch.float32)\n",
    "y_train_tensor = torch.tensor(y_train.values, dtype=torch.float32)\n",
    "X_test_tensor = torch.tensor(X_test.values, dtype=torch.float32)\n",
    "y_test_tensor = torch.tensor(y_test.values, dtype=torch.float32)\n",
    "\n",
    "# Create datasets\n",
    "train_dataset = TensorDataset(X_train_tensor, y_train_tensor)\n",
    "test_dataset = TensorDataset(X_test_tensor, y_test_tensor)\n",
    "\n",
    "# Data Loaders\n",
    "batch_size = 64  # Define your batch size\n",
    "train_loader = DataLoader(dataset=train_dataset, batch_size=batch_size, shuffle=True)\n",
    "test_loader = DataLoader(dataset=test_dataset, batch_size=batch_size, shuffle=False)\n",
    "\n",
    "# Initialize the model, loss function, and optimizer\n",
    "model = BasicNeuralNetwork(input_size, hidden_size1, hidden_size2, output_size)\n",
    "criterion = nn.BCEWithLogitsLoss()\n",
    "#For binary classification, use nn.BCEWithLogitsLoss and for multi-class, use nn.CrossEntropyLoss. \n",
    "\n",
    "optimizer = optim.Adam(model.parameters(), lr=0.001)\n",
    "\n",
    "# Lists to store metrics\n",
    "epoch_losses = []\n",
    "epoch_accuracies = []\n",
    "val_epoch_losses = []\n",
    "val_epoch_accuracies = []\n",
    "\n",
    "\n",
    "# Training Loop\n",
    "num_iterations = 100  # Define the number of epochs\n",
    "for epoch in range(num_iterations):\n",
    "    model.train()\n",
    "    total_loss = 0\n",
    "    for inputs, targets in train_loader:\n",
    "        # Zero the parameter gradients\n",
    "        optimizer.zero_grad()\n",
    "        \n",
    "        # Forward pass\n",
    "        outputs = model(inputs)\n",
    "        outputs = outputs.squeeze() \n",
    "        \n",
    "        # Compute the loss\n",
    "        loss = criterion(outputs, targets)\n",
    "        \n",
    "        # Backward pass and optimize\n",
    "        loss.backward()\n",
    "        optimizer.step()\n",
    "        total_loss += loss.item()\n",
    "\n",
    "    avg_loss = total_loss / len(train_loader)\n",
    "    epoch_losses.append(avg_loss)\n",
    "\n",
    "# Testing Loop Adjustment for Binary Classification\n",
    "    model.eval()\n",
    "    val_total_loss = 0\n",
    "    correct = 0\n",
    "    total = 0\n",
    "    with torch.no_grad():\n",
    "        correct = 0\n",
    "        total = 0\n",
    "        for inputs, targets in test_loader:\n",
    "            outputs = model(inputs)\n",
    "            outputs = outputs.squeeze()\n",
    "            val_loss = criterion(outputs, targets)\n",
    "            val_total_loss += val_loss.item() \n",
    "        # Threshold the outputs to get binary predictions\n",
    "            predicted = outputs > 0  # or use a different threshold like 0.5\n",
    "            total += targets.size(0)\n",
    "            correct += (predicted == targets).sum().item()\n",
    "    accuracy = 100 * correct / total\n",
    "    epoch_accuracies.append(accuracy)\n",
    "    avg_val_loss = val_total_loss / len(test_loader)\n",
    "    val_epoch_losses.append(avg_val_loss)\n",
    "    val_accuracy = 100 * correct / total\n",
    "    val_epoch_accuracies.append(val_accuracy)\n",
    "    \n",
    "    print(f'Epoch [{epoch+1}/{num_iterations}], Loss: {avg_loss:.4f}, Val Loss: {avg_val_loss:.4f}, Val Accuracy: {val_accuracy:.2f}%')\n",
    "        \n",
    "print(f'Accuracy of the model on the test set: {accuracy:.2f}%')"
   ]
  },
  {
   "cell_type": "code",
   "execution_count": 52,
   "id": "3367cefa",
   "metadata": {},
   "outputs": [
    {
     "data": {
      "image/png": "[encoded data removed]",
      "text/plain": [
       "<Figure size 1200x500 with 2 Axes>"
      ]
     },
     "metadata": {},
     "output_type": "display_data"
    }
   ],
   "source": [
    "# Plotting Loss and Accuracy\n",
    "plt.figure(figsize=(12, 5))\n",
    "\n",
    "# Plotting training loss\n",
    "plt.subplot(1, 2, 1)\n",
    "plt.plot(range(1, num_iterations + 1), epoch_losses, label='Training Loss', color=\"blue\")\n",
    "plt.plot(range(1, num_iterations + 1), val_epoch_losses, label=\"Validation Loss\", color=\"orange\")\n",
    "plt.xlabel('Epoch')\n",
    "plt.ylabel('Loss')\n",
    "plt.title('Training Loss Per Epoch')\n",
    "plt.legend()\n",
    "\n",
    "# Plotting accuracy\n",
    "plt.subplot(1, 2, 2)\n",
    "plt.plot(range(1, num_iterations + 1), val_epoch_accuracies, label='Testing Accuracy')\n",
    "plt.xlabel('Epoch')\n",
    "plt.ylabel('Accuracy')\n",
    "plt.title('Testing Accuracy Per Epoch')\n",
    "plt.legend()\n",
    "\n",
    "plt.tight_layout()\n",
    "plt.show()"
   ]
  },
  {
   "cell_type": "markdown",
   "id": "8a0c2770",
   "metadata": {},
   "source": [
    "#### Designing a Neural Network through trial and error"
   ]
  },
  {
   "cell_type": "code",
   "execution_count": 53,
   "id": "2feb0962",
   "metadata": {},
   "outputs": [],
   "source": [
    "class TE_NeuralNetwork(nn.Module):\n",
    "    def __init__(self, input_size, hidden_size1, hidden_size2, hidden_size3, output_size):\n",
    "        super(TE_NeuralNetwork, self).__init__()\n",
    "        \n",
    "        self.hidden1 = nn.Linear(input_size, hidden_size1)\n",
    "        self.hidden2 = nn.Linear(hidden_size1, hidden_size2)\n",
    "        self.hidden3 = nn.Linear(hidden_size2, hidden_size3)\n",
    "        \n",
    "        # Define the output layer\n",
    "        self.output = nn.Linear(hidden_size3, output_size)\n",
    "\n",
    "    def forward(self, x):\n",
    "        # Apply a non-linear activation function / ReLU after each hidden layer\n",
    "        x = F.relu(self.hidden1(x))\n",
    "        x = F.relu(self.hidden2(x))\n",
    "        x = F.relu(self.hidden3(x))\n",
    "        \n",
    "        # The output layer\n",
    "        x = self.output(x)\n",
    "        return x "
   ]
  },
  {
   "cell_type": "code",
   "execution_count": 54,
   "id": "dd1f5d09",
   "metadata": {},
   "outputs": [
    {
     "name": "stdout",
     "output_type": "stream",
     "text": [
      "Number of features: 9\n",
      "Output Size: 1\n",
      "Number of neurons: 45\n",
      "Number of neurons layer 3: 9\n"
     ]
    }
   ],
   "source": [
    "num_features = df_normalized.shape[1]\n",
    "hidden_size = 45\n",
    "hidden_step = 9\n",
    "num_output = 1\n",
    "print(f'Number of features: {num_features}')\n",
    "print(f'Output Size: {num_output}')\n",
    "print(f'Number of neurons: {hidden_size}')\n",
    "print(f'Number of neurons layer 3: {hidden_step}')"
   ]
  },
  {
   "cell_type": "code",
   "execution_count": 55,
   "id": "6b073a62",
   "metadata": {},
   "outputs": [],
   "source": [
    "# Example usage\n",
    "input_size = num_features  # Size of input (number of input features)\n",
    "hidden_size1 = hidden_size #Size of first hidden layer\n",
    "hidden_size2 = hidden_size #Size of second hidden layer\n",
    "hidden_size3 = hidden_step #Size of third hidden layer\n",
    "output_size = num_output  # Size of output (number of classes for classification)\n",
    "\n",
    "model = TE_NeuralNetwork(input_size, hidden_size1, hidden_size2, hidden_size3, output_size)"
   ]
  },
  {
   "cell_type": "code",
   "execution_count": 56,
   "id": "1cf45678",
   "metadata": {},
   "outputs": [
    {
     "name": "stdout",
     "output_type": "stream",
     "text": [
      "Accuracy of the model on the test set: 81.23%\n"
     ]
    }
   ],
   "source": [
    "# Data Loaders\n",
    "batch_size = 64  # Define your batch size\n",
    "train_loader = DataLoader(dataset=train_dataset, batch_size=batch_size, shuffle=True)\n",
    "test_loader = DataLoader(dataset=test_dataset, batch_size=batch_size, shuffle=False)\n",
    "\n",
    "# Initialize the model, loss function, and optimizer\n",
    "model = TE_NeuralNetwork(input_size, hidden_size1, hidden_size2, hidden_size3, output_size)\n",
    "criterion = nn.BCEWithLogitsLoss()\n",
    "#For binary classification, use nn.BCEWithLogitsLoss and for multi-class, use nn.CrossEntropyLoss. \n",
    "\n",
    "optimizer = optim.Adam(model.parameters(), lr=0.001)\n",
    "\n",
    "\n",
    "# Training Loop\n",
    "num_iterations = 128  # Define the number of epochs\n",
    "def train_and_evaluate_model(model, train_loader, test_loader, optimizer, criterion, num_iterations):\n",
    "    epoch_losses = []\n",
    "    epoch_accuracies = []\n",
    "    val_epoch_losses = []\n",
    "    val_epoch_accuracies = []\n",
    "\n",
    "    for epoch in range(num_iterations):\n",
    "        # Training Loop\n",
    "        model.train()\n",
    "        total_loss = 0\n",
    "        for inputs, targets in train_loader:\n",
    "            optimizer.zero_grad()\n",
    "            outputs = model(inputs)\n",
    "            outputs = outputs.squeeze()\n",
    "            loss = criterion(outputs, targets)\n",
    "            loss.backward()\n",
    "            optimizer.step()\n",
    "            total_loss += loss.item()\n",
    "        avg_loss = total_loss / len(train_loader)\n",
    "        epoch_losses.append(avg_loss)\n",
    "\n",
    "        # Testing Loop\n",
    "        model.eval()\n",
    "        val_total_loss = 0\n",
    "        correct = 0\n",
    "        total = 0\n",
    "        with torch.no_grad():\n",
    "            for inputs, targets in test_loader:\n",
    "                outputs = model(inputs)\n",
    "                outputs = outputs.squeeze()\n",
    "                val_loss = criterion(outputs, targets)\n",
    "                val_total_loss += val_loss.item() \n",
    "                predicted = outputs > 0  # Adjust the threshold as needed\n",
    "                total += targets.size(0)\n",
    "                correct += (predicted == targets).sum().item()\n",
    "        accuracy = 100 * correct / total\n",
    "        epoch_accuracies.append(accuracy)\n",
    "        avg_val_loss = val_total_loss / len(test_loader)\n",
    "        val_epoch_losses.append(avg_val_loss)\n",
    "        val_accuracy = 100 * correct / total\n",
    "        val_epoch_accuracies.append(val_accuracy)\n",
    "    return epoch_losses, epoch_accuracies, val_epoch_losses, val_epoch_accuracies\n",
    "\n",
    "epoch_losses, epoch_accuracies, val_epoch_losses, val_epoch_accuracies = train_and_evaluate_model(model, train_loader, test_loader, optimizer, criterion, num_iterations)\n",
    "\n",
    "# Print the final accuracy\n",
    "print(f'Accuracy of the model on the test set: {epoch_accuracies[-1]:.2f}%')"
   ]
  },
  {
   "cell_type": "code",
   "execution_count": 57,
   "id": "85fb7709",
   "metadata": {},
   "outputs": [
    {
     "data": {
      "image/png": "[encoded data removed]",
      "text/plain": [
       "<Figure size 1200x500 with 2 Axes>"
      ]
     },
     "metadata": {},
     "output_type": "display_data"
    }
   ],
   "source": [
    "# Plotting Loss and Accuracy\n",
    "plt.figure(figsize=(12, 5))\n",
    "\n",
    "# Plotting training loss\n",
    "plt.subplot(1, 2, 1)\n",
    "plt.plot(range(1, num_iterations + 1), epoch_losses, label='Training Loss', color=\"blue\")\n",
    "plt.plot(range(1, num_iterations + 1), val_epoch_losses, label=\"Validation Loss\", color=\"orange\")\n",
    "plt.xlabel('Epoch')\n",
    "plt.ylabel('Loss')\n",
    "plt.title('Training Loss Per Epoch')\n",
    "plt.legend()\n",
    "\n",
    "# Plotting accuracy\n",
    "plt.subplot(1, 2, 2)\n",
    "plt.plot(range(1, num_iterations + 1), val_epoch_accuracies, label='Testing Accuracy')\n",
    "plt.xlabel('Epoch')\n",
    "plt.ylabel('Accuracy')\n",
    "plt.title('Testing Accuracy Per Epoch')\n",
    "plt.legend()\n",
    "\n",
    "plt.tight_layout()\n",
    "plt.show()"
   ]
  },
  {
   "cell_type": "markdown",
   "id": "9650735f",
   "metadata": {},
   "source": [
    "We appear to reach maximum accuracy at around 40 to 60 Epochs. This is also where the Validation loss begins to level off or increase indicating model overfit."
   ]
  },
  {
   "cell_type": "code",
   "execution_count": 58,
   "id": "6eebc94a",
   "metadata": {},
   "outputs": [
    {
     "name": "stdout",
     "output_type": "stream",
     "text": [
      "Accuracy of the model on the test set: 81.52%\n"
     ]
    }
   ],
   "source": [
    "num_iterations = 50\n",
    "epoch_losses, epoch_accuracies, val_epoch_losses, val_epoch_accuracies = train_and_evaluate_model(model, train_loader, test_loader, optimizer, criterion, num_iterations)\n",
    "\n",
    "# Print the final accuracy\n",
    "print(f'Accuracy of the model on the test set: {epoch_accuracies[-1]:.2f}%')"
   ]
  },
  {
   "cell_type": "markdown",
   "id": "29936c2f",
   "metadata": {},
   "source": [
    "### Training and Testing Additional Machine Learning Algorithms\n",
    "Adapted from <a href='https://github.com/pooja2512/Adult-Census-Income/blob/master/Adult%20Census%20Income.ipynb' target=\"_blank\">Pooja Joshi</a>"
   ]
  },
  {
   "cell_type": "code",
   "execution_count": 59,
   "id": "6ae8547a",
   "metadata": {},
   "outputs": [],
   "source": [
    "from sklearn.model_selection import train_test_split,cross_val_score,GridSearchCV\n",
    "from sklearn.linear_model import LogisticRegression\n",
    "from sklearn.tree import DecisionTreeClassifier\n",
    "from sklearn.svm import SVC\n",
    "from sklearn.neighbors import KNeighborsClassifier\n",
    "from sklearn.ensemble import RandomForestClassifier,AdaBoostClassifier,BaggingClassifier,ExtraTreesClassifier\n",
    "from sklearn.naive_bayes import GaussianNB\n",
    "from sklearn.metrics import accuracy_score,confusion_matrix,classification_report,roc_curve, auc\n",
    "from datetime import datetime\n",
    "from sklearn.feature_selection import RFE"
   ]
  },
  {
   "cell_type": "code",
   "execution_count": 69,
   "id": "60f28aff",
   "metadata": {},
   "outputs": [],
   "source": [
    "X_train,X_test,y_train,y_test = train_test_split(df_normalized, dummyy,test_size =0.25,random_state = 42)"
   ]
  },
  {
   "cell_type": "code",
   "execution_count": 70,
   "id": "7e4f2bdb",
   "metadata": {},
   "outputs": [],
   "source": [
    "#Instantiate the classifiers\n",
    "clf_logreg = LogisticRegression()\n",
    "clf_tree = DecisionTreeClassifier()\n",
    "clf_knn =  KNeighborsClassifier()\n",
    "clf_svc = SVC()\n",
    "clf_forest = RandomForestClassifier()\n",
    "clf_ada = AdaBoostClassifier()\n",
    "clf_bagging = BaggingClassifier()\n",
    "clf_extratrees = ExtraTreesClassifier()\n",
    "clf_gnb = GaussianNB()"
   ]
  },
  {
   "cell_type": "code",
   "execution_count": 71,
   "id": "bc4e28aa",
   "metadata": {},
   "outputs": [],
   "source": [
    "classifiers = ['LogisticRegression', 'DecisionTree', 'KNN', 'SVC', 'RandomForest', 'Adaboost', 'Bagging', 'Extratrees', 'Naive']"
   ]
  },
  {
   "cell_type": "code",
   "execution_count": 72,
   "id": "b45bc693",
   "metadata": {},
   "outputs": [],
   "source": [
    "models = {clf_logreg:'LogisticRegression',\n",
    "          clf_tree:'DecisionTree',\n",
    "          clf_knn: 'KNN',\n",
    "          clf_svc: 'SVC',\n",
    "          clf_forest: 'RandomForest',\n",
    "          clf_ada: 'Adaboost',\n",
    "          clf_bagging: 'Bagging',\n",
    "          clf_extratrees:'Extratrees' ,\n",
    "          clf_gnb: 'Naive'}"
   ]
  },
  {
   "cell_type": "code",
   "execution_count": 73,
   "id": "e74baa99",
   "metadata": {},
   "outputs": [
    {
     "name": "stdout",
     "output_type": "stream",
     "text": [
      "--------------------------------------------LogisticRegression---------------------------------------------------\n",
      "Accuracy Score for LogisticRegression: 70.6186%\n",
      "Null Accuracy: 66.5808%\n",
      "Confusion Matrix\n",
      "[[694  81]\n",
      " [261 128]]\n",
      "+++++++++++++++++++++++++++++++++++++++++++++++++++++++++++++++++++++++++++\n",
      "Accuracy Score: 70.6186%\n",
      "Recall Score: 32.9049%\n",
      "Specificity Score: 89.5484%\n",
      "False Positive Rate: 10.4516%\n",
      "Precision Score: 61.2440%\n",
      "+++++++++++++++++++++++++++++++++++++++++++++++++++++++++++++++++++++++++++\n",
      "Classification Report\n",
      "              precision    recall  f1-score   support\n",
      "\n",
      "           0       0.73      0.90      0.80       775\n",
      "           1       0.61      0.33      0.43       389\n",
      "\n",
      "    accuracy                           0.71      1164\n",
      "   macro avg       0.67      0.61      0.62      1164\n",
      "weighted avg       0.69      0.71      0.68      1164\n",
      "\n",
      "--------------------------------------------DecisionTree---------------------------------------------------\n",
      "Accuracy Score for DecisionTree: 81.2715%\n",
      "Null Accuracy: 66.5808%\n",
      "Confusion Matrix\n",
      "[[691  84]\n",
      " [134 255]]\n",
      "+++++++++++++++++++++++++++++++++++++++++++++++++++++++++++++++++++++++++++\n",
      "Accuracy Score: 81.2715%\n",
      "Recall Score: 65.5527%\n",
      "Specificity Score: 89.1613%\n",
      "False Positive Rate: 10.8387%\n",
      "Precision Score: 75.2212%\n",
      "+++++++++++++++++++++++++++++++++++++++++++++++++++++++++++++++++++++++++++\n",
      "Classification Report\n",
      "              precision    recall  f1-score   support\n",
      "\n",
      "           0       0.84      0.89      0.86       775\n",
      "           1       0.75      0.66      0.70       389\n",
      "\n",
      "    accuracy                           0.81      1164\n",
      "   macro avg       0.79      0.77      0.78      1164\n",
      "weighted avg       0.81      0.81      0.81      1164\n",
      "\n",
      "--------------------------------------------KNN---------------------------------------------------\n",
      "Accuracy Score for KNN: 80.0687%\n",
      "Null Accuracy: 66.5808%\n",
      "Confusion Matrix\n",
      "[[693  82]\n",
      " [150 239]]\n",
      "+++++++++++++++++++++++++++++++++++++++++++++++++++++++++++++++++++++++++++\n",
      "Accuracy Score: 80.0687%\n",
      "Recall Score: 61.4396%\n",
      "Specificity Score: 89.4194%\n",
      "False Positive Rate: 10.5806%\n",
      "Precision Score: 74.4548%\n",
      "+++++++++++++++++++++++++++++++++++++++++++++++++++++++++++++++++++++++++++\n",
      "Classification Report\n",
      "              precision    recall  f1-score   support\n",
      "\n",
      "           0       0.82      0.89      0.86       775\n",
      "           1       0.74      0.61      0.67       389\n",
      "\n",
      "    accuracy                           0.80      1164\n",
      "   macro avg       0.78      0.75      0.76      1164\n",
      "weighted avg       0.80      0.80      0.80      1164\n",
      "\n",
      "--------------------------------------------SVC---------------------------------------------------\n",
      "Accuracy Score for SVC: 82.0447%\n",
      "Null Accuracy: 66.5808%\n",
      "Confusion Matrix\n",
      "[[728  47]\n",
      " [162 227]]\n",
      "+++++++++++++++++++++++++++++++++++++++++++++++++++++++++++++++++++++++++++\n",
      "Accuracy Score: 82.0447%\n",
      "Recall Score: 58.3548%\n",
      "Specificity Score: 93.9355%\n",
      "False Positive Rate: 6.0645%\n",
      "Precision Score: 82.8467%\n",
      "+++++++++++++++++++++++++++++++++++++++++++++++++++++++++++++++++++++++++++\n",
      "Classification Report\n",
      "              precision    recall  f1-score   support\n",
      "\n",
      "           0       0.82      0.94      0.87       775\n",
      "           1       0.83      0.58      0.68       389\n",
      "\n",
      "    accuracy                           0.82      1164\n",
      "   macro avg       0.82      0.76      0.78      1164\n",
      "weighted avg       0.82      0.82      0.81      1164\n",
      "\n",
      "--------------------------------------------RandomForest---------------------------------------------------\n",
      "Accuracy Score for RandomForest: 82.3883%\n",
      "Null Accuracy: 66.5808%\n",
      "Confusion Matrix\n",
      "[[701  74]\n",
      " [131 258]]\n",
      "+++++++++++++++++++++++++++++++++++++++++++++++++++++++++++++++++++++++++++\n",
      "Accuracy Score: 82.3883%\n",
      "Recall Score: 66.3239%\n",
      "Specificity Score: 90.4516%\n",
      "False Positive Rate: 9.5484%\n",
      "Precision Score: 77.7108%\n",
      "+++++++++++++++++++++++++++++++++++++++++++++++++++++++++++++++++++++++++++\n",
      "Classification Report\n",
      "              precision    recall  f1-score   support\n",
      "\n",
      "           0       0.84      0.90      0.87       775\n",
      "           1       0.78      0.66      0.72       389\n",
      "\n",
      "    accuracy                           0.82      1164\n",
      "   macro avg       0.81      0.78      0.79      1164\n",
      "weighted avg       0.82      0.82      0.82      1164\n",
      "\n",
      "--------------------------------------------Adaboost---------------------------------------------------\n",
      "Accuracy Score for Adaboost: 81.6151%\n",
      "Null Accuracy: 66.5808%\n",
      "Confusion Matrix\n",
      "[[731  44]\n",
      " [170 219]]\n",
      "+++++++++++++++++++++++++++++++++++++++++++++++++++++++++++++++++++++++++++\n",
      "Accuracy Score: 81.6151%\n",
      "Recall Score: 56.2982%\n",
      "Specificity Score: 94.3226%\n",
      "False Positive Rate: 5.6774%\n",
      "Precision Score: 83.2700%\n",
      "+++++++++++++++++++++++++++++++++++++++++++++++++++++++++++++++++++++++++++\n",
      "Classification Report\n",
      "              precision    recall  f1-score   support\n",
      "\n",
      "           0       0.81      0.94      0.87       775\n",
      "           1       0.83      0.56      0.67       389\n",
      "\n",
      "    accuracy                           0.82      1164\n",
      "   macro avg       0.82      0.75      0.77      1164\n",
      "weighted avg       0.82      0.82      0.81      1164\n",
      "\n",
      "--------------------------------------------Bagging---------------------------------------------------\n",
      "Accuracy Score for Bagging: 80.6701%\n",
      "Null Accuracy: 66.5808%\n",
      "Confusion Matrix\n",
      "[[681  94]\n",
      " [131 258]]\n",
      "+++++++++++++++++++++++++++++++++++++++++++++++++++++++++++++++++++++++++++\n",
      "Accuracy Score: 80.6701%\n",
      "Recall Score: 66.3239%\n",
      "Specificity Score: 87.8710%\n",
      "False Positive Rate: 12.1290%\n",
      "Precision Score: 73.2955%\n",
      "+++++++++++++++++++++++++++++++++++++++++++++++++++++++++++++++++++++++++++\n",
      "Classification Report\n",
      "              precision    recall  f1-score   support\n",
      "\n",
      "           0       0.84      0.88      0.86       775\n",
      "           1       0.73      0.66      0.70       389\n",
      "\n",
      "    accuracy                           0.81      1164\n",
      "   macro avg       0.79      0.77      0.78      1164\n",
      "weighted avg       0.80      0.81      0.80      1164\n",
      "\n",
      "--------------------------------------------Extratrees---------------------------------------------------\n",
      "Accuracy Score for Extratrees: 82.0447%\n",
      "Null Accuracy: 66.5808%\n",
      "Confusion Matrix\n",
      "[[697  78]\n",
      " [131 258]]\n",
      "+++++++++++++++++++++++++++++++++++++++++++++++++++++++++++++++++++++++++++\n",
      "Accuracy Score: 82.0447%\n",
      "Recall Score: 66.3239%\n",
      "Specificity Score: 89.9355%\n",
      "False Positive Rate: 10.0645%\n",
      "Precision Score: 76.7857%\n",
      "+++++++++++++++++++++++++++++++++++++++++++++++++++++++++++++++++++++++++++\n",
      "Classification Report\n",
      "              precision    recall  f1-score   support\n",
      "\n",
      "           0       0.84      0.90      0.87       775\n",
      "           1       0.77      0.66      0.71       389\n",
      "\n",
      "    accuracy                           0.82      1164\n",
      "   macro avg       0.80      0.78      0.79      1164\n",
      "weighted avg       0.82      0.82      0.82      1164\n",
      "\n",
      "--------------------------------------------Naive---------------------------------------------------\n",
      "Accuracy Score for Naive: 64.9485%\n",
      "Null Accuracy: 66.5808%\n",
      "Confusion Matrix\n",
      "[[580 195]\n",
      " [213 176]]\n",
      "+++++++++++++++++++++++++++++++++++++++++++++++++++++++++++++++++++++++++++\n",
      "Accuracy Score: 64.9485%\n",
      "Recall Score: 45.2442%\n",
      "Specificity Score: 74.8387%\n",
      "False Positive Rate: 25.1613%\n",
      "Precision Score: 47.4394%\n",
      "+++++++++++++++++++++++++++++++++++++++++++++++++++++++++++++++++++++++++++\n",
      "Classification Report\n",
      "              precision    recall  f1-score   support\n",
      "\n",
      "           0       0.73      0.75      0.74       775\n",
      "           1       0.47      0.45      0.46       389\n",
      "\n",
      "    accuracy                           0.65      1164\n",
      "   macro avg       0.60      0.60      0.60      1164\n",
      "weighted avg       0.65      0.65      0.65      1164\n",
      "\n"
     ]
    }
   ],
   "source": [
    "# train function fits the model and returns accuracy score\n",
    "def train(algo,name,X_train,y_train,X_test,y_test):\n",
    "    algo.fit(X_train,y_train)\n",
    "    y_pred = algo.predict(X_test)\n",
    "    score = accuracy_score(y_test,y_pred)\n",
    "    print(f\"--------------------------------------------{name}---------------------------------------------------\")\n",
    "    print(f\"Accuracy Score for {name}: {score*100:.4f}%\")\n",
    "    return y_test,y_pred,score\n",
    "\n",
    "# acc_res function calculates confusion matrix\n",
    "def acc_res(y_test,y_pred):\n",
    "    null_accuracy = y_test.value_counts()[0]/len(y_test)\n",
    "    print(f\"Null Accuracy: {null_accuracy*100:.4f}%\")\n",
    "    print(\"Confusion Matrix\")\n",
    "    matrix = confusion_matrix(y_test,y_pred)\n",
    "    print(matrix)\n",
    "    print(\"+++++++++++++++++++++++++++++++++++++++++++++++++++++++++++++++++++++++++++\")\n",
    "    TN = matrix[0,0]\n",
    "    FP = matrix[0,1]\n",
    "    FN = matrix[1,0]\n",
    "    TP = matrix[1,1]\n",
    "    accuracy_score=(TN+TP) / float(TP+TN+FP+FN)\n",
    "    recall_score = (TP)/ float(TP+FN)\n",
    "    specificity = TN / float(TN+FP)\n",
    "    FPR = FP / float(FP+TN)\n",
    "    precision_score = TP / float(TP+FP)\n",
    "    print(f\"Accuracy Score: {accuracy_score*100:.4f}%\")\n",
    "    print(f\"Recall Score: {recall_score*100:.4f}%\")\n",
    "    print(f\"Specificity Score: {specificity*100:.4f}%\")\n",
    "    print(f\"False Positive Rate: {FPR*100:.4f}%\")\n",
    "    print(f\"Precision Score: {precision_score*100:.4f}%\")\n",
    "    print(\"+++++++++++++++++++++++++++++++++++++++++++++++++++++++++++++++++++++++++++\")\n",
    "    print(\"Classification Report\")\n",
    "    print(classification_report(y_test,y_pred))\n",
    "    \n",
    "def main(models):\n",
    "    accuracy_scores = []\n",
    "    for algo,name in models.items():\n",
    "        y_test_train,y_pred,acc_score = train(algo,name,X_train,y_train,X_test,y_test)\n",
    "        acc_res(y_test_train,y_pred)\n",
    "        accuracy_scores.append(acc_score)\n",
    "    return accuracy_scores\n",
    "    \n",
    "accuracy_scores = main(models)"
   ]
  },
  {
   "cell_type": "code",
   "execution_count": 74,
   "id": "246590ab",
   "metadata": {},
   "outputs": [
    {
     "data": {
      "text/html": [
       "<div>\n",
       "<style scoped>\n",
       "    .dataframe tbody tr th:only-of-type {\n",
       "        vertical-align: middle;\n",
       "    }\n",
       "\n",
       "    .dataframe tbody tr th {\n",
       "        vertical-align: top;\n",
       "    }\n",
       "\n",
       "    .dataframe thead th {\n",
       "        text-align: right;\n",
       "    }\n",
       "</style>\n",
       "<table border=\"1\" class=\"dataframe\">\n",
       "  <thead>\n",
       "    <tr style=\"text-align: right;\">\n",
       "      <th></th>\n",
       "      <th>Accuracy Scores</th>\n",
       "    </tr>\n",
       "  </thead>\n",
       "  <tbody>\n",
       "    <tr>\n",
       "      <th>RandomForest</th>\n",
       "      <td>0.823883</td>\n",
       "    </tr>\n",
       "    <tr>\n",
       "      <th>SVC</th>\n",
       "      <td>0.820447</td>\n",
       "    </tr>\n",
       "    <tr>\n",
       "      <th>Extratrees</th>\n",
       "      <td>0.820447</td>\n",
       "    </tr>\n",
       "    <tr>\n",
       "      <th>Adaboost</th>\n",
       "      <td>0.816151</td>\n",
       "    </tr>\n",
       "    <tr>\n",
       "      <th>DecisionTree</th>\n",
       "      <td>0.812715</td>\n",
       "    </tr>\n",
       "    <tr>\n",
       "      <th>Bagging</th>\n",
       "      <td>0.806701</td>\n",
       "    </tr>\n",
       "    <tr>\n",
       "      <th>KNN</th>\n",
       "      <td>0.800687</td>\n",
       "    </tr>\n",
       "    <tr>\n",
       "      <th>LogisticRegression</th>\n",
       "      <td>0.706186</td>\n",
       "    </tr>\n",
       "    <tr>\n",
       "      <th>Naive</th>\n",
       "      <td>0.649485</td>\n",
       "    </tr>\n",
       "  </tbody>\n",
       "</table>\n",
       "</div>"
      ],
      "text/plain": [
       "                    Accuracy Scores\n",
       "RandomForest               0.823883\n",
       "SVC                        0.820447\n",
       "Extratrees                 0.820447\n",
       "Adaboost                   0.816151\n",
       "DecisionTree               0.812715\n",
       "Bagging                    0.806701\n",
       "KNN                        0.800687\n",
       "LogisticRegression         0.706186\n",
       "Naive                      0.649485"
      ]
     },
     "execution_count": 74,
     "metadata": {},
     "output_type": "execute_result"
    }
   ],
   "source": [
    "pd.DataFrame(accuracy_scores,columns = ['Accuracy Scores'],index = classifiers).sort_values(by = 'Accuracy Scores',\n",
    "                                                                                            ascending = False)"
   ]
  },
  {
   "cell_type": "markdown",
   "id": "406d7f60",
   "metadata": {},
   "source": [
    "A Random Forest appears to perform the best of the common models but still under perform XGBoost."
   ]
  },
  {
   "cell_type": "markdown",
   "id": "dd9850eb",
   "metadata": {},
   "source": [
    "#### Running the models without normalization or dropping features"
   ]
  },
  {
   "cell_type": "code",
   "execution_count": 75,
   "id": "30587423",
   "metadata": {},
   "outputs": [],
   "source": [
    "X_train,X_test,y_train,y_test = train_test_split(pd.get_dummies(X), dummyy,test_size =0.25,random_state = 42)"
   ]
  },
  {
   "cell_type": "code",
   "execution_count": 76,
   "id": "5740a42b",
   "metadata": {},
   "outputs": [
    {
     "name": "stdout",
     "output_type": "stream",
     "text": [
      "--------------------------------------------LogisticRegression---------------------------------------------------\n",
      "Accuracy Score for LogisticRegression: 69.7595%\n",
      "Null Accuracy: 66.5808%\n",
      "Confusion Matrix\n",
      "[[697  78]\n",
      " [274 115]]\n",
      "+++++++++++++++++++++++++++++++++++++++++++++++++++++++++++++++++++++++++++\n",
      "Accuracy Score: 69.7595%\n",
      "Recall Score: 29.5630%\n",
      "Specificity Score: 89.9355%\n",
      "False Positive Rate: 10.0645%\n",
      "Precision Score: 59.5855%\n",
      "+++++++++++++++++++++++++++++++++++++++++++++++++++++++++++++++++++++++++++\n",
      "Classification Report\n",
      "              precision    recall  f1-score   support\n",
      "\n",
      "           0       0.72      0.90      0.80       775\n",
      "           1       0.60      0.30      0.40       389\n",
      "\n",
      "    accuracy                           0.70      1164\n",
      "   macro avg       0.66      0.60      0.60      1164\n",
      "weighted avg       0.68      0.70      0.66      1164\n",
      "\n",
      "--------------------------------------------DecisionTree---------------------------------------------------\n",
      "Accuracy Score for DecisionTree: 80.4983%\n",
      "Null Accuracy: 66.5808%\n",
      "Confusion Matrix\n",
      "[[684  91]\n",
      " [136 253]]\n",
      "+++++++++++++++++++++++++++++++++++++++++++++++++++++++++++++++++++++++++++\n",
      "Accuracy Score: 80.4983%\n",
      "Recall Score: 65.0386%\n",
      "Specificity Score: 88.2581%\n",
      "False Positive Rate: 11.7419%\n",
      "Precision Score: 73.5465%\n",
      "+++++++++++++++++++++++++++++++++++++++++++++++++++++++++++++++++++++++++++\n",
      "Classification Report\n",
      "              precision    recall  f1-score   support\n",
      "\n",
      "           0       0.83      0.88      0.86       775\n",
      "           1       0.74      0.65      0.69       389\n",
      "\n",
      "    accuracy                           0.80      1164\n",
      "   macro avg       0.78      0.77      0.77      1164\n",
      "weighted avg       0.80      0.80      0.80      1164\n",
      "\n",
      "--------------------------------------------KNN---------------------------------------------------\n",
      "Accuracy Score for KNN: 77.5773%\n",
      "Null Accuracy: 66.5808%\n",
      "Confusion Matrix\n",
      "[[687  88]\n",
      " [173 216]]\n",
      "+++++++++++++++++++++++++++++++++++++++++++++++++++++++++++++++++++++++++++\n",
      "Accuracy Score: 77.5773%\n",
      "Recall Score: 55.5270%\n",
      "Specificity Score: 88.6452%\n",
      "False Positive Rate: 11.3548%\n",
      "Precision Score: 71.0526%\n",
      "+++++++++++++++++++++++++++++++++++++++++++++++++++++++++++++++++++++++++++\n",
      "Classification Report\n",
      "              precision    recall  f1-score   support\n",
      "\n",
      "           0       0.80      0.89      0.84       775\n",
      "           1       0.71      0.56      0.62       389\n",
      "\n",
      "    accuracy                           0.78      1164\n",
      "   macro avg       0.75      0.72      0.73      1164\n",
      "weighted avg       0.77      0.78      0.77      1164\n",
      "\n",
      "--------------------------------------------SVC---------------------------------------------------\n",
      "Accuracy Score for SVC: 66.5808%\n",
      "Null Accuracy: 66.5808%\n",
      "Confusion Matrix\n",
      "[[775   0]\n",
      " [389   0]]\n",
      "+++++++++++++++++++++++++++++++++++++++++++++++++++++++++++++++++++++++++++\n",
      "Accuracy Score: 66.5808%\n",
      "Recall Score: 0.0000%\n",
      "Specificity Score: 100.0000%\n",
      "False Positive Rate: 0.0000%\n",
      "Precision Score: nan%\n",
      "+++++++++++++++++++++++++++++++++++++++++++++++++++++++++++++++++++++++++++\n",
      "Classification Report\n",
      "              precision    recall  f1-score   support\n",
      "\n",
      "           0       0.67      1.00      0.80       775\n",
      "           1       0.00      0.00      0.00       389\n",
      "\n",
      "    accuracy                           0.67      1164\n",
      "   macro avg       0.33      0.50      0.40      1164\n",
      "weighted avg       0.44      0.67      0.53      1164\n",
      "\n",
      "--------------------------------------------RandomForest---------------------------------------------------\n",
      "Accuracy Score for RandomForest: 81.5292%\n",
      "Null Accuracy: 66.5808%\n",
      "Confusion Matrix\n",
      "[[688  87]\n",
      " [128 261]]\n",
      "+++++++++++++++++++++++++++++++++++++++++++++++++++++++++++++++++++++++++++\n",
      "Accuracy Score: 81.5292%\n",
      "Recall Score: 67.0951%\n",
      "Specificity Score: 88.7742%\n",
      "False Positive Rate: 11.2258%\n",
      "Precision Score: 75.0000%\n",
      "+++++++++++++++++++++++++++++++++++++++++++++++++++++++++++++++++++++++++++\n",
      "Classification Report\n",
      "              precision    recall  f1-score   support\n",
      "\n",
      "           0       0.84      0.89      0.86       775\n",
      "           1       0.75      0.67      0.71       389\n",
      "\n",
      "    accuracy                           0.82      1164\n",
      "   macro avg       0.80      0.78      0.79      1164\n",
      "weighted avg       0.81      0.82      0.81      1164\n",
      "\n",
      "--------------------------------------------Adaboost---------------------------------------------------\n",
      "Accuracy Score for Adaboost: 81.6151%\n",
      "Null Accuracy: 66.5808%\n",
      "Confusion Matrix\n",
      "[[731  44]\n",
      " [170 219]]\n",
      "+++++++++++++++++++++++++++++++++++++++++++++++++++++++++++++++++++++++++++\n",
      "Accuracy Score: 81.6151%\n",
      "Recall Score: 56.2982%\n",
      "Specificity Score: 94.3226%\n",
      "False Positive Rate: 5.6774%\n",
      "Precision Score: 83.2700%\n",
      "+++++++++++++++++++++++++++++++++++++++++++++++++++++++++++++++++++++++++++\n",
      "Classification Report\n",
      "              precision    recall  f1-score   support\n",
      "\n",
      "           0       0.81      0.94      0.87       775\n",
      "           1       0.83      0.56      0.67       389\n",
      "\n",
      "    accuracy                           0.82      1164\n",
      "   macro avg       0.82      0.75      0.77      1164\n",
      "weighted avg       0.82      0.82      0.81      1164\n",
      "\n",
      "--------------------------------------------Bagging---------------------------------------------------\n",
      "Accuracy Score for Bagging: 81.0137%\n",
      "Null Accuracy: 66.5808%\n",
      "Confusion Matrix\n",
      "[[683  92]\n",
      " [129 260]]\n",
      "+++++++++++++++++++++++++++++++++++++++++++++++++++++++++++++++++++++++++++\n",
      "Accuracy Score: 81.0137%\n",
      "Recall Score: 66.8380%\n",
      "Specificity Score: 88.1290%\n",
      "False Positive Rate: 11.8710%\n",
      "Precision Score: 73.8636%\n",
      "+++++++++++++++++++++++++++++++++++++++++++++++++++++++++++++++++++++++++++\n",
      "Classification Report\n",
      "              precision    recall  f1-score   support\n",
      "\n",
      "           0       0.84      0.88      0.86       775\n",
      "           1       0.74      0.67      0.70       389\n",
      "\n",
      "    accuracy                           0.81      1164\n",
      "   macro avg       0.79      0.77      0.78      1164\n",
      "weighted avg       0.81      0.81      0.81      1164\n",
      "\n",
      "--------------------------------------------Extratrees---------------------------------------------------\n",
      "Accuracy Score for Extratrees: 82.0447%\n",
      "Null Accuracy: 66.5808%\n",
      "Confusion Matrix\n",
      "[[698  77]\n",
      " [132 257]]\n",
      "+++++++++++++++++++++++++++++++++++++++++++++++++++++++++++++++++++++++++++\n",
      "Accuracy Score: 82.0447%\n",
      "Recall Score: 66.0668%\n",
      "Specificity Score: 90.0645%\n",
      "False Positive Rate: 9.9355%\n",
      "Precision Score: 76.9461%\n",
      "+++++++++++++++++++++++++++++++++++++++++++++++++++++++++++++++++++++++++++\n",
      "Classification Report\n",
      "              precision    recall  f1-score   support\n",
      "\n",
      "           0       0.84      0.90      0.87       775\n",
      "           1       0.77      0.66      0.71       389\n",
      "\n",
      "    accuracy                           0.82      1164\n",
      "   macro avg       0.81      0.78      0.79      1164\n",
      "weighted avg       0.82      0.82      0.82      1164\n",
      "\n",
      "--------------------------------------------Naive---------------------------------------------------\n",
      "Accuracy Score for Naive: 70.2749%\n",
      "Null Accuracy: 66.5808%\n",
      "Confusion Matrix\n",
      "[[605 170]\n",
      " [176 213]]\n",
      "+++++++++++++++++++++++++++++++++++++++++++++++++++++++++++++++++++++++++++\n",
      "Accuracy Score: 70.2749%\n",
      "Recall Score: 54.7558%\n",
      "Specificity Score: 78.0645%\n",
      "False Positive Rate: 21.9355%\n",
      "Precision Score: 55.6136%\n",
      "+++++++++++++++++++++++++++++++++++++++++++++++++++++++++++++++++++++++++++\n",
      "Classification Report\n",
      "              precision    recall  f1-score   support\n",
      "\n",
      "           0       0.77      0.78      0.78       775\n",
      "           1       0.56      0.55      0.55       389\n",
      "\n",
      "    accuracy                           0.70      1164\n",
      "   macro avg       0.67      0.66      0.66      1164\n",
      "weighted avg       0.70      0.70      0.70      1164\n",
      "\n"
     ]
    }
   ],
   "source": [
    "warnings.simplefilter(action='ignore', category=RuntimeWarning)\n",
    "import sklearn.exceptions\n",
    "warnings.simplefilter(action='ignore', category=sklearn.exceptions.UndefinedMetricWarning)\n",
    "\n",
    "# train function fits the model and returns accuracy score\n",
    "def train(algo,name,X_train,y_train,X_test,y_test):\n",
    "    algo.fit(X_train,y_train)\n",
    "    y_pred = algo.predict(X_test)\n",
    "    score = accuracy_score(y_test,y_pred)\n",
    "    print(f\"--------------------------------------------{name}---------------------------------------------------\")\n",
    "    print(f\"Accuracy Score for {name}: {score*100:.4f}%\")\n",
    "    return y_test,y_pred,score\n",
    "\n",
    "# acc_res function calculates confusion matrix\n",
    "def acc_res(y_test,y_pred):\n",
    "    null_accuracy = y_test.value_counts()[0]/len(y_test)\n",
    "    print(f\"Null Accuracy: {null_accuracy*100:.4f}%\")\n",
    "    print(\"Confusion Matrix\")\n",
    "    matrix = confusion_matrix(y_test,y_pred)\n",
    "    print(matrix)\n",
    "    print(\"+++++++++++++++++++++++++++++++++++++++++++++++++++++++++++++++++++++++++++\")\n",
    "    TN = matrix[0,0]\n",
    "    FP = matrix[0,1]\n",
    "    FN = matrix[1,0]\n",
    "    TP = matrix[1,1]\n",
    "    accuracy_score=(TN+TP) / float(TP+TN+FP+FN)\n",
    "    recall_score = (TP)/ float(TP+FN)\n",
    "    specificity = TN / float(TN+FP)\n",
    "    FPR = FP / float(FP+TN)\n",
    "    precision_score = TP / float(TP+FP)\n",
    "    print(f\"Accuracy Score: {accuracy_score*100:.4f}%\")\n",
    "    print(f\"Recall Score: {recall_score*100:.4f}%\")\n",
    "    print(f\"Specificity Score: {specificity*100:.4f}%\")\n",
    "    print(f\"False Positive Rate: {FPR*100:.4f}%\")\n",
    "    print(f\"Precision Score: {precision_score*100:.4f}%\")\n",
    "    print(\"+++++++++++++++++++++++++++++++++++++++++++++++++++++++++++++++++++++++++++\")\n",
    "    print(\"Classification Report\")\n",
    "    print(classification_report(y_test,y_pred))\n",
    "    \n",
    "def main(models):\n",
    "    accuracy_scores = []\n",
    "    for algo,name in models.items():\n",
    "        y_test_train,y_pred,acc_score = train(algo,name,X_train,y_train,X_test,y_test)\n",
    "        acc_res(y_test_train,y_pred)\n",
    "        accuracy_scores.append(acc_score)\n",
    "    return accuracy_scores\n",
    "    \n",
    "accuracy_scores = main(models)"
   ]
  },
  {
   "cell_type": "code",
   "execution_count": 77,
   "id": "492a017a",
   "metadata": {},
   "outputs": [
    {
     "data": {
      "text/html": [
       "<div>\n",
       "<style scoped>\n",
       "    .dataframe tbody tr th:only-of-type {\n",
       "        vertical-align: middle;\n",
       "    }\n",
       "\n",
       "    .dataframe tbody tr th {\n",
       "        vertical-align: top;\n",
       "    }\n",
       "\n",
       "    .dataframe thead th {\n",
       "        text-align: right;\n",
       "    }\n",
       "</style>\n",
       "<table border=\"1\" class=\"dataframe\">\n",
       "  <thead>\n",
       "    <tr style=\"text-align: right;\">\n",
       "      <th></th>\n",
       "      <th>Accuracy Scores</th>\n",
       "    </tr>\n",
       "  </thead>\n",
       "  <tbody>\n",
       "    <tr>\n",
       "      <th>Extratrees</th>\n",
       "      <td>0.820447</td>\n",
       "    </tr>\n",
       "    <tr>\n",
       "      <th>Adaboost</th>\n",
       "      <td>0.816151</td>\n",
       "    </tr>\n",
       "    <tr>\n",
       "      <th>RandomForest</th>\n",
       "      <td>0.815292</td>\n",
       "    </tr>\n",
       "    <tr>\n",
       "      <th>Bagging</th>\n",
       "      <td>0.810137</td>\n",
       "    </tr>\n",
       "    <tr>\n",
       "      <th>DecisionTree</th>\n",
       "      <td>0.804983</td>\n",
       "    </tr>\n",
       "    <tr>\n",
       "      <th>KNN</th>\n",
       "      <td>0.775773</td>\n",
       "    </tr>\n",
       "    <tr>\n",
       "      <th>Naive</th>\n",
       "      <td>0.702749</td>\n",
       "    </tr>\n",
       "    <tr>\n",
       "      <th>LogisticRegression</th>\n",
       "      <td>0.697595</td>\n",
       "    </tr>\n",
       "    <tr>\n",
       "      <th>SVC</th>\n",
       "      <td>0.665808</td>\n",
       "    </tr>\n",
       "  </tbody>\n",
       "</table>\n",
       "</div>"
      ],
      "text/plain": [
       "                    Accuracy Scores\n",
       "Extratrees                 0.820447\n",
       "Adaboost                   0.816151\n",
       "RandomForest               0.815292\n",
       "Bagging                    0.810137\n",
       "DecisionTree               0.804983\n",
       "KNN                        0.775773\n",
       "Naive                      0.702749\n",
       "LogisticRegression         0.697595\n",
       "SVC                        0.665808"
      ]
     },
     "execution_count": 77,
     "metadata": {},
     "output_type": "execute_result"
    }
   ],
   "source": [
    "pd.DataFrame(accuracy_scores,columns = ['Accuracy Scores'],index = classifiers).sort_values(by = 'Accuracy Scores',\n",
    "                                                                                            ascending = False)"
   ]
  },
  {
   "cell_type": "markdown",
   "id": "3ae95188",
   "metadata": {},
   "source": [
    "Improvements can be noted in the Naive Bayes and Bagging models, but there's a big drop in the Support Vector Classifier performance. Overall the models seem have greater accuracy with normalization. "
   ]
  }
 ],
 "metadata": {
  "kernelspec": {
   "display_name": "Python 3 (ipykernel)",
   "language": "python",
   "name": "python3"
  },
  "language_info": {
   "codemirror_mode": {
    "name": "ipython",
    "version": 3
   },
   "file_extension": ".py",
   "mimetype": "text/x-python",
   "name": "python",
   "nbconvert_exporter": "python",
   "pygments_lexer": "ipython3",
   "version": "3.7.12"
  }
 },
 "nbformat": 4,
 "nbformat_minor": 5
}
